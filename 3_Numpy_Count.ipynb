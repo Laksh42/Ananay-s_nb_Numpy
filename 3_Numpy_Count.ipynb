{
 "cells": [
  {
   "cell_type": "code",
   "execution_count": null,
   "metadata": {},
   "outputs": [],
   "source": []
  },
  {
   "cell_type": "code",
   "execution_count": 3,
   "metadata": {
    "scrolled": true
   },
   "outputs": [
    {
     "name": "stdout",
     "output_type": "stream",
     "text": [
      "[['1' 'Angeli' 'Mapes' 'amapes0@chronoengine.com' 'Male']\n",
      " ['2' 'Petronille' 'Helmke' 'phelmke1@walmart.com' 'Female']\n",
      " ['3' 'Humfrid' 'Sainsberry' 'hsainsberry2@disqus.com' 'Male']\n",
      " ['4' 'Kaja' 'Carnson' 'kcarnson3@amazon.de' 'Female']\n",
      " ['5' 'Basia' 'Narraway' 'bnarraway4@bloomberg.com' 'Female']\n",
      " ['6' 'Hy' 'Robiot' 'hrobiot5@quantcast.com' 'Male']\n",
      " ['7' 'Angelika' 'Pedrocco' 'apedrocco6@quantcast.com' 'Female']\n",
      " ['8' 'Brigit' 'Olivie' 'bolivie7@so-net.ne.jp' 'Female']\n",
      " ['9' 'Marjorie' 'Coope' 'mcoope8@microsoft.com' 'Female']\n",
      " ['10' 'Demetra' 'Gumey' 'dgumey9@gmpg.org' 'Female']\n",
      " ['11' 'Geneva' 'Vasentsov' 'gvasentsova@wsj.com' 'Female']\n",
      " ['12' 'Llywellyn' 'Bullant' 'lbullantb@sfgate.com' 'Male']\n",
      " ['13' 'Ruperta' 'Dudin' 'rdudinc@dailymotion.com' 'Female']\n",
      " ['14' 'Page' 'Ferrotti' 'pferrottid@mashable.com' 'Female']\n",
      " ['15' 'Fara' 'Mannooch' 'fmannooche@bizjournals.com' 'Female']\n",
      " ['16' 'Manon' 'Focke' 'mfockef@oracle.com' 'Female']\n",
      " ['17' 'Josh' 'Belle' 'jbelleg@census.gov' 'Male']\n",
      " ['18' 'Jarad' 'Bresner' 'jbresnerh@51.la' 'Male']\n",
      " ['19' 'Reinaldos' 'Gianuzzi' 'rgianuzzii@slideshare.net' 'Male']\n",
      " ['20' 'Carlene' 'Willans' 'cwillansj@ed.gov' 'Female']\n",
      " ['21' 'Clayson' 'Jennaway' 'cjennawayk@usatoday.com' 'Male']\n",
      " ['22' 'Jed' 'McGilvray' 'jmcgilvrayl@jiathis.com' 'Male']\n",
      " ['23' 'Matteo' 'Zannotelli' 'mzannotellim@canalblog.com' 'Male']\n",
      " ['24' 'Carrol' 'Antos' 'cantosn@nydailynews.com' 'Male']\n",
      " ['25' 'Flinn' 'Broome' 'fbroomeo@tmall.com' 'Male']\n",
      " ['26' 'Any' 'Lewcock' 'alewcockp@nih.gov' 'Male']\n",
      " ['27' 'Halimeda' 'Drewet' 'hdrewetq@is.gd' 'Female']\n",
      " ['28' 'Melissa' 'Saundercock' 'msaundercockr@usnews.com' 'Female']\n",
      " ['29' 'Adrea' 'Sute' 'asutes@huffingtonpost.com' 'Female']\n",
      " ['30' 'Meaghan' 'Filan' 'mfilant@berkeley.edu' 'Female']\n",
      " ['31' 'Baldwin' \"O'Henehan\" 'bohenehanu@blogs.com' 'Male']\n",
      " ['32' 'Annabelle' 'McCaughen' 'amccaughenv@answers.com' 'Female']\n",
      " ['33' 'Allyn' 'Lias' 'aliasw@aol.com' 'Female']\n",
      " ['34' 'Katerina' 'Simounet' 'ksimounetx@shop-pro.jp' 'Female']\n",
      " ['35' 'Hedwig' 'Neild' 'hneildy@mashable.com' 'Female']\n",
      " ['36' 'Robbie' 'Stockport' 'rstockportz@ucoz.com' 'Male']\n",
      " ['37' 'Ofilia' 'Vasyatkin' 'ovasyatkin10@plala.or.jp' 'Female']\n",
      " ['38' 'Ashil' 'Daal' 'adaal11@skype.com' 'Female']\n",
      " ['39' 'Bradney' 'Erangey' 'berangey12@reverbnation.com' 'Male']\n",
      " ['40' 'Bibbye' 'Jarrelt' 'bjarrelt13@about.com' 'Female']\n",
      " ['41' 'Luciano' 'Wingatt' 'lwingatt14@ibm.com' 'Male']\n",
      " ['42' 'Izabel' 'Batisse' 'ibatisse15@bloglovin.com' 'Female']\n",
      " ['43' 'Cullen' 'Gjerde' 'cgjerde16@odnoklassniki.ru' 'Male']\n",
      " ['44' 'Hewitt' 'Lante' 'hlante17@ft.com' 'Male']\n",
      " ['45' 'Karel' 'Mounter' 'kmounter18@hao123.com' 'Male']\n",
      " ['46' 'Gratiana' 'Elletson' 'gelletson19@shareasale.com' 'Female']\n",
      " ['47' 'Robin' 'Reford' 'rreford1a@businessweek.com' 'Male']\n",
      " ['48' 'Ashlee' 'Rochewell' 'arochewell1b@mysql.com' 'Female']\n",
      " ['49' 'Isis' 'Woehler' 'iwoehler1c@paypal.com' 'Female']\n",
      " ['50' 'Cori' 'Lancley' 'clancley1d@arstechnica.com' 'Female']\n",
      " ['51' 'Alexio' 'Elsley' 'aelsley1e@ucoz.com' 'Male']\n",
      " ['52' 'Glenn' 'Paula' 'gpaula1f@patch.com' 'Male']\n",
      " ['53' 'Corena' 'Lenthall' 'clenthall1g@ow.ly' 'Female']\n",
      " ['54' 'Larina' 'Sallnow' 'lsallnow1h@xing.com' 'Female']\n",
      " ['55' 'Filberte' 'Zucker' 'fzucker1i@businessweek.com' 'Male']\n",
      " ['56' 'Roxane' 'Smeaton' 'rsmeaton1j@un.org' 'Female']\n",
      " ['57' 'Osborne' 'Buxton' 'obuxton1k@auda.org.au' 'Male']\n",
      " ['58' 'Kinnie' 'Zahor' 'kzahor1l@infoseek.co.jp' 'Male']\n",
      " ['59' 'Bourke' 'Karolewski' 'bkarolewski1m@berkeley.edu' 'Male']\n",
      " ['60' 'Oralee' 'Grabbam' 'ograbbam1n@stumbleupon.com' 'Female']\n",
      " ['61' 'Lorenza' 'Rikkard' 'lrikkard1o@zimbio.com' 'Female']\n",
      " ['62' 'Dasie' 'McRannell' 'dmcrannell1p@ustream.tv' 'Female']\n",
      " ['63' 'Cord' 'Stonhard' 'cstonhard1q@vimeo.com' 'Male']\n",
      " ['64' 'Dolph' 'Olander' 'dolander1r@theguardian.com' 'Male']\n",
      " ['65' 'Haydon' 'Salmoni' 'hsalmoni1s@cnbc.com' 'Male']\n",
      " ['66' 'Lauree' 'Cocksedge' 'lcocksedge1t@amazon.co.jp' 'Female']\n",
      " ['67' 'Hollyanne' 'Thomton' 'hthomton1u@unc.edu' 'Female']\n",
      " ['68' 'Barrie' 'Carillo' 'bcarillo1v@php.net' 'Male']\n",
      " ['69' 'Horst' 'Penney' 'hpenney1w@amazon.de' 'Male']\n",
      " ['70' 'Reba' 'Andraud' 'randraud1x@bbc.co.uk' 'Female']\n",
      " ['71' 'Rick' 'Birrane' 'rbirrane1y@mayoclinic.com' 'Male']\n",
      " ['72' 'Nicholas' 'Flinders' 'nflinders1z@washington.edu' 'Male']\n",
      " ['73' 'Farand' 'Oxford' 'foxford20@webmd.com' 'Female']\n",
      " ['74' 'Oswell' 'Dumper' 'odumper21@quantcast.com' 'Male']\n",
      " ['75' 'Flori' 'Ebbin' 'febbin22@oakley.com' 'Female']\n",
      " ['76' 'Daisie' 'Thying' 'dthying23@upenn.edu' 'Female']\n",
      " ['77' 'Ruben' 'Tichelaar' 'rtichelaar24@msu.edu' 'Male']\n",
      " ['78' 'Marylin' 'McCaighey' 'mmccaighey25@tuttocitta.it' 'Female']\n",
      " ['79' 'Lina' 'Yokley' 'lyokley26@acquirethisname.com' 'Female']\n",
      " ['80' 'Darnell' 'Keele' 'dkeele27@usgs.gov' 'Male']\n",
      " ['81' 'Evangelin' 'MacGaughie' 'emacgaughie28@netvibes.com' 'Female']\n",
      " ['82' 'Orren' 'Coats' 'ocoats29@dagondesign.com' 'Male']\n",
      " ['83' 'Cindi' 'Kearle' 'ckearle2a@wix.com' 'Female']\n",
      " ['84' 'Lon' 'Dmitrovic' 'ldmitrovic2b@pinterest.com' 'Male']\n",
      " ['85' 'Raviv' 'Dickson' 'rdickson2c@1688.com' 'Male']\n",
      " ['86' 'Barnabe' 'Lombard' 'blombard2d@wikispaces.com' 'Male']\n",
      " ['87' 'Hedwig' 'Canario' 'hcanario2e@youtu.be' 'Female']\n",
      " ['88' 'Leanna' 'Farrance' 'lfarrance2f@oakley.com' 'Female']\n",
      " ['89' 'Ashil' 'Saltwell' 'asaltwell2g@goo.gl' 'Female']\n",
      " ['90' 'Matthias' 'Matteris' 'mmatteris2h@e-recht24.de' 'Male']\n",
      " ['91' 'Gregory' 'Tetsall' 'gtetsall2i@canalblog.com' 'Male']\n",
      " ['92' 'Cybil' 'Spadaro' 'cspadaro2j@infoseek.co.jp' 'Female']\n",
      " ['93' 'Ariadne' 'Hillaby' 'ahillaby2k@naver.com' 'Female']\n",
      " ['94' 'Ree' 'Adamkiewicz' 'radamkiewicz2l@freewebs.com' 'Female']\n",
      " ['95' 'Patric' 'Dafydd' 'pdafydd2m@virginia.edu' 'Male']\n",
      " ['96' 'Theda' 'Lockton' 'tlockton2n@blogs.com' 'Female']\n",
      " ['97' 'Jamesy' 'Fitch' 'jfitch2o@pbs.org' 'Male']\n",
      " ['98' 'Briana' 'Maudett' 'bmaudett2p@ibm.com' 'Female']\n",
      " ['99' 'Martin' 'Ayrton' 'mayrton2q@alexa.com' 'Male']\n",
      " ['100' 'Obediah' 'Dallicoat' 'odallicoat2r@mediafire.com' 'Male']]\n"
     ]
    }
   ],
   "source": [
    "import numpy as np\n",
    "import collections\n",
    "a = np.genfromtxt('data.csv', delimiter=',', dtype=str)\n",
    "print (a)"
   ]
  },
  {
   "cell_type": "code",
   "execution_count": null,
   "metadata": {},
   "outputs": [],
   "source": []
  },
  {
   "cell_type": "code",
   "execution_count": 4,
   "metadata": {},
   "outputs": [
    {
     "name": "stdout",
     "output_type": "stream",
     "text": [
      "\n",
      "Print all the Index where Gender = Male\n",
      "(array([ 0,  2,  5, 11, 16, 17, 18, 20, 21, 22, 23, 24, 25, 30, 35, 38, 40,\n",
      "       42, 43, 44, 46, 50, 51, 54, 56, 57, 58, 62, 63, 64, 67, 68, 70, 71,\n",
      "       73, 76, 79, 81, 83, 84, 85, 89, 90, 94, 96, 98, 99], dtype=int64),)\n",
      "\n",
      "Print all the Index where Gender = Female\n",
      "(array([ 1,  3,  4,  6,  7,  8,  9, 10, 12, 13, 14, 15, 19, 26, 27, 28, 29,\n",
      "       31, 32, 33, 34, 36, 37, 39, 41, 45, 47, 48, 49, 52, 53, 55, 59, 60,\n",
      "       61, 65, 66, 69, 72, 74, 75, 77, 78, 80, 82, 86, 87, 88, 91, 92, 93,\n",
      "       95, 97], dtype=int64),)\n"
     ]
    }
   ],
   "source": [
    "print (\"\\nPrint all the Index where Gender = Male\")\n",
    "m=np.where(a[...,4]==\"Male\")\n",
    "print (m)\n",
    "\n",
    "#<<<------------Print all the Index where Gender = Female----------->>>\n",
    "print (\"\\nPrint all the Index where Gender = Female\")\n",
    "f=np.where(a[...,4]==\"Female\")\n",
    "print (f)"
   ]
  },
  {
   "cell_type": "code",
   "execution_count": 5,
   "metadata": {},
   "outputs": [
    {
     "name": "stdout",
     "output_type": "stream",
     "text": [
      "[['1' 'Angeli' 'Mapes' 'amapes0@chronoengine.com' 'Male']\n",
      " ['3' 'Humfrid' 'Sainsberry' 'hsainsberry2@disqus.com' 'Male']\n",
      " ['6' 'Hy' 'Robiot' 'hrobiot5@quantcast.com' 'Male']\n",
      " ['12' 'Llywellyn' 'Bullant' 'lbullantb@sfgate.com' 'Male']\n",
      " ['17' 'Josh' 'Belle' 'jbelleg@census.gov' 'Male']\n",
      " ['18' 'Jarad' 'Bresner' 'jbresnerh@51.la' 'Male']\n",
      " ['19' 'Reinaldos' 'Gianuzzi' 'rgianuzzii@slideshare.net' 'Male']\n",
      " ['21' 'Clayson' 'Jennaway' 'cjennawayk@usatoday.com' 'Male']\n",
      " ['22' 'Jed' 'McGilvray' 'jmcgilvrayl@jiathis.com' 'Male']\n",
      " ['23' 'Matteo' 'Zannotelli' 'mzannotellim@canalblog.com' 'Male']\n",
      " ['24' 'Carrol' 'Antos' 'cantosn@nydailynews.com' 'Male']\n",
      " ['25' 'Flinn' 'Broome' 'fbroomeo@tmall.com' 'Male']\n",
      " ['26' 'Any' 'Lewcock' 'alewcockp@nih.gov' 'Male']\n",
      " ['31' 'Baldwin' \"O'Henehan\" 'bohenehanu@blogs.com' 'Male']\n",
      " ['36' 'Robbie' 'Stockport' 'rstockportz@ucoz.com' 'Male']\n",
      " ['39' 'Bradney' 'Erangey' 'berangey12@reverbnation.com' 'Male']\n",
      " ['41' 'Luciano' 'Wingatt' 'lwingatt14@ibm.com' 'Male']\n",
      " ['43' 'Cullen' 'Gjerde' 'cgjerde16@odnoklassniki.ru' 'Male']\n",
      " ['44' 'Hewitt' 'Lante' 'hlante17@ft.com' 'Male']\n",
      " ['45' 'Karel' 'Mounter' 'kmounter18@hao123.com' 'Male']\n",
      " ['47' 'Robin' 'Reford' 'rreford1a@businessweek.com' 'Male']\n",
      " ['51' 'Alexio' 'Elsley' 'aelsley1e@ucoz.com' 'Male']\n",
      " ['52' 'Glenn' 'Paula' 'gpaula1f@patch.com' 'Male']\n",
      " ['55' 'Filberte' 'Zucker' 'fzucker1i@businessweek.com' 'Male']\n",
      " ['57' 'Osborne' 'Buxton' 'obuxton1k@auda.org.au' 'Male']\n",
      " ['58' 'Kinnie' 'Zahor' 'kzahor1l@infoseek.co.jp' 'Male']\n",
      " ['59' 'Bourke' 'Karolewski' 'bkarolewski1m@berkeley.edu' 'Male']\n",
      " ['63' 'Cord' 'Stonhard' 'cstonhard1q@vimeo.com' 'Male']\n",
      " ['64' 'Dolph' 'Olander' 'dolander1r@theguardian.com' 'Male']\n",
      " ['65' 'Haydon' 'Salmoni' 'hsalmoni1s@cnbc.com' 'Male']\n",
      " ['68' 'Barrie' 'Carillo' 'bcarillo1v@php.net' 'Male']\n",
      " ['69' 'Horst' 'Penney' 'hpenney1w@amazon.de' 'Male']\n",
      " ['71' 'Rick' 'Birrane' 'rbirrane1y@mayoclinic.com' 'Male']\n",
      " ['72' 'Nicholas' 'Flinders' 'nflinders1z@washington.edu' 'Male']\n",
      " ['74' 'Oswell' 'Dumper' 'odumper21@quantcast.com' 'Male']\n",
      " ['77' 'Ruben' 'Tichelaar' 'rtichelaar24@msu.edu' 'Male']\n",
      " ['80' 'Darnell' 'Keele' 'dkeele27@usgs.gov' 'Male']\n",
      " ['82' 'Orren' 'Coats' 'ocoats29@dagondesign.com' 'Male']\n",
      " ['84' 'Lon' 'Dmitrovic' 'ldmitrovic2b@pinterest.com' 'Male']\n",
      " ['85' 'Raviv' 'Dickson' 'rdickson2c@1688.com' 'Male']\n",
      " ['86' 'Barnabe' 'Lombard' 'blombard2d@wikispaces.com' 'Male']\n",
      " ['90' 'Matthias' 'Matteris' 'mmatteris2h@e-recht24.de' 'Male']\n",
      " ['91' 'Gregory' 'Tetsall' 'gtetsall2i@canalblog.com' 'Male']\n",
      " ['95' 'Patric' 'Dafydd' 'pdafydd2m@virginia.edu' 'Male']\n",
      " ['97' 'Jamesy' 'Fitch' 'jfitch2o@pbs.org' 'Male']\n",
      " ['99' 'Martin' 'Ayrton' 'mayrton2q@alexa.com' 'Male']\n",
      " ['100' 'Obediah' 'Dallicoat' 'odallicoat2r@mediafire.com' 'Male']]\n",
      "[['2' 'Petronille' 'Helmke' 'phelmke1@walmart.com' 'Female']\n",
      " ['4' 'Kaja' 'Carnson' 'kcarnson3@amazon.de' 'Female']\n",
      " ['5' 'Basia' 'Narraway' 'bnarraway4@bloomberg.com' 'Female']\n",
      " ['7' 'Angelika' 'Pedrocco' 'apedrocco6@quantcast.com' 'Female']\n",
      " ['8' 'Brigit' 'Olivie' 'bolivie7@so-net.ne.jp' 'Female']\n",
      " ['9' 'Marjorie' 'Coope' 'mcoope8@microsoft.com' 'Female']\n",
      " ['10' 'Demetra' 'Gumey' 'dgumey9@gmpg.org' 'Female']\n",
      " ['11' 'Geneva' 'Vasentsov' 'gvasentsova@wsj.com' 'Female']\n",
      " ['13' 'Ruperta' 'Dudin' 'rdudinc@dailymotion.com' 'Female']\n",
      " ['14' 'Page' 'Ferrotti' 'pferrottid@mashable.com' 'Female']\n",
      " ['15' 'Fara' 'Mannooch' 'fmannooche@bizjournals.com' 'Female']\n",
      " ['16' 'Manon' 'Focke' 'mfockef@oracle.com' 'Female']\n",
      " ['20' 'Carlene' 'Willans' 'cwillansj@ed.gov' 'Female']\n",
      " ['27' 'Halimeda' 'Drewet' 'hdrewetq@is.gd' 'Female']\n",
      " ['28' 'Melissa' 'Saundercock' 'msaundercockr@usnews.com' 'Female']\n",
      " ['29' 'Adrea' 'Sute' 'asutes@huffingtonpost.com' 'Female']\n",
      " ['30' 'Meaghan' 'Filan' 'mfilant@berkeley.edu' 'Female']\n",
      " ['32' 'Annabelle' 'McCaughen' 'amccaughenv@answers.com' 'Female']\n",
      " ['33' 'Allyn' 'Lias' 'aliasw@aol.com' 'Female']\n",
      " ['34' 'Katerina' 'Simounet' 'ksimounetx@shop-pro.jp' 'Female']\n",
      " ['35' 'Hedwig' 'Neild' 'hneildy@mashable.com' 'Female']\n",
      " ['37' 'Ofilia' 'Vasyatkin' 'ovasyatkin10@plala.or.jp' 'Female']\n",
      " ['38' 'Ashil' 'Daal' 'adaal11@skype.com' 'Female']\n",
      " ['40' 'Bibbye' 'Jarrelt' 'bjarrelt13@about.com' 'Female']\n",
      " ['42' 'Izabel' 'Batisse' 'ibatisse15@bloglovin.com' 'Female']\n",
      " ['46' 'Gratiana' 'Elletson' 'gelletson19@shareasale.com' 'Female']\n",
      " ['48' 'Ashlee' 'Rochewell' 'arochewell1b@mysql.com' 'Female']\n",
      " ['49' 'Isis' 'Woehler' 'iwoehler1c@paypal.com' 'Female']\n",
      " ['50' 'Cori' 'Lancley' 'clancley1d@arstechnica.com' 'Female']\n",
      " ['53' 'Corena' 'Lenthall' 'clenthall1g@ow.ly' 'Female']\n",
      " ['54' 'Larina' 'Sallnow' 'lsallnow1h@xing.com' 'Female']\n",
      " ['56' 'Roxane' 'Smeaton' 'rsmeaton1j@un.org' 'Female']\n",
      " ['60' 'Oralee' 'Grabbam' 'ograbbam1n@stumbleupon.com' 'Female']\n",
      " ['61' 'Lorenza' 'Rikkard' 'lrikkard1o@zimbio.com' 'Female']\n",
      " ['62' 'Dasie' 'McRannell' 'dmcrannell1p@ustream.tv' 'Female']\n",
      " ['66' 'Lauree' 'Cocksedge' 'lcocksedge1t@amazon.co.jp' 'Female']\n",
      " ['67' 'Hollyanne' 'Thomton' 'hthomton1u@unc.edu' 'Female']\n",
      " ['70' 'Reba' 'Andraud' 'randraud1x@bbc.co.uk' 'Female']\n",
      " ['73' 'Farand' 'Oxford' 'foxford20@webmd.com' 'Female']\n",
      " ['75' 'Flori' 'Ebbin' 'febbin22@oakley.com' 'Female']\n",
      " ['76' 'Daisie' 'Thying' 'dthying23@upenn.edu' 'Female']\n",
      " ['78' 'Marylin' 'McCaighey' 'mmccaighey25@tuttocitta.it' 'Female']\n",
      " ['79' 'Lina' 'Yokley' 'lyokley26@acquirethisname.com' 'Female']\n",
      " ['81' 'Evangelin' 'MacGaughie' 'emacgaughie28@netvibes.com' 'Female']\n",
      " ['83' 'Cindi' 'Kearle' 'ckearle2a@wix.com' 'Female']\n",
      " ['87' 'Hedwig' 'Canario' 'hcanario2e@youtu.be' 'Female']\n",
      " ['88' 'Leanna' 'Farrance' 'lfarrance2f@oakley.com' 'Female']\n",
      " ['89' 'Ashil' 'Saltwell' 'asaltwell2g@goo.gl' 'Female']\n",
      " ['92' 'Cybil' 'Spadaro' 'cspadaro2j@infoseek.co.jp' 'Female']\n",
      " ['93' 'Ariadne' 'Hillaby' 'ahillaby2k@naver.com' 'Female']\n",
      " ['94' 'Ree' 'Adamkiewicz' 'radamkiewicz2l@freewebs.com' 'Female']\n",
      " ['96' 'Theda' 'Lockton' 'tlockton2n@blogs.com' 'Female']\n",
      " ['98' 'Briana' 'Maudett' 'bmaudett2p@ibm.com' 'Female']]\n"
     ]
    }
   ],
   "source": [
    "print (a[m])\n",
    "print (a[f])"
   ]
  },
  {
   "cell_type": "code",
   "execution_count": 6,
   "metadata": {},
   "outputs": [
    {
     "name": "stdout",
     "output_type": "stream",
     "text": [
      "Male:  47\n",
      "Female:  53\n"
     ]
    }
   ],
   "source": [
    "print (\"Male: \",len(a[m])) #Male\n",
    "print (\"Female: \",len(a[f])) #Female"
   ]
  },
  {
   "cell_type": "code",
   "execution_count": 7,
   "metadata": {},
   "outputs": [
    {
     "name": "stdout",
     "output_type": "stream",
     "text": [
      "[1 0 1 0 0 1 0 0 0 0 0 1 0 0 0 0 1 1 1 0 1 1 1 1 1 1 0 0 0 0 1 0 0 0 0 1 0\n",
      " 0 1 0 1 0 1 1 1 0 1 0 0 0 1 1 0 0 1 0 1 1 1 0 0 0 1 1 1 0 0 1 1 0 1 1 0 1\n",
      " 0 0 1 0 0 1 0 1 0 1 1 1 0 0 0 1 1 0 0 0 1 0 1 0 1 1]\n",
      "Male:  47 \n",
      "Female:  53\n"
     ]
    }
   ],
   "source": [
    "b=np.char.count(a[...,4],'Male')\n",
    "print (b)\n",
    "male=0\n",
    "female=0\n",
    "for i in b:\n",
    "    if i==1:\n",
    "        male=male+1\n",
    "    else:\n",
    "        female=female+1\n",
    "\n",
    "print(\"Male: \",male,\"\\nFemale: \",female)"
   ]
  },
  {
   "cell_type": "code",
   "execution_count": 8,
   "metadata": {},
   "outputs": [
    {
     "name": "stdout",
     "output_type": "stream",
     "text": [
      "Counter({0: 53, 1: 47})\n",
      "Counter({'Female': 53, 'Male': 47})\n",
      "47\n"
     ]
    }
   ],
   "source": [
    "import collections\n",
    "print (collections.Counter(b))\n",
    "print (collections.Counter(a[...,4]))\n",
    "a1=collections.Counter(a[...,4])\n",
    "print(a1['Male'])"
   ]
  },
  {
   "cell_type": "code",
   "execution_count": 9,
   "metadata": {},
   "outputs": [
    {
     "name": "stdout",
     "output_type": "stream",
     "text": [
      "\n",
      "Total Male : 47\n",
      "\n",
      "Total Female : 53\n"
     ]
    }
   ],
   "source": [
    "print (\"\\nTotal Male :\",np.count_nonzero(b == 1))\n",
    "print (\"\\nTotal Female :\",np.count_nonzero(b == 0))"
   ]
  },
  {
   "cell_type": "code",
   "execution_count": 8,
   "metadata": {},
   "outputs": [
    {
     "name": "stdout",
     "output_type": "stream",
     "text": [
      "\n",
      "Total Male : 47\n",
      "\n",
      "Total Female : 53\n"
     ]
    }
   ],
   "source": [
    "print (\"\\nTotal Male :\",(b == 1).sum())\n",
    "print (\"\\nTotal Female :\",(b == 0).sum())"
   ]
  },
  {
   "cell_type": "code",
   "execution_count": 9,
   "metadata": {},
   "outputs": [
    {
     "name": "stdout",
     "output_type": "stream",
     "text": [
      "[53 47]\n",
      "\n",
      "Total Male : 53\n",
      "\n",
      "Total Female : 47\n"
     ]
    }
   ],
   "source": [
    "z=np.bincount(b)    #[0,1]\n",
    "print(z)\n",
    "print (\"\\nTotal Male :\",z[0])\n",
    "print (\"\\nTotal Female :\",z[1])"
   ]
  },
  {
   "cell_type": "code",
   "execution_count": 42,
   "metadata": {},
   "outputs": [
    {
     "name": "stdout",
     "output_type": "stream",
     "text": [
      "Total Male : 47\n",
      "Total Female : 53\n",
      "Total Male : 47\n",
      "Total Female : 53\n"
     ]
    }
   ],
   "source": [
    "l = list(b)\n",
    "print (\"Total Male :\",l.count(1))\n",
    "print (\"Total Female :\",l.count(0))\n",
    "\n",
    "l1=list(a[...,4])\n",
    "print (\"Total Male :\",l1.count('Male'))\n",
    "print (\"Total Female :\",l1.count('Female'))"
   ]
  },
  {
   "cell_type": "code",
   "execution_count": 24,
   "metadata": {},
   "outputs": [
    {
     "name": "stdout",
     "output_type": "stream",
     "text": [
      "Male: 47\n",
      "Female: 53\n"
     ]
    }
   ],
   "source": [
    "print(\"Male:\",np.sum(a[...,4]=='Male'))\n",
    "print(\"Female:\",np.sum(a[...,4]=='Female'))\n"
   ]
  },
  {
   "cell_type": "code",
   "execution_count": 28,
   "metadata": {},
   "outputs": [
    {
     "name": "stdout",
     "output_type": "stream",
     "text": [
      "Male: 47\n",
      "Female: 53\n"
     ]
    }
   ],
   "source": [
    "male=a[m]\n",
    "female=a[f]\n",
    "print (\"Male:\",np.size(male,0))\n",
    "print (\"Female:\",np.size(female,0))"
   ]
  },
  {
   "cell_type": "code",
   "execution_count": 4,
   "metadata": {},
   "outputs": [
    {
     "data": {
      "text/plain": [
       "array([['1', 'Angeli', 'Mapes', 'amapes0@chronoengine.com', 'Male']],\n",
       "      dtype='<U29')"
      ]
     },
     "execution_count": 4,
     "metadata": {},
     "output_type": "execute_result"
    }
   ],
   "source": [
    "a[:,0].astype(int).sum()\n",
    "np.unique(a[:,4])\n",
    "b=np.where(a[:,4]=='Male')\n",
    "len(a[b])\n",
    "c=np.where((a[:,4]=='Male') & (a[:,2]==\"Mapes\"))\n",
    "a[c]"
   ]
  },
  {
   "cell_type": "code",
   "execution_count": null,
   "metadata": {},
   "outputs": [],
   "source": []
  }
 ],
 "metadata": {
  "kernelspec": {
   "display_name": "Python 3",
   "language": "python",
   "name": "python3"
  },
  "language_info": {
   "codemirror_mode": {
    "name": "ipython",
    "version": 3
   },
   "file_extension": ".py",
   "mimetype": "text/x-python",
   "name": "python",
   "nbconvert_exporter": "python",
   "pygments_lexer": "ipython3",
   "version": "3.7.4"
  }
 },
 "nbformat": 4,
 "nbformat_minor": 2
}
