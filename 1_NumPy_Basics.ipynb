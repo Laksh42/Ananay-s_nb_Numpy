{
 "cells": [
  {
   "cell_type": "markdown",
   "metadata": {},
   "source": [
    "# Introduction to NumPy\n",
    "\n",
    "\n",
    "The learning objectives of this section are:\n",
    "\n",
    "* Understand advantages of vectorised code using NumPy (over standard python ways)\n",
    "* Create NumPy arrays\n",
    "    * Convert lists and tuples to NumPy arrays \n",
    "    * Create (initialise) arrays\n",
    "* Inspect the structure and content of arrays\n",
    "* Subset, slice, index and iterate through arrays\n",
    "* Compare computation times in NumPy and standard Python lists"
   ]
  },
  {
   "cell_type": "markdown",
   "metadata": {},
   "source": [
    "### NumPy Basics\n",
    "\n",
    "NumPy is a library written for scientific computing and data analysis. It stands for numerical python.\n",
    "\n",
    "The most basic object in NumPy is the ```ndarray```, or simply an ```array```, which is an **n-dimensional, homogenous** array. By homogenous, we mean that all the elements in a NumPy array have to be of the **same data type**, which is commonly numeric (float or integer). \n",
    "\n",
    "Let's see some examples of arrays."
   ]
  },
  {
   "cell_type": "code",
   "execution_count": 2,
   "metadata": {},
   "outputs": [],
   "source": [
    "# Import the numpy library\n",
    "# np is simply an alias, you may use any other alias, though np is quite standard\n",
    "import numpy as np"
   ]
  },
  {
   "cell_type": "code",
   "execution_count": 4,
   "metadata": {},
   "outputs": [
    {
     "name": "stdout",
     "output_type": "stream",
     "text": [
      "[2 4 5 6 7 9]\n",
      "<class 'numpy.ndarray'>\n"
     ]
    }
   ],
   "source": [
    "# Creating a 1-D array using a list\n",
    "# np.array() takes in a list or a tuple as argument, and converts into an array\n",
    "array_1d = np.array([2, 4, 5, 6, 7, 9])\n",
    "print(array_1d)\n",
    "print(type(array_1d))"
   ]
  },
  {
   "cell_type": "code",
   "execution_count": 5,
   "metadata": {},
   "outputs": [
    {
     "name": "stdout",
     "output_type": "stream",
     "text": [
      "[[2 3 4]\n",
      " [5 8 7]]\n"
     ]
    }
   ],
   "source": [
    "# Creating a 2-D array using two lists\n",
    "array_2d = np.array([[2, 3, 4], [5, 8, 7]])\n",
    "print(array_2d)"
   ]
  },
  {
   "cell_type": "markdown",
   "metadata": {},
   "source": [
    "In NumPy, dimensions are called **axes**. In the 2-d array above, there are two axes, having two and three elements respectively. \n",
    "\n",
    "In NumPy terminology, for 2-D arrays:\n",
    "* ```axis = 0``` refers to the rows\n",
    "* ```axis = 1``` refers to the columns\n",
    "\n",
    "<img src=\"numpy_axes.jpg\" style=\"width: 600px; height: 400px\">"
   ]
  },
  {
   "cell_type": "markdown",
   "metadata": {},
   "source": [
    "### Advantages of NumPy \n",
    "\n",
    "What is the use of arrays over lists, specifically for data analysis? Putting crudely, it is **convenience and speed **:<br>\n",
    "1. You can write **vectorised** code on numpy arrays, not on lists, which is **convenient to read and write, and concise**. \n",
    "2. Numpy is **much faster** than the standard python ways to do computations.\n",
    "\n",
    "Vectorised code typically does not contain explicit looping and indexing etc. (all of this happens behind the scenes, in precompiled C-code), and thus it is much more concise.\n",
    "\n",
    "Let's see an example of convenience, we'll see one later for speed. "
   ]
  },
  {
   "cell_type": "markdown",
   "metadata": {},
   "source": [
    "Say you have two lists of numbers, and want to calculate the element-wise product. The standard python list way would need you to map a lambda function (or worse - write a ```for``` loop), whereas with NumPy, you simply multiply the arrays."
   ]
  },
  {
   "cell_type": "code",
   "execution_count": 6,
   "metadata": {},
   "outputs": [
    {
     "name": "stdout",
     "output_type": "stream",
     "text": [
      "[12, 30, 7, 35]\n"
     ]
    }
   ],
   "source": [
    "list_1 = [3, 6, 7, 5]\n",
    "list_2 = [4, 5, 1, 7]\n",
    "\n",
    "# the list way to do it: map a function to the two lists\n",
    "product_list = list(map(lambda x, y: x*y, list_1, list_2))\n",
    "print(product_list)\n"
   ]
  },
  {
   "cell_type": "code",
   "execution_count": 7,
   "metadata": {},
   "outputs": [
    {
     "name": "stdout",
     "output_type": "stream",
     "text": [
      "[12 30  7 35]\n",
      "<class 'numpy.ndarray'>\n"
     ]
    }
   ],
   "source": [
    "# The numpy array way to do it: simply multiply the two arrays\n",
    "array_1 = np.array(list_1)\n",
    "array_2 = np.array(list_2)\n",
    "\n",
    "array_3 = array_1*array_2\n",
    "print(array_3)\n",
    "print(type(array_3))"
   ]
  },
  {
   "cell_type": "markdown",
   "metadata": {},
   "source": [
    "As you can see, the NumPy way is clearly more concise.\n",
    "\n",
    "Even simple mathematical operations on lists require for loops, unlike with arrays. For example, to calculate the square of every number in a list:"
   ]
  },
  {
   "cell_type": "code",
   "execution_count": 8,
   "metadata": {},
   "outputs": [
    {
     "name": "stdout",
     "output_type": "stream",
     "text": [
      "[9, 36, 49, 25]\n",
      "[ 9 36 49 25]\n"
     ]
    }
   ],
   "source": [
    "# Square a list\n",
    "list_squared = [i**2 for i in list_1]\n",
    "\n",
    "# Square a numpy array\n",
    "array_squared = array_1**2\n",
    "\n",
    "print(list_squared)\n",
    "print(array_squared)"
   ]
  },
  {
   "cell_type": "markdown",
   "metadata": {},
   "source": [
    "This was with 1-D arrays. You'll often work with 2-D arrays (matrices), where the difference would be even greater. With lists, you'll have to store matrices as lists of lists and loop through them. With NumPy, you simply multiply the matrices."
   ]
  },
  {
   "cell_type": "markdown",
   "metadata": {},
   "source": [
    "### Creating NumPy Arrays \n",
    "\n",
    "There are multiple ways to create numpy arrays, the most commmon ones being:\n",
    "* Convert lists or tuples to arrays using ```np.array()```, as done above\n",
    "* Initialise arrays of fixed size (when the size is known) \n"
   ]
  },
  {
   "cell_type": "code",
   "execution_count": 11,
   "metadata": {},
   "outputs": [
    {
     "name": "stdout",
     "output_type": "stream",
     "text": [
      "[2 5 6 7]\n",
      "[4 5 8 9]\n"
     ]
    }
   ],
   "source": [
    "# Convert lists or tuples to arrays using np.array()\n",
    "# Note that np.array(2, 5, 6, 7) will throw an error - you need to pass a list or a tuple\n",
    "array_from_list = np.array([2, 5, 6, 7]) \n",
    "array_from_tuple = np.array((4, 5, 8, 9))\n",
    "\n",
    "print(array_from_list)\n",
    "print(array_from_tuple)"
   ]
  },
  {
   "cell_type": "markdown",
   "metadata": {},
   "source": [
    "The other common way is to initialise arrays. You do this when you know the size of the array beforehand.\n",
    "\n",
    "The following ways are commonly used:\n",
    "* ```np.ones()```: Create array of 1s\n",
    "* ```np.zeros()```: Create array of 0s\n",
    "* ```np.random.random()```: Create array of random numbers\n",
    "* ```np.arange()```: Create array with increments of a fixed step size\n",
    "* ```np.linspace()```: Create array of fixed length"
   ]
  },
  {
   "cell_type": "code",
   "execution_count": 8,
   "metadata": {},
   "outputs": [
    {
     "name": "stdout",
     "output_type": "stream",
     "text": [
      "Help on function ones in module numpy.core.numeric:\n",
      "\n",
      "ones(shape, dtype=None, order='C')\n",
      "    Return a new array of given shape and type, filled with ones.\n",
      "    \n",
      "    Parameters\n",
      "    ----------\n",
      "    shape : int or sequence of ints\n",
      "        Shape of the new array, e.g., ``(2, 3)`` or ``2``.\n",
      "    dtype : data-type, optional\n",
      "        The desired data-type for the array, e.g., `numpy.int8`.  Default is\n",
      "        `numpy.float64`.\n",
      "    order : {'C', 'F'}, optional\n",
      "        Whether to store multidimensional data in C- or Fortran-contiguous\n",
      "        (row- or column-wise) order in memory.\n",
      "    \n",
      "    Returns\n",
      "    -------\n",
      "    out : ndarray\n",
      "        Array of ones with the given shape, dtype, and order.\n",
      "    \n",
      "    See Also\n",
      "    --------\n",
      "    zeros, ones_like\n",
      "    \n",
      "    Examples\n",
      "    --------\n",
      "    >>> np.ones(5)\n",
      "    array([ 1.,  1.,  1.,  1.,  1.])\n",
      "    \n",
      "    >>> np.ones((5,), dtype=int)\n",
      "    array([1, 1, 1, 1, 1])\n",
      "    \n",
      "    >>> np.ones((2, 1))\n",
      "    array([[ 1.],\n",
      "           [ 1.]])\n",
      "    \n",
      "    >>> s = (2,2)\n",
      "    >>> np.ones(s)\n",
      "    array([[ 1.,  1.],\n",
      "           [ 1.,  1.]])\n",
      "\n"
     ]
    }
   ],
   "source": [
    "# Tip: Use help to see the syntax when required\n",
    "help(np.ones)"
   ]
  },
  {
   "cell_type": "code",
   "execution_count": 9,
   "metadata": {},
   "outputs": [
    {
     "data": {
      "text/plain": [
       "array([[1., 1., 1.],\n",
       "       [1., 1., 1.],\n",
       "       [1., 1., 1.],\n",
       "       [1., 1., 1.],\n",
       "       [1., 1., 1.]])"
      ]
     },
     "execution_count": 9,
     "metadata": {},
     "output_type": "execute_result"
    }
   ],
   "source": [
    "# Creating a 5 x 3 array of ones\n",
    "np.ones((5, 3))"
   ]
  },
  {
   "cell_type": "code",
   "execution_count": 10,
   "metadata": {},
   "outputs": [
    {
     "data": {
      "text/plain": [
       "array([[1, 1, 1],\n",
       "       [1, 1, 1],\n",
       "       [1, 1, 1],\n",
       "       [1, 1, 1],\n",
       "       [1, 1, 1]])"
      ]
     },
     "execution_count": 10,
     "metadata": {},
     "output_type": "execute_result"
    }
   ],
   "source": [
    "# Notice that, by default, numpy creates data type = float64\n",
    "# Can provide dtype explicitly using dtype\n",
    "np.ones((5, 3), dtype = np.int)"
   ]
  },
  {
   "cell_type": "code",
   "execution_count": 4,
   "metadata": {},
   "outputs": [
    {
     "data": {
      "text/plain": [
       "array([[0, 0],\n",
       "       [0, 0],\n",
       "       [0, 0],\n",
       "       [0, 0]])"
      ]
     },
     "execution_count": 4,
     "metadata": {},
     "output_type": "execute_result"
    }
   ],
   "source": [
    "# Creating array of zeros\n",
    "np.zeros((4,2), dtype = np.int)"
   ]
  },
  {
   "cell_type": "code",
   "execution_count": 12,
   "metadata": {},
   "outputs": [
    {
     "data": {
      "text/plain": [
       "array([[0.21067268, 0.20062275, 0.9481293 , 0.37904343],\n",
       "       [0.28643457, 0.26614814, 0.43219753, 0.63020881],\n",
       "       [0.36568786, 0.37602622, 0.85852183, 0.29602912]])"
      ]
     },
     "execution_count": 12,
     "metadata": {},
     "output_type": "execute_result"
    }
   ],
   "source": [
    "# Array of random numbers\n",
    "np.random.random([3, 4])"
   ]
  },
  {
   "cell_type": "code",
   "execution_count": 13,
   "metadata": {},
   "outputs": [
    {
     "name": "stdout",
     "output_type": "stream",
     "text": [
      "[10 15 20 25 30 35 40 45 50 55 60 65 70 75 80 85 90 95]\n"
     ]
    }
   ],
   "source": [
    "# np.arange()\n",
    "# np.arange() is the numpy equivalent of range()\n",
    "# Notice that 10 is included, 100 is not, as in standard python lists\n",
    "\n",
    "# From 10 to 100 with a step of 5\n",
    "numbers = np.arange(10, 100, 5)\n",
    "print(numbers)"
   ]
  },
  {
   "cell_type": "code",
   "execution_count": 14,
   "metadata": {},
   "outputs": [
    {
     "data": {
      "text/plain": [
       "array([15.   , 15.125, 15.25 , 15.375, 15.5  , 15.625, 15.75 , 15.875,\n",
       "       16.   , 16.125, 16.25 , 16.375, 16.5  , 16.625, 16.75 , 16.875,\n",
       "       17.   , 17.125, 17.25 , 17.375, 17.5  , 17.625, 17.75 , 17.875,\n",
       "       18.   ])"
      ]
     },
     "execution_count": 14,
     "metadata": {},
     "output_type": "execute_result"
    }
   ],
   "source": [
    "# np.linspace()\n",
    "# Sometimes, you know the length of the array, not the step size\n",
    "\n",
    "# Array of length 25 between 15 and 18\n",
    "np.linspace(15, 18, 25)"
   ]
  },
  {
   "cell_type": "markdown",
   "metadata": {},
   "source": [
    "Apart from the methods mentioned above, there are a few more NumPy functions that you can use to create special NumPy arrays:\n",
    "\n",
    "-  `np.full()`: Create a constant array of any number ‘n’\n",
    "-  `np.tile()`: Create a new array by repeating an existing array for a particular number of times\n",
    "-  `np.eye()`: Create an identity matrix of any dimension\n",
    "-  `np.random.randint()`: Create a random array of integers within a particular range"
   ]
  },
  {
   "cell_type": "code",
   "execution_count": 5,
   "metadata": {},
   "outputs": [
    {
     "data": {
      "text/plain": [
       "array([[7, 7, 7],\n",
       "       [7, 7, 7],\n",
       "       [7, 7, 7],\n",
       "       [7, 7, 7]])"
      ]
     },
     "execution_count": 5,
     "metadata": {},
     "output_type": "execute_result"
    }
   ],
   "source": [
    "# Creating a 4 x 3 array of 7s using np.full()\n",
    "# The default data type here is int only\n",
    "np.full((4,3), 7)"
   ]
  },
  {
   "cell_type": "code",
   "execution_count": 16,
   "metadata": {},
   "outputs": [
    {
     "data": {
      "text/plain": [
       "array([0, 1, 2, 0, 1, 2, 0, 1, 2])"
      ]
     },
     "execution_count": 16,
     "metadata": {},
     "output_type": "execute_result"
    }
   ],
   "source": [
    "# Given an array, np.tile() creates a new array by repeating the given array for any number of times that you want\n",
    "# The default data type her is int only\n",
    "arr = ([0, 1, 2])\n",
    "np.tile(arr, 3)"
   ]
  },
  {
   "cell_type": "code",
   "execution_count": 17,
   "metadata": {},
   "outputs": [
    {
     "data": {
      "text/plain": [
       "array([[0, 1, 2, 0, 1, 2],\n",
       "       [0, 1, 2, 0, 1, 2],\n",
       "       [0, 1, 2, 0, 1, 2]])"
      ]
     },
     "execution_count": 17,
     "metadata": {},
     "output_type": "execute_result"
    }
   ],
   "source": [
    "# You can also create multidimensional arrays using np.tile()\n",
    "np.tile(arr, (3,2))"
   ]
  },
  {
   "cell_type": "code",
   "execution_count": 8,
   "metadata": {},
   "outputs": [
    {
     "data": {
      "text/plain": [
       "array([[1, 0, 0],\n",
       "       [0, 1, 0],\n",
       "       [0, 0, 1]])"
      ]
     },
     "execution_count": 8,
     "metadata": {},
     "output_type": "execute_result"
    }
   ],
   "source": [
    "# Create a 3 x 3 identity matrix using np.eye()\n",
    "# The default data type here is float. So if we want integer values, we need to specify the dtype to be int\n",
    "np.eye(3, dtype = int)"
   ]
  },
  {
   "cell_type": "code",
   "execution_count": 9,
   "metadata": {},
   "outputs": [
    {
     "data": {
      "text/plain": [
       "array([[79, 40, 33,  1],\n",
       "       [29, 49, 80, 97],\n",
       "       [79, 22, 75, 49],\n",
       "       [49,  0, 55, 60]])"
      ]
     },
     "execution_count": 9,
     "metadata": {},
     "output_type": "execute_result"
    }
   ],
   "source": [
    "# Create a 4 x 4 random array of integers ranging from 0 to 9\n",
    "np.random.randint(0, 100, (4,4))"
   ]
  },
  {
   "cell_type": "markdown",
   "metadata": {},
   "source": [
    "### Inspect the Structure and Content of Arrays\n",
    "\n",
    "It is helpful to inspect the structure of numpy arrays, especially while working with large arrays. Some attributes of numpy arrays are:\n",
    "* ```shape```: Shape of array (n x m)\n",
    "* ```dtype```: data type (int, float etc.)\n",
    "* ```ndim```: Number of dimensions (or axes)\n",
    "* ```itemsize```: Memory used by each array elememnt in bytes\n",
    "\n",
    "\n",
    "Let's say you are working with a moderately large array of size 1000 x 300. First, you would want to wrap your head around the basic shape and size of the array. "
   ]
  },
  {
   "cell_type": "code",
   "execution_count": 3,
   "metadata": {},
   "outputs": [
    {
     "name": "stdout",
     "output_type": "stream",
     "text": [
      "[0.09411908 0.45318669 0.81954112 0.43930404 0.12021398 0.19105084\n",
      " 0.19600805 0.01001777 0.36609053 0.18555429 0.94167733 0.74323796\n",
      " 0.08377062 0.89831771 0.45791394 0.18773417 0.5372055  0.2642976\n",
      " 0.45530395 0.5760972  0.69226314 0.8761732  0.21374064 0.40764286\n",
      " 0.81467993 0.18461092 0.3657006  0.23569888 0.48016756 0.35932502\n",
      " 0.73490848 0.33961827 0.41331574 0.67093313 0.16888725 0.64715355\n",
      " 0.74592543 0.23881515 0.88098475 0.20604514 0.52213577 0.50130154\n",
      " 0.07753484 0.45732419 0.90723268 0.49648554 0.23410733 0.0505011\n",
      " 0.56387857 0.34359977 0.04640527 0.26234358 0.81188687 0.63262263\n",
      " 0.34814296 0.12279369 0.82473527 0.53488192 0.71866996 0.80413702\n",
      " 0.68965064 0.32013682 0.70886427 0.52482832 0.81019277 0.37879297\n",
      " 0.7831541  0.02567054 0.43179659 0.87312069 0.03380342 0.93979182\n",
      " 0.32725172 0.07532317 0.17433027 0.58265877 0.87017932 0.96647344\n",
      " 0.17937449 0.90975444 0.44417336 0.06021007 0.66774214 0.35254104\n",
      " 0.63642352 0.91805658 0.80684973 0.26968745 0.76313088 0.59080317\n",
      " 0.20767131 0.61035806 0.92958123 0.81230351 0.95381244 0.80806889\n",
      " 0.02007445 0.49554239 0.67668693 0.86843471 0.35522822 0.87147364\n",
      " 0.16843678 0.07765448 0.49938691 0.95737611 0.39008714 0.69659304\n",
      " 0.4804232  0.40260233 0.83363178 0.52352696 0.62329055 0.02248796\n",
      " 0.19087853 0.47389938 0.44133421 0.86151095 0.6350157  0.56079055\n",
      " 0.44751311 0.04974938 0.46810514 0.34665406 0.68937643 0.52298078\n",
      " 0.61836623 0.76930104 0.89164067 0.18023648 0.10394207 0.60116513\n",
      " 0.10351269 0.40757581 0.63827063 0.36406227 0.65946952 0.83876081\n",
      " 0.41879363 0.52210759 0.21970956 0.79419991 0.76896264 0.74299698\n",
      " 0.91958454 0.04852818 0.70722641 0.8395569  0.84233708 0.11654209\n",
      " 0.29139624 0.76897995 0.75919469 0.73724797 0.53894148 0.2072244\n",
      " 0.24773016 0.09116591 0.71886727 0.87302422 0.10795839 0.40256245\n",
      " 0.21736462 0.14656587 0.37464924 0.6830968  0.94291571 0.11128785\n",
      " 0.0419315  0.81659733 0.76965263 0.41125366 0.8666433  0.75100568\n",
      " 0.65922177 0.80983067 0.99989123 0.70505006 0.45263895 0.38832476\n",
      " 0.49779266 0.83971344 0.64704099 0.50340108 0.50996703 0.60937208\n",
      " 0.41990299 0.53722249 0.63017644 0.53135344 0.60305332 0.28666111\n",
      " 0.14083096 0.75575817 0.8863922  0.18949805 0.71703804 0.65508445\n",
      " 0.39701401 0.90645254 0.74008327 0.04712307 0.01362685 0.58182232\n",
      " 0.10762085 0.09652685 0.75574194 0.39318684 0.2411358  0.37844093\n",
      " 0.01599483 0.32422232 0.07088768 0.80596262 0.94003854 0.59610297\n",
      " 0.01381824 0.1106731  0.90014177 0.86120025 0.57854388 0.37944672\n",
      " 0.15956729 0.66629323 0.62915106 0.9245022  0.10100833 0.17377006\n",
      " 0.01071591 0.26156039 0.79156427 0.48238746 0.99948485 0.2227671\n",
      " 0.7597329  0.34388076 0.68374142 0.18173943 0.86587805 0.46144323\n",
      " 0.58454901 0.78361203 0.15405172 0.50444583 0.52098151 0.20607054\n",
      " 0.99804991 0.51915941 0.25265665 0.45761402 0.60366836 0.82177463\n",
      " 0.60986973 0.8528118  0.46832276 0.71019782 0.09827208 0.00479438\n",
      " 0.23708634 0.97863511 0.07370235 0.24300709 0.77952933 0.05958504\n",
      " 0.05278871 0.65505273 0.11043031 0.75445636 0.34698536 0.88975153\n",
      " 0.03525753 0.05426529 0.92303503 0.85917294 0.74917371 0.6229371\n",
      " 0.24789477 0.64749277 0.18131333 0.04572849 0.16832979 0.99406612\n",
      " 0.33430613 0.75928839 0.96789806 0.89846935 0.58169425 0.01983652\n",
      " 0.33478615 0.54663707 0.39092119 0.75423831 0.23427123 0.19083309\n",
      " 0.76795321 0.07637824 0.3175482  0.10795    0.67727131 0.99878668]\n"
     ]
    }
   ],
   "source": [
    "# Initialising a random 1000 x 300 array\n",
    "rand_array = np.random.random((1000, 300))\n",
    "\n",
    "# Print the second row\n",
    "print(rand_array[1, ])"
   ]
  },
  {
   "cell_type": "code",
   "execution_count": 21,
   "metadata": {},
   "outputs": [
    {
     "name": "stdout",
     "output_type": "stream",
     "text": [
      "Shape: (1000, 300)\n",
      "dtype: float64\n",
      "Dimensions: 2\n",
      "Item size: 8\n"
     ]
    }
   ],
   "source": [
    "# Inspecting shape, dtype, ndim and itemsize\n",
    "print(\"Shape: {}\".format(rand_array.shape))\n",
    "print(\"dtype: {}\".format(rand_array.dtype))\n",
    "print(\"Dimensions: {}\".format(rand_array.ndim))\n",
    "print(\"Item size: {}\".format(rand_array.itemsize))"
   ]
  },
  {
   "cell_type": "markdown",
   "metadata": {},
   "source": [
    "Reading 3-D arrays is not very obvious, because we can only print maximum two dimensions on paper, and thus they are printed according to a specific convention. Printing higher dimensional arrays follows the following conventions:\n",
    "* The last axis is printed from left to right\n",
    "* The second-to-last axis is printed from top to bottom\n",
    "* The other axes are also printed top-to-bottom, with each slice separated by another using an empty line \n",
    "\n",
    "Let's see some examples."
   ]
  },
  {
   "cell_type": "code",
   "execution_count": 3,
   "metadata": {},
   "outputs": [
    {
     "name": "stdout",
     "output_type": "stream",
     "text": [
      "[[ 0  1  2  3]\n",
      " [ 4  5  6  7]\n",
      " [ 8  9 10 11]\n",
      " [12 13 14 15]\n",
      " [16 17 18 19]\n",
      " [20 21 22 23]]\n"
     ]
    }
   ],
   "source": [
    "# Creating a 3-D array\n",
    "# reshape() simply reshapes a 1-D array \n",
    "array_3d = np.arange(24).reshape(6, 4)\n",
    "print(array_3d)"
   ]
  },
  {
   "cell_type": "markdown",
   "metadata": {},
   "source": [
    "* The last axis has 4 elements, and is printed from left to right.\n",
    "* The second last has 3, and is printed top to bottom\n",
    "* The other axis has 2, and is printed in the two separated blocks"
   ]
  },
  {
   "cell_type": "markdown",
   "metadata": {},
   "source": [
    "### Subset, Slice, Index and Iterate through Arrays\n",
    "\n",
    "For **one-dimensional arrays**, indexing, slicing etc. is **similar to python lists** - indexing starts at 0."
   ]
  },
  {
   "cell_type": "code",
   "execution_count": 23,
   "metadata": {},
   "outputs": [
    {
     "name": "stdout",
     "output_type": "stream",
     "text": [
      "[0 1 2 3 4 5 6 7 8 9]\n"
     ]
    }
   ],
   "source": [
    "# Indexing and slicing one dimensional arrays\n",
    "array_1d = np.arange(10)\n",
    "print(array_1d)"
   ]
  },
  {
   "cell_type": "code",
   "execution_count": 24,
   "metadata": {},
   "outputs": [
    {
     "name": "stdout",
     "output_type": "stream",
     "text": [
      "2\n",
      "[2 5 6]\n",
      "[2 3 4 5 6 7 8 9]\n",
      "[0 1 2]\n",
      "[2 3 4 5 6]\n",
      "[0 2 4 6 8]\n"
     ]
    }
   ],
   "source": [
    "# Third element\n",
    "print(array_1d[2])\n",
    "\n",
    "# Specific elements\n",
    "# Notice that array[2, 5, 6] will throw an error, you need to provide the indices as a list\n",
    "print(array_1d[[2, 5, 6]])\n",
    "\n",
    "# Slice third element onwards\n",
    "print(array_1d[2:])\n",
    "\n",
    "# Slice first three elements\n",
    "print(array_1d[:3])\n",
    "\n",
    "# Slice third to seventh elements\n",
    "print(array_1d[2:7])\n",
    "\n",
    "# Subset starting 0 at increment of 2 \n",
    "print(array_1d[0::2])"
   ]
  },
  {
   "cell_type": "code",
   "execution_count": 25,
   "metadata": {},
   "outputs": [
    {
     "name": "stdout",
     "output_type": "stream",
     "text": [
      "0\n",
      "1\n",
      "4\n",
      "9\n",
      "16\n",
      "25\n",
      "36\n",
      "49\n",
      "64\n",
      "81\n"
     ]
    }
   ],
   "source": [
    "# Iterations are also similar to lists\n",
    "for i in array_1d:\n",
    "    print(i**2)"
   ]
  },
  {
   "cell_type": "markdown",
   "metadata": {},
   "source": [
    "**Multidimensional arrays** are indexed using as many indices as the number of dimensions or axes. For instance, to index a 2-D array, you need two indices - ```array[x, y]```. \n",
    "\n",
    "Each axes has an index starting at 0. The following figure shows the axes and their indices for a 2-D array.\n",
    "\n",
    "<img src=\"2_d_array.png\" style=\"width: 350px; height: 300px\">\n"
   ]
  },
  {
   "cell_type": "code",
   "execution_count": 5,
   "metadata": {},
   "outputs": [
    {
     "name": "stdout",
     "output_type": "stream",
     "text": [
      "[[ 2  5  7  5]\n",
      " [ 4  6  8 10]\n",
      " [10 12 15 19]]\n"
     ]
    }
   ],
   "source": [
    "# Creating a 2-D array\n",
    "array_2d = np.array([[2, 5, 7, 5], [4, 6, 8, 10], [10, 12, 15, 19]])\n",
    "print(array_2d)\n"
   ]
  },
  {
   "cell_type": "code",
   "execution_count": 6,
   "metadata": {},
   "outputs": [
    {
     "name": "stdout",
     "output_type": "stream",
     "text": [
      "12\n",
      "12\n"
     ]
    }
   ],
   "source": [
    "# Third row second column\n",
    "print(array_2d[2, 1])\n",
    "print(array_2d[2][1])"
   ]
  },
  {
   "cell_type": "code",
   "execution_count": 15,
   "metadata": {},
   "outputs": [
    {
     "name": "stdout",
     "output_type": "stream",
     "text": [
      "[ 4  6  8 10]\n",
      "<class 'numpy.ndarray'>\n"
     ]
    }
   ],
   "source": [
    "# Slicing the second row, and all columns\n",
    "# Notice that the resultant is itself a 1-D array\n",
    "print(array_2d[1, :])\n",
    "print(type(array_2d[1, :]))"
   ]
  },
  {
   "cell_type": "code",
   "execution_count": 29,
   "metadata": {},
   "outputs": [
    {
     "name": "stdout",
     "output_type": "stream",
     "text": [
      "[ 7  8 15]\n"
     ]
    }
   ],
   "source": [
    "# Slicing all rows and the third column\n",
    "print(array_2d[:, 2])"
   ]
  },
  {
   "cell_type": "code",
   "execution_count": 30,
   "metadata": {},
   "outputs": [
    {
     "name": "stdout",
     "output_type": "stream",
     "text": [
      "[[ 2  5  7]\n",
      " [ 4  6  8]\n",
      " [10 12 15]]\n"
     ]
    }
   ],
   "source": [
    "# Slicing all rows and the first three columns\n",
    "print(array_2d[:, :3])"
   ]
  },
  {
   "cell_type": "markdown",
   "metadata": {},
   "source": [
    "**Iterating on 2-D arrays** is done with respect to the first axis (which is row, the second axis is column). "
   ]
  },
  {
   "cell_type": "code",
   "execution_count": 31,
   "metadata": {},
   "outputs": [
    {
     "name": "stdout",
     "output_type": "stream",
     "text": [
      "[2 5 7 5]\n",
      "[ 4  6  8 10]\n",
      "[10 12 15 19]\n"
     ]
    }
   ],
   "source": [
    "# Iterating over 2-D arrays\n",
    "for row in array_2d:\n",
    "    print(row)"
   ]
  },
  {
   "cell_type": "code",
   "execution_count": 32,
   "metadata": {},
   "outputs": [
    {
     "name": "stdout",
     "output_type": "stream",
     "text": [
      "[[[ 0  1  2  3]\n",
      "  [ 4  5  6  7]\n",
      "  [ 8  9 10 11]]\n",
      "\n",
      " [[12 13 14 15]\n",
      "  [16 17 18 19]\n",
      "  [20 21 22 23]]]\n"
     ]
    }
   ],
   "source": [
    "# Iterating over 3-D arrays: Done with respect to the first axis\n",
    "array_3d = np.arange(24).reshape(2, 3, 4)\n",
    "print(array_3d)"
   ]
  },
  {
   "cell_type": "code",
   "execution_count": 33,
   "metadata": {},
   "outputs": [
    {
     "name": "stdout",
     "output_type": "stream",
     "text": [
      "[[ 0  1  2  3]\n",
      " [ 4  5  6  7]\n",
      " [ 8  9 10 11]]\n",
      "[[12 13 14 15]\n",
      " [16 17 18 19]\n",
      " [20 21 22 23]]\n"
     ]
    }
   ],
   "source": [
    "# Prints the two blocks\n",
    "for row in array_3d:\n",
    "    print(row)"
   ]
  },
  {
   "cell_type": "markdown",
   "metadata": {},
   "source": [
    "### Compare Computation Times in NumPy and Standard Python Lists\n",
    "\n",
    "We mentioned that the key advantages of numpy are convenience and speed of computation. \n",
    "\n",
    "You'll often work with extremely large datasets, and thus it is important point for you to understand how much computation time (and memory) you can save using numpy, compared to standard python lists.   \n",
    "\n",
    "Let's compare the computation times of arrays and lists for a simple task of calculating the element-wise product of numbers. "
   ]
  },
  {
   "cell_type": "code",
   "execution_count": 8,
   "metadata": {},
   "outputs": [
    {
     "name": "stdout",
     "output_type": "stream",
     "text": [
      "2.200003147125244\n",
      "0.09000015258789062\n",
      "The ratio of time taken is 24.444437968889076\n"
     ]
    }
   ],
   "source": [
    "## Comparing time taken for computation\n",
    "list_1 = [i for i in range(10000000)]\n",
    "list_2 = [j**2 for j in range(10000000)]\n",
    "\n",
    "# list multiplication\n",
    "import time\n",
    "\n",
    "# store start time, time after computation, and take the difference\n",
    "t0 = time.time()\n",
    "product_list = list(map(lambda x, y: x*y, list_1, list_2))\n",
    "t1 = time.time()\n",
    "list_time = t1 - t0 \n",
    "print(t1-t0)\n",
    "\n",
    "\n",
    "# numpy array \n",
    "array_1 = np.array(list_1)\n",
    "array_2 = np.array(list_2)\n",
    "\n",
    "t0 = time.time()\n",
    "array_3 = array_1*array_2\n",
    "t1 = time.time()\n",
    "numpy_time = t1 - t0\n",
    "\n",
    "print(t1-t0)\n",
    "\n",
    "print(\"The ratio of time taken is {}\".format(list_time/numpy_time))"
   ]
  },
  {
   "cell_type": "markdown",
   "metadata": {},
   "source": [
    "In this case, numpy is **an order of magnitude faster** than lists. This is with arrays of size in millions, but you may work on much larger arrays of sizes in order of billions. Then, the difference is even larger.\n",
    "\n",
    "Some reasons for such difference in speed are:\n",
    "* NumPy is written in C, which is basically being executed behind the scenes\n",
    "* NumPy arrays are more compact than lists, i.e. they take much lesser storage space than lists\n",
    "\n",
    "\n",
    "The following discussions demonstrate the differences in speeds of NumPy and standard python:\n",
    "1. https://stackoverflow.com/questions/8385602/why-are-numpy-arrays-so-fast\n",
    "2. https://stackoverflow.com/questions/993984/why-numpy-instead-of-python-lists\n"
   ]
  },
  {
   "cell_type": "code",
   "execution_count": null,
   "metadata": {},
   "outputs": [],
   "source": []
  }
 ],
 "metadata": {
  "kernelspec": {
   "display_name": "Python 3",
   "language": "python",
   "name": "python3"
  },
  "language_info": {
   "codemirror_mode": {
    "name": "ipython",
    "version": 3
   },
   "file_extension": ".py",
   "mimetype": "text/x-python",
   "name": "python",
   "nbconvert_exporter": "python",
   "pygments_lexer": "ipython3",
   "version": "3.6.8"
  }
 },
 "nbformat": 4,
 "nbformat_minor": 2
}
