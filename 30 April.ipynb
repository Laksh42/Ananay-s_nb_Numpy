{
 "cells": [
  {
   "cell_type": "code",
   "execution_count": 1,
   "metadata": {},
   "outputs": [
    {
     "data": {
      "text/plain": [
       "array([['1', 'Angeli', 'Mapes', 'amapes0@chronoengine.com', 'Male'],\n",
       "       ['2', 'Petronille', 'Helmke', 'phelmke1@walmart.com', 'Female'],\n",
       "       ['3', 'Humfrid', 'Sainsberry', 'hsainsberry2@disqus.com', 'Male'],\n",
       "       ['4', 'Kaja', 'Carnson', 'kcarnson3@amazon.de', 'Female'],\n",
       "       ['5', 'Basia', 'Narraway', 'bnarraway4@bloomberg.com', 'Female'],\n",
       "       ['6', 'Hy', 'Robiot', 'hrobiot5@quantcast.com', 'Male'],\n",
       "       ['7', 'Angelika', 'Pedrocco', 'apedrocco6@quantcast.com',\n",
       "        'Female'],\n",
       "       ['8', 'Brigit', 'Olivie', 'bolivie7@so-net.ne.jp', 'Female'],\n",
       "       ['9', 'Marjorie', 'Coope', 'mcoope8@microsoft.com', 'Female'],\n",
       "       ['10', 'Demetra', 'Gumey', 'dgumey9@gmpg.org', 'Female'],\n",
       "       ['11', 'Geneva', 'Vasentsov', 'gvasentsova@wsj.com', 'Female'],\n",
       "       ['12', 'Llywellyn', 'Bullant', 'lbullantb@sfgate.com', 'Male'],\n",
       "       ['13', 'Ruperta', 'Dudin', 'rdudinc@dailymotion.com', 'Female'],\n",
       "       ['14', 'Page', 'Ferrotti', 'pferrottid@mashable.com', 'Female'],\n",
       "       ['15', 'Fara', 'Mannooch', 'fmannooche@bizjournals.com', 'Female'],\n",
       "       ['16', 'Manon', 'Focke', 'mfockef@oracle.com', 'Female'],\n",
       "       ['17', 'Josh', 'Belle', 'jbelleg@census.gov', 'Male'],\n",
       "       ['18', 'Jarad', 'Bresner', 'jbresnerh@51.la', 'Male'],\n",
       "       ['19', 'Reinaldos', 'Gianuzzi', 'rgianuzzii@slideshare.net',\n",
       "        'Male'],\n",
       "       ['20', 'Carlene', 'Willans', 'cwillansj@ed.gov', 'Female'],\n",
       "       ['21', 'Clayson', 'Jennaway', 'cjennawayk@usatoday.com', 'Male'],\n",
       "       ['22', 'Jed', 'McGilvray', 'jmcgilvrayl@jiathis.com', 'Male'],\n",
       "       ['23', 'Matteo', 'Zannotelli', 'mzannotellim@canalblog.com',\n",
       "        'Male'],\n",
       "       ['24', 'Carrol', 'Antos', 'cantosn@nydailynews.com', 'Male'],\n",
       "       ['25', 'Flinn', 'Broome', 'fbroomeo@tmall.com', 'Male'],\n",
       "       ['26', 'Any', 'Lewcock', 'alewcockp@nih.gov', 'Male'],\n",
       "       ['27', 'Halimeda', 'Drewet', 'hdrewetq@is.gd', 'Female'],\n",
       "       ['28', 'Melissa', 'Saundercock', 'msaundercockr@usnews.com',\n",
       "        'Female'],\n",
       "       ['29', 'Adrea', 'Sute', 'asutes@huffingtonpost.com', 'Female'],\n",
       "       ['30', 'Meaghan', 'Filan', 'mfilant@berkeley.edu', 'Female'],\n",
       "       ['31', 'Baldwin', \"O'Henehan\", 'bohenehanu@blogs.com', 'Male'],\n",
       "       ['32', 'Annabelle', 'McCaughen', 'amccaughenv@answers.com',\n",
       "        'Female'],\n",
       "       ['33', 'Allyn', 'Lias', 'aliasw@aol.com', 'Female'],\n",
       "       ['34', 'Katerina', 'Simounet', 'ksimounetx@shop-pro.jp', 'Female'],\n",
       "       ['35', 'Hedwig', 'Neild', 'hneildy@mashable.com', 'Female'],\n",
       "       ['36', 'Robbie', 'Stockport', 'rstockportz@ucoz.com', 'Male'],\n",
       "       ['37', 'Ofilia', 'Vasyatkin', 'ovasyatkin10@plala.or.jp',\n",
       "        'Female'],\n",
       "       ['38', 'Ashil', 'Daal', 'adaal11@skype.com', 'Female'],\n",
       "       ['39', 'Bradney', 'Erangey', 'berangey12@reverbnation.com',\n",
       "        'Male'],\n",
       "       ['40', 'Bibbye', 'Jarrelt', 'bjarrelt13@about.com', 'Female'],\n",
       "       ['41', 'Luciano', 'Wingatt', 'lwingatt14@ibm.com', 'Male'],\n",
       "       ['42', 'Izabel', 'Batisse', 'ibatisse15@bloglovin.com', 'Female'],\n",
       "       ['43', 'Cullen', 'Gjerde', 'cgjerde16@odnoklassniki.ru', 'Male'],\n",
       "       ['44', 'Hewitt', 'Lante', 'hlante17@ft.com', 'Male'],\n",
       "       ['45', 'Karel', 'Mounter', 'kmounter18@hao123.com', 'Male'],\n",
       "       ['46', 'Gratiana', 'Elletson', 'gelletson19@shareasale.com',\n",
       "        'Female'],\n",
       "       ['47', 'Robin', 'Reford', 'rreford1a@businessweek.com', 'Male'],\n",
       "       ['48', 'Ashlee', 'Rochewell', 'arochewell1b@mysql.com', 'Female'],\n",
       "       ['49', 'Isis', 'Woehler', 'iwoehler1c@paypal.com', 'Female'],\n",
       "       ['50', 'Cori', 'Lancley', 'clancley1d@arstechnica.com', 'Female'],\n",
       "       ['51', 'Alexio', 'Elsley', 'aelsley1e@ucoz.com', 'Male'],\n",
       "       ['52', 'Glenn', 'Paula', 'gpaula1f@patch.com', 'Male'],\n",
       "       ['53', 'Corena', 'Lenthall', 'clenthall1g@ow.ly', 'Female'],\n",
       "       ['54', 'Larina', 'Sallnow', 'lsallnow1h@xing.com', 'Female'],\n",
       "       ['55', 'Filberte', 'Zucker', 'fzucker1i@businessweek.com', 'Male'],\n",
       "       ['56', 'Roxane', 'Smeaton', 'rsmeaton1j@un.org', 'Female'],\n",
       "       ['57', 'Osborne', 'Buxton', 'obuxton1k@auda.org.au', 'Male'],\n",
       "       ['58', 'Kinnie', 'Zahor', 'kzahor1l@infoseek.co.jp', 'Male'],\n",
       "       ['59', 'Bourke', 'Karolewski', 'bkarolewski1m@berkeley.edu',\n",
       "        'Male'],\n",
       "       ['60', 'Oralee', 'Grabbam', 'ograbbam1n@stumbleupon.com',\n",
       "        'Female'],\n",
       "       ['61', 'Lorenza', 'Rikkard', 'lrikkard1o@zimbio.com', 'Female'],\n",
       "       ['62', 'Dasie', 'McRannell', 'dmcrannell1p@ustream.tv', 'Female'],\n",
       "       ['63', 'Cord', 'Stonhard', 'cstonhard1q@vimeo.com', 'Male'],\n",
       "       ['64', 'Dolph', 'Olander', 'dolander1r@theguardian.com', 'Male'],\n",
       "       ['65', 'Haydon', 'Salmoni', 'hsalmoni1s@cnbc.com', 'Male'],\n",
       "       ['66', 'Lauree', 'Cocksedge', 'lcocksedge1t@amazon.co.jp',\n",
       "        'Female'],\n",
       "       ['67', 'Hollyanne', 'Thomton', 'hthomton1u@unc.edu', 'Female'],\n",
       "       ['68', 'Barrie', 'Carillo', 'bcarillo1v@php.net', 'Male'],\n",
       "       ['69', 'Horst', 'Penney', 'hpenney1w@amazon.de', 'Male'],\n",
       "       ['70', 'Reba', 'Andraud', 'randraud1x@bbc.co.uk', 'Female'],\n",
       "       ['71', 'Rick', 'Birrane', 'rbirrane1y@mayoclinic.com', 'Male'],\n",
       "       ['72', 'Nicholas', 'Flinders', 'nflinders1z@washington.edu',\n",
       "        'Male'],\n",
       "       ['73', 'Farand', 'Oxford', 'foxford20@webmd.com', 'Female'],\n",
       "       ['74', 'Oswell', 'Dumper', 'odumper21@quantcast.com', 'Male'],\n",
       "       ['75', 'Flori', 'Ebbin', 'febbin22@oakley.com', 'Female'],\n",
       "       ['76', 'Daisie', 'Thying', 'dthying23@upenn.edu', 'Female'],\n",
       "       ['77', 'Ruben', 'Tichelaar', 'rtichelaar24@msu.edu', 'Male'],\n",
       "       ['78', 'Marylin', 'McCaighey', 'mmccaighey25@tuttocitta.it',\n",
       "        'Female'],\n",
       "       ['79', 'Lina', 'Yokley', 'lyokley26@acquirethisname.com',\n",
       "        'Female'],\n",
       "       ['80', 'Darnell', 'Keele', 'dkeele27@usgs.gov', 'Male'],\n",
       "       ['81', 'Evangelin', 'MacGaughie', 'emacgaughie28@netvibes.com',\n",
       "        'Female'],\n",
       "       ['82', 'Orren', 'Coats', 'ocoats29@dagondesign.com', 'Male'],\n",
       "       ['83', 'Cindi', 'Kearle', 'ckearle2a@wix.com', 'Female'],\n",
       "       ['84', 'Lon', 'Dmitrovic', 'ldmitrovic2b@pinterest.com', 'Male'],\n",
       "       ['85', 'Raviv', 'Dickson', 'rdickson2c@1688.com', 'Male'],\n",
       "       ['86', 'Barnabe', 'Lombard', 'blombard2d@wikispaces.com', 'Male'],\n",
       "       ['87', 'Hedwig', 'Canario', 'hcanario2e@youtu.be', 'Female'],\n",
       "       ['88', 'Leanna', 'Farrance', 'lfarrance2f@oakley.com', 'Female'],\n",
       "       ['89', 'Ashil', 'Saltwell', 'asaltwell2g@goo.gl', 'Female'],\n",
       "       ['90', 'Matthias', 'Matteris', 'mmatteris2h@e-recht24.de', 'Male'],\n",
       "       ['91', 'Gregory', 'Tetsall', 'gtetsall2i@canalblog.com', 'Male'],\n",
       "       ['92', 'Cybil', 'Spadaro', 'cspadaro2j@infoseek.co.jp', 'Female'],\n",
       "       ['93', 'Ariadne', 'Hillaby', 'ahillaby2k@naver.com', 'Female'],\n",
       "       ['94', 'Ree', 'Adamkiewicz', 'radamkiewicz2l@freewebs.com',\n",
       "        'Female'],\n",
       "       ['95', 'Patric', 'Dafydd', 'pdafydd2m@virginia.edu', 'Male'],\n",
       "       ['96', 'Theda', 'Lockton', 'tlockton2n@blogs.com', 'Female'],\n",
       "       ['97', 'Jamesy', 'Fitch', 'jfitch2o@pbs.org', 'Male'],\n",
       "       ['98', 'Briana', 'Maudett', 'bmaudett2p@ibm.com', 'Female'],\n",
       "       ['99', 'Martin', 'Ayrton', 'mayrton2q@alexa.com', 'Male'],\n",
       "       ['100', 'Obediah', 'Dallicoat', 'odallicoat2r@mediafire.com',\n",
       "        'Male']], dtype='<U29')"
      ]
     },
     "execution_count": 1,
     "metadata": {},
     "output_type": "execute_result"
    }
   ],
   "source": [
    "import numpy as np\n",
    "data = np.genfromtxt('data.csv', delimiter=',', dtype=str)\n",
    "data"
   ]
  },
  {
   "cell_type": "code",
   "execution_count": 2,
   "metadata": {},
   "outputs": [
    {
     "data": {
      "text/plain": [
       "100"
      ]
     },
     "execution_count": 2,
     "metadata": {},
     "output_type": "execute_result"
    }
   ],
   "source": [
    "len(data)"
   ]
  },
  {
   "cell_type": "code",
   "execution_count": 3,
   "metadata": {},
   "outputs": [
    {
     "data": {
      "text/plain": [
       "(100, 5)"
      ]
     },
     "execution_count": 3,
     "metadata": {},
     "output_type": "execute_result"
    }
   ],
   "source": [
    "data.shape"
   ]
  },
  {
   "cell_type": "code",
   "execution_count": 9,
   "metadata": {},
   "outputs": [
    {
     "name": "stdout",
     "output_type": "stream",
     "text": [
      "Total Male: 47\n",
      "Total Female: 53\n"
     ]
    }
   ],
   "source": [
    "print(\"Total Male:\",len(data[data[...,4]=='Male']))\n",
    "print(\"Total Female:\",len(data[data[...,4]=='Female']))"
   ]
  },
  {
   "cell_type": "code",
   "execution_count": 11,
   "metadata": {},
   "outputs": [],
   "source": [
    "M=np.where(data[...,4]=='Male')\n",
    "F=np.where(data[...,4]=='Female')"
   ]
  },
  {
   "cell_type": "code",
   "execution_count": 12,
   "metadata": {},
   "outputs": [
    {
     "data": {
      "text/plain": [
       "array([['1', 'Angeli', 'Mapes', 'amapes0@chronoengine.com', 'Male'],\n",
       "       ['3', 'Humfrid', 'Sainsberry', 'hsainsberry2@disqus.com', 'Male'],\n",
       "       ['6', 'Hy', 'Robiot', 'hrobiot5@quantcast.com', 'Male'],\n",
       "       ['12', 'Llywellyn', 'Bullant', 'lbullantb@sfgate.com', 'Male'],\n",
       "       ['17', 'Josh', 'Belle', 'jbelleg@census.gov', 'Male'],\n",
       "       ['18', 'Jarad', 'Bresner', 'jbresnerh@51.la', 'Male'],\n",
       "       ['19', 'Reinaldos', 'Gianuzzi', 'rgianuzzii@slideshare.net',\n",
       "        'Male'],\n",
       "       ['21', 'Clayson', 'Jennaway', 'cjennawayk@usatoday.com', 'Male'],\n",
       "       ['22', 'Jed', 'McGilvray', 'jmcgilvrayl@jiathis.com', 'Male'],\n",
       "       ['23', 'Matteo', 'Zannotelli', 'mzannotellim@canalblog.com',\n",
       "        'Male'],\n",
       "       ['24', 'Carrol', 'Antos', 'cantosn@nydailynews.com', 'Male'],\n",
       "       ['25', 'Flinn', 'Broome', 'fbroomeo@tmall.com', 'Male'],\n",
       "       ['26', 'Any', 'Lewcock', 'alewcockp@nih.gov', 'Male'],\n",
       "       ['31', 'Baldwin', \"O'Henehan\", 'bohenehanu@blogs.com', 'Male'],\n",
       "       ['36', 'Robbie', 'Stockport', 'rstockportz@ucoz.com', 'Male'],\n",
       "       ['39', 'Bradney', 'Erangey', 'berangey12@reverbnation.com',\n",
       "        'Male'],\n",
       "       ['41', 'Luciano', 'Wingatt', 'lwingatt14@ibm.com', 'Male'],\n",
       "       ['43', 'Cullen', 'Gjerde', 'cgjerde16@odnoklassniki.ru', 'Male'],\n",
       "       ['44', 'Hewitt', 'Lante', 'hlante17@ft.com', 'Male'],\n",
       "       ['45', 'Karel', 'Mounter', 'kmounter18@hao123.com', 'Male'],\n",
       "       ['47', 'Robin', 'Reford', 'rreford1a@businessweek.com', 'Male'],\n",
       "       ['51', 'Alexio', 'Elsley', 'aelsley1e@ucoz.com', 'Male'],\n",
       "       ['52', 'Glenn', 'Paula', 'gpaula1f@patch.com', 'Male'],\n",
       "       ['55', 'Filberte', 'Zucker', 'fzucker1i@businessweek.com', 'Male'],\n",
       "       ['57', 'Osborne', 'Buxton', 'obuxton1k@auda.org.au', 'Male'],\n",
       "       ['58', 'Kinnie', 'Zahor', 'kzahor1l@infoseek.co.jp', 'Male'],\n",
       "       ['59', 'Bourke', 'Karolewski', 'bkarolewski1m@berkeley.edu',\n",
       "        'Male'],\n",
       "       ['63', 'Cord', 'Stonhard', 'cstonhard1q@vimeo.com', 'Male'],\n",
       "       ['64', 'Dolph', 'Olander', 'dolander1r@theguardian.com', 'Male'],\n",
       "       ['65', 'Haydon', 'Salmoni', 'hsalmoni1s@cnbc.com', 'Male'],\n",
       "       ['68', 'Barrie', 'Carillo', 'bcarillo1v@php.net', 'Male'],\n",
       "       ['69', 'Horst', 'Penney', 'hpenney1w@amazon.de', 'Male'],\n",
       "       ['71', 'Rick', 'Birrane', 'rbirrane1y@mayoclinic.com', 'Male'],\n",
       "       ['72', 'Nicholas', 'Flinders', 'nflinders1z@washington.edu',\n",
       "        'Male'],\n",
       "       ['74', 'Oswell', 'Dumper', 'odumper21@quantcast.com', 'Male'],\n",
       "       ['77', 'Ruben', 'Tichelaar', 'rtichelaar24@msu.edu', 'Male'],\n",
       "       ['80', 'Darnell', 'Keele', 'dkeele27@usgs.gov', 'Male'],\n",
       "       ['82', 'Orren', 'Coats', 'ocoats29@dagondesign.com', 'Male'],\n",
       "       ['84', 'Lon', 'Dmitrovic', 'ldmitrovic2b@pinterest.com', 'Male'],\n",
       "       ['85', 'Raviv', 'Dickson', 'rdickson2c@1688.com', 'Male'],\n",
       "       ['86', 'Barnabe', 'Lombard', 'blombard2d@wikispaces.com', 'Male'],\n",
       "       ['90', 'Matthias', 'Matteris', 'mmatteris2h@e-recht24.de', 'Male'],\n",
       "       ['91', 'Gregory', 'Tetsall', 'gtetsall2i@canalblog.com', 'Male'],\n",
       "       ['95', 'Patric', 'Dafydd', 'pdafydd2m@virginia.edu', 'Male'],\n",
       "       ['97', 'Jamesy', 'Fitch', 'jfitch2o@pbs.org', 'Male'],\n",
       "       ['99', 'Martin', 'Ayrton', 'mayrton2q@alexa.com', 'Male'],\n",
       "       ['100', 'Obediah', 'Dallicoat', 'odallicoat2r@mediafire.com',\n",
       "        'Male']], dtype='<U29')"
      ]
     },
     "execution_count": 12,
     "metadata": {},
     "output_type": "execute_result"
    }
   ],
   "source": [
    "data[M]"
   ]
  },
  {
   "cell_type": "code",
   "execution_count": 13,
   "metadata": {},
   "outputs": [
    {
     "data": {
      "text/plain": [
       "array([['2', 'Petronille', 'Helmke', 'phelmke1@walmart.com', 'Female'],\n",
       "       ['4', 'Kaja', 'Carnson', 'kcarnson3@amazon.de', 'Female'],\n",
       "       ['5', 'Basia', 'Narraway', 'bnarraway4@bloomberg.com', 'Female'],\n",
       "       ['7', 'Angelika', 'Pedrocco', 'apedrocco6@quantcast.com',\n",
       "        'Female'],\n",
       "       ['8', 'Brigit', 'Olivie', 'bolivie7@so-net.ne.jp', 'Female'],\n",
       "       ['9', 'Marjorie', 'Coope', 'mcoope8@microsoft.com', 'Female'],\n",
       "       ['10', 'Demetra', 'Gumey', 'dgumey9@gmpg.org', 'Female'],\n",
       "       ['11', 'Geneva', 'Vasentsov', 'gvasentsova@wsj.com', 'Female'],\n",
       "       ['13', 'Ruperta', 'Dudin', 'rdudinc@dailymotion.com', 'Female'],\n",
       "       ['14', 'Page', 'Ferrotti', 'pferrottid@mashable.com', 'Female'],\n",
       "       ['15', 'Fara', 'Mannooch', 'fmannooche@bizjournals.com', 'Female'],\n",
       "       ['16', 'Manon', 'Focke', 'mfockef@oracle.com', 'Female'],\n",
       "       ['20', 'Carlene', 'Willans', 'cwillansj@ed.gov', 'Female'],\n",
       "       ['27', 'Halimeda', 'Drewet', 'hdrewetq@is.gd', 'Female'],\n",
       "       ['28', 'Melissa', 'Saundercock', 'msaundercockr@usnews.com',\n",
       "        'Female'],\n",
       "       ['29', 'Adrea', 'Sute', 'asutes@huffingtonpost.com', 'Female'],\n",
       "       ['30', 'Meaghan', 'Filan', 'mfilant@berkeley.edu', 'Female'],\n",
       "       ['32', 'Annabelle', 'McCaughen', 'amccaughenv@answers.com',\n",
       "        'Female'],\n",
       "       ['33', 'Allyn', 'Lias', 'aliasw@aol.com', 'Female'],\n",
       "       ['34', 'Katerina', 'Simounet', 'ksimounetx@shop-pro.jp', 'Female'],\n",
       "       ['35', 'Hedwig', 'Neild', 'hneildy@mashable.com', 'Female'],\n",
       "       ['37', 'Ofilia', 'Vasyatkin', 'ovasyatkin10@plala.or.jp',\n",
       "        'Female'],\n",
       "       ['38', 'Ashil', 'Daal', 'adaal11@skype.com', 'Female'],\n",
       "       ['40', 'Bibbye', 'Jarrelt', 'bjarrelt13@about.com', 'Female'],\n",
       "       ['42', 'Izabel', 'Batisse', 'ibatisse15@bloglovin.com', 'Female'],\n",
       "       ['46', 'Gratiana', 'Elletson', 'gelletson19@shareasale.com',\n",
       "        'Female'],\n",
       "       ['48', 'Ashlee', 'Rochewell', 'arochewell1b@mysql.com', 'Female'],\n",
       "       ['49', 'Isis', 'Woehler', 'iwoehler1c@paypal.com', 'Female'],\n",
       "       ['50', 'Cori', 'Lancley', 'clancley1d@arstechnica.com', 'Female'],\n",
       "       ['53', 'Corena', 'Lenthall', 'clenthall1g@ow.ly', 'Female'],\n",
       "       ['54', 'Larina', 'Sallnow', 'lsallnow1h@xing.com', 'Female'],\n",
       "       ['56', 'Roxane', 'Smeaton', 'rsmeaton1j@un.org', 'Female'],\n",
       "       ['60', 'Oralee', 'Grabbam', 'ograbbam1n@stumbleupon.com',\n",
       "        'Female'],\n",
       "       ['61', 'Lorenza', 'Rikkard', 'lrikkard1o@zimbio.com', 'Female'],\n",
       "       ['62', 'Dasie', 'McRannell', 'dmcrannell1p@ustream.tv', 'Female'],\n",
       "       ['66', 'Lauree', 'Cocksedge', 'lcocksedge1t@amazon.co.jp',\n",
       "        'Female'],\n",
       "       ['67', 'Hollyanne', 'Thomton', 'hthomton1u@unc.edu', 'Female'],\n",
       "       ['70', 'Reba', 'Andraud', 'randraud1x@bbc.co.uk', 'Female'],\n",
       "       ['73', 'Farand', 'Oxford', 'foxford20@webmd.com', 'Female'],\n",
       "       ['75', 'Flori', 'Ebbin', 'febbin22@oakley.com', 'Female'],\n",
       "       ['76', 'Daisie', 'Thying', 'dthying23@upenn.edu', 'Female'],\n",
       "       ['78', 'Marylin', 'McCaighey', 'mmccaighey25@tuttocitta.it',\n",
       "        'Female'],\n",
       "       ['79', 'Lina', 'Yokley', 'lyokley26@acquirethisname.com',\n",
       "        'Female'],\n",
       "       ['81', 'Evangelin', 'MacGaughie', 'emacgaughie28@netvibes.com',\n",
       "        'Female'],\n",
       "       ['83', 'Cindi', 'Kearle', 'ckearle2a@wix.com', 'Female'],\n",
       "       ['87', 'Hedwig', 'Canario', 'hcanario2e@youtu.be', 'Female'],\n",
       "       ['88', 'Leanna', 'Farrance', 'lfarrance2f@oakley.com', 'Female'],\n",
       "       ['89', 'Ashil', 'Saltwell', 'asaltwell2g@goo.gl', 'Female'],\n",
       "       ['92', 'Cybil', 'Spadaro', 'cspadaro2j@infoseek.co.jp', 'Female'],\n",
       "       ['93', 'Ariadne', 'Hillaby', 'ahillaby2k@naver.com', 'Female'],\n",
       "       ['94', 'Ree', 'Adamkiewicz', 'radamkiewicz2l@freewebs.com',\n",
       "        'Female'],\n",
       "       ['96', 'Theda', 'Lockton', 'tlockton2n@blogs.com', 'Female'],\n",
       "       ['98', 'Briana', 'Maudett', 'bmaudett2p@ibm.com', 'Female']],\n",
       "      dtype='<U29')"
      ]
     },
     "execution_count": 13,
     "metadata": {},
     "output_type": "execute_result"
    }
   ],
   "source": [
    "data[F]"
   ]
  },
  {
   "cell_type": "code",
   "execution_count": 14,
   "metadata": {},
   "outputs": [
    {
     "data": {
      "text/plain": [
       "47"
      ]
     },
     "execution_count": 14,
     "metadata": {},
     "output_type": "execute_result"
    }
   ],
   "source": [
    "len(data[M])"
   ]
  },
  {
   "cell_type": "code",
   "execution_count": 15,
   "metadata": {},
   "outputs": [
    {
     "data": {
      "text/plain": [
       "53"
      ]
     },
     "execution_count": 15,
     "metadata": {},
     "output_type": "execute_result"
    }
   ],
   "source": [
    "len(data[F])"
   ]
  },
  {
   "cell_type": "code",
   "execution_count": 18,
   "metadata": {},
   "outputs": [
    {
     "data": {
      "text/plain": [
       "array([1, 0, 1, 0, 0, 1, 0, 0, 0, 0, 0, 1, 0, 0, 0, 0, 1, 1, 1, 0, 1, 1,\n",
       "       1, 1, 1, 1, 0, 0, 0, 0, 1, 0, 0, 0, 0, 1, 0, 0, 1, 0, 1, 0, 1, 1,\n",
       "       1, 0, 1, 0, 0, 0, 1, 1, 0, 0, 1, 0, 1, 1, 1, 0, 0, 0, 1, 1, 1, 0,\n",
       "       0, 1, 1, 0, 1, 1, 0, 1, 0, 0, 1, 0, 0, 1, 0, 1, 0, 1, 1, 1, 0, 0,\n",
       "       0, 1, 1, 0, 0, 0, 1, 0, 1, 0, 1, 1])"
      ]
     },
     "execution_count": 18,
     "metadata": {},
     "output_type": "execute_result"
    }
   ],
   "source": [
    "c=np.char.count(data[...,4],'Male')\n",
    "c"
   ]
  },
  {
   "cell_type": "code",
   "execution_count": 19,
   "metadata": {},
   "outputs": [
    {
     "name": "stdout",
     "output_type": "stream",
     "text": [
      "Male: 47\n",
      "Female: 53\n"
     ]
    }
   ],
   "source": [
    "Male=0\n",
    "Female=0\n",
    "for i in c:\n",
    "    if i==1:\n",
    "        Male=Male+1\n",
    "    else:\n",
    "        Female=Female+1\n",
    "    \n",
    "print(\"Male:\",Male)\n",
    "print(\"Female:\",Female)"
   ]
  },
  {
   "cell_type": "code",
   "execution_count": 20,
   "metadata": {},
   "outputs": [],
   "source": [
    "import collections"
   ]
  },
  {
   "cell_type": "code",
   "execution_count": 24,
   "metadata": {},
   "outputs": [
    {
     "data": {
      "text/plain": [
       "Counter({1: 47, 0: 53})"
      ]
     },
     "execution_count": 24,
     "metadata": {},
     "output_type": "execute_result"
    }
   ],
   "source": [
    "collections.Counter(c)"
   ]
  },
  {
   "cell_type": "code",
   "execution_count": 29,
   "metadata": {},
   "outputs": [],
   "source": [
    "d=collections.Counter(data[...,4])"
   ]
  },
  {
   "cell_type": "code",
   "execution_count": 31,
   "metadata": {},
   "outputs": [
    {
     "data": {
      "text/plain": [
       "47"
      ]
     },
     "execution_count": 31,
     "metadata": {},
     "output_type": "execute_result"
    }
   ],
   "source": [
    "d['Male']"
   ]
  },
  {
   "cell_type": "code",
   "execution_count": 32,
   "metadata": {},
   "outputs": [
    {
     "data": {
      "text/plain": [
       "53"
      ]
     },
     "execution_count": 32,
     "metadata": {},
     "output_type": "execute_result"
    }
   ],
   "source": [
    "d['Female']"
   ]
  },
  {
   "cell_type": "code",
   "execution_count": 34,
   "metadata": {},
   "outputs": [
    {
     "data": {
      "text/plain": [
       "47"
      ]
     },
     "execution_count": 34,
     "metadata": {},
     "output_type": "execute_result"
    }
   ],
   "source": [
    "np.count_nonzero(c==1)"
   ]
  },
  {
   "cell_type": "code",
   "execution_count": 35,
   "metadata": {},
   "outputs": [
    {
     "data": {
      "text/plain": [
       "53"
      ]
     },
     "execution_count": 35,
     "metadata": {},
     "output_type": "execute_result"
    }
   ],
   "source": [
    "np.count_nonzero(c==0)"
   ]
  },
  {
   "cell_type": "code",
   "execution_count": 38,
   "metadata": {},
   "outputs": [
    {
     "data": {
      "text/plain": [
       "47"
      ]
     },
     "execution_count": 38,
     "metadata": {},
     "output_type": "execute_result"
    }
   ],
   "source": [
    "(c==1).sum()"
   ]
  },
  {
   "cell_type": "code",
   "execution_count": 39,
   "metadata": {},
   "outputs": [
    {
     "data": {
      "text/plain": [
       "53"
      ]
     },
     "execution_count": 39,
     "metadata": {},
     "output_type": "execute_result"
    }
   ],
   "source": [
    "(c==0).sum()"
   ]
  },
  {
   "cell_type": "code",
   "execution_count": 41,
   "metadata": {},
   "outputs": [
    {
     "data": {
      "text/plain": [
       "array([53, 47], dtype=int64)"
      ]
     },
     "execution_count": 41,
     "metadata": {},
     "output_type": "execute_result"
    }
   ],
   "source": [
    "np.bincount(c)"
   ]
  },
  {
   "cell_type": "code",
   "execution_count": 43,
   "metadata": {},
   "outputs": [
    {
     "data": {
      "text/plain": [
       "array([1, 0, 1, 0, 0, 1, 0, 0, 0, 0, 0, 1, 0, 0, 0, 0, 1, 1, 1, 0, 1, 1,\n",
       "       1, 1, 1, 1, 0, 0, 0, 0, 1, 0, 0, 0, 0, 1, 0, 0, 1, 0, 1, 0, 1, 1,\n",
       "       1, 0, 1, 0, 0, 0, 1, 1, 0, 0, 1, 0, 1, 1, 1, 0, 0, 0, 1, 1, 1, 0,\n",
       "       0, 1, 1, 0, 1, 1, 0, 1, 0, 0, 1, 0, 0, 1, 0, 1, 0, 1, 1, 1, 0, 0,\n",
       "       0, 1, 1, 0, 0, 0, 1, 0, 1, 0, 1, 1])"
      ]
     },
     "execution_count": 43,
     "metadata": {},
     "output_type": "execute_result"
    }
   ],
   "source": [
    "np.char.count(data[...,4],'Male')"
   ]
  },
  {
   "cell_type": "code",
   "execution_count": 45,
   "metadata": {},
   "outputs": [
    {
     "data": {
      "text/plain": [
       "47"
      ]
     },
     "execution_count": 45,
     "metadata": {},
     "output_type": "execute_result"
    }
   ],
   "source": [
    "np.sum(data[...,4]=='Male')"
   ]
  },
  {
   "cell_type": "code",
   "execution_count": 46,
   "metadata": {},
   "outputs": [
    {
     "data": {
      "text/plain": [
       "47"
      ]
     },
     "execution_count": 46,
     "metadata": {},
     "output_type": "execute_result"
    }
   ],
   "source": [
    "(data[...,4]=='Male').sum()"
   ]
  },
  {
   "cell_type": "code",
   "execution_count": 51,
   "metadata": {},
   "outputs": [
    {
     "data": {
      "text/plain": [
       "array(['Female', 'Male'], dtype='<U29')"
      ]
     },
     "execution_count": 51,
     "metadata": {},
     "output_type": "execute_result"
    }
   ],
   "source": [
    "np.unique(data[...,4])"
   ]
  },
  {
   "cell_type": "code",
   "execution_count": 52,
   "metadata": {},
   "outputs": [
    {
     "name": "stdout",
     "output_type": "stream",
     "text": [
      "Female\n",
      "Male\n"
     ]
    }
   ],
   "source": [
    "for i in np.unique(data[...,4]):\n",
    "    print(i)"
   ]
  },
  {
   "cell_type": "code",
   "execution_count": 59,
   "metadata": {},
   "outputs": [
    {
     "data": {
      "text/plain": [
       "5050"
      ]
     },
     "execution_count": 59,
     "metadata": {},
     "output_type": "execute_result"
    }
   ],
   "source": [
    "data[...,0].astype('int').sum()"
   ]
  },
  {
   "cell_type": "code",
   "execution_count": null,
   "metadata": {},
   "outputs": [],
   "source": []
  }
 ],
 "metadata": {
  "kernelspec": {
   "display_name": "Python 3",
   "language": "python",
   "name": "python3"
  },
  "language_info": {
   "codemirror_mode": {
    "name": "ipython",
    "version": 3
   },
   "file_extension": ".py",
   "mimetype": "text/x-python",
   "name": "python",
   "nbconvert_exporter": "python",
   "pygments_lexer": "ipython3",
   "version": "3.7.4"
  }
 },
 "nbformat": 4,
 "nbformat_minor": 2
}
