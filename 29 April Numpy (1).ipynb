{
 "cells": [
  {
   "cell_type": "code",
   "execution_count": 1,
   "metadata": {},
   "outputs": [
    {
     "data": {
      "text/plain": [
       "array([ 1,  2,  3,  4,  5,  6,  7,  8,  9, 10, 11, 12])"
      ]
     },
     "execution_count": 1,
     "metadata": {},
     "output_type": "execute_result"
    }
   ],
   "source": [
    "import numpy as np\n",
    "Arr=np.arange(1,13)\n",
    "Arr"
   ]
  },
  {
   "cell_type": "code",
   "execution_count": 4,
   "metadata": {},
   "outputs": [
    {
     "data": {
      "text/plain": [
       "array([[ 1,  2,  3,  4],\n",
       "       [ 5,  6,  7,  8],\n",
       "       [ 9, 10, 11, 12]])"
      ]
     },
     "execution_count": 4,
     "metadata": {},
     "output_type": "execute_result"
    }
   ],
   "source": [
    "Arr.reshape(3,4)"
   ]
  },
  {
   "cell_type": "code",
   "execution_count": 6,
   "metadata": {},
   "outputs": [
    {
     "data": {
      "text/plain": [
       "array([[ 1,  2,  3,  4,  5,  6],\n",
       "       [ 7,  8,  9, 10, 11, 12]])"
      ]
     },
     "execution_count": 6,
     "metadata": {},
     "output_type": "execute_result"
    }
   ],
   "source": [
    "Arr.reshape(2,6)"
   ]
  },
  {
   "cell_type": "code",
   "execution_count": 8,
   "metadata": {},
   "outputs": [
    {
     "data": {
      "text/plain": [
       "array([[ 1,  2,  3],\n",
       "       [ 4,  5,  6],\n",
       "       [ 7,  8,  9],\n",
       "       [10, 11, 12]])"
      ]
     },
     "execution_count": 8,
     "metadata": {},
     "output_type": "execute_result"
    }
   ],
   "source": [
    "Arr.reshape(4,-1)"
   ]
  },
  {
   "cell_type": "code",
   "execution_count": 10,
   "metadata": {},
   "outputs": [
    {
     "data": {
      "text/plain": [
       "array([[ 1,  2,  3],\n",
       "       [ 4,  5,  6],\n",
       "       [ 7,  8,  9],\n",
       "       [10, 11, 12]])"
      ]
     },
     "execution_count": 10,
     "metadata": {},
     "output_type": "execute_result"
    }
   ],
   "source": [
    "Arr=Arr.reshape(-1,3)\n",
    "Arr"
   ]
  },
  {
   "cell_type": "code",
   "execution_count": 11,
   "metadata": {},
   "outputs": [
    {
     "data": {
      "text/plain": [
       "array([[ 1,  2,  3],\n",
       "       [ 4,  5,  6],\n",
       "       [ 7,  8,  9],\n",
       "       [10, 11, 12]])"
      ]
     },
     "execution_count": 11,
     "metadata": {},
     "output_type": "execute_result"
    }
   ],
   "source": [
    "Arr"
   ]
  },
  {
   "cell_type": "code",
   "execution_count": 12,
   "metadata": {},
   "outputs": [
    {
     "data": {
      "text/plain": [
       "array([[ 1,  4,  7, 10],\n",
       "       [ 2,  5,  8, 11],\n",
       "       [ 3,  6,  9, 12]])"
      ]
     },
     "execution_count": 12,
     "metadata": {},
     "output_type": "execute_result"
    }
   ],
   "source": [
    "Arr.T"
   ]
  },
  {
   "cell_type": "markdown",
   "metadata": {},
   "source": [
    "### Stack"
   ]
  },
  {
   "cell_type": "code",
   "execution_count": 13,
   "metadata": {},
   "outputs": [
    {
     "data": {
      "text/plain": [
       "array([[ 0,  1,  2,  3],\n",
       "       [ 4,  5,  6,  7],\n",
       "       [ 8,  9, 10, 11]])"
      ]
     },
     "execution_count": 13,
     "metadata": {},
     "output_type": "execute_result"
    }
   ],
   "source": [
    "A1=np.arange(12).reshape(3,4)\n",
    "A1"
   ]
  },
  {
   "cell_type": "code",
   "execution_count": 14,
   "metadata": {},
   "outputs": [
    {
     "data": {
      "text/plain": [
       "array([[ 0,  1,  2,  3],\n",
       "       [ 4,  5,  6,  7],\n",
       "       [ 8,  9, 10, 11],\n",
       "       [12, 13, 14, 15],\n",
       "       [16, 17, 18, 19]])"
      ]
     },
     "execution_count": 14,
     "metadata": {},
     "output_type": "execute_result"
    }
   ],
   "source": [
    "A2=np.arange(20).reshape(5,4)\n",
    "A2"
   ]
  },
  {
   "cell_type": "code",
   "execution_count": 16,
   "metadata": {},
   "outputs": [
    {
     "data": {
      "text/plain": [
       "array([[ 0,  1,  2,  3],\n",
       "       [ 4,  5,  6,  7],\n",
       "       [ 8,  9, 10, 11],\n",
       "       [ 0,  1,  2,  3],\n",
       "       [ 4,  5,  6,  7],\n",
       "       [ 8,  9, 10, 11],\n",
       "       [12, 13, 14, 15],\n",
       "       [16, 17, 18, 19]])"
      ]
     },
     "execution_count": 16,
     "metadata": {},
     "output_type": "execute_result"
    }
   ],
   "source": [
    "np.vstack((A1,A2))"
   ]
  },
  {
   "cell_type": "code",
   "execution_count": 17,
   "metadata": {},
   "outputs": [
    {
     "data": {
      "text/plain": [
       "array([[ 0,  1,  2],\n",
       "       [ 3,  4,  5],\n",
       "       [ 6,  7,  8],\n",
       "       [ 9, 10, 11]])"
      ]
     },
     "execution_count": 17,
     "metadata": {},
     "output_type": "execute_result"
    }
   ],
   "source": [
    "A1=np.arange(12).reshape(4,3)\n",
    "A1"
   ]
  },
  {
   "cell_type": "code",
   "execution_count": 18,
   "metadata": {},
   "outputs": [
    {
     "data": {
      "text/plain": [
       "array([[ 0,  1,  2,  3,  4,  5],\n",
       "       [ 6,  7,  8,  9, 10, 11],\n",
       "       [12, 13, 14, 15, 16, 17],\n",
       "       [18, 19, 20, 21, 22, 23]])"
      ]
     },
     "execution_count": 18,
     "metadata": {},
     "output_type": "execute_result"
    }
   ],
   "source": [
    "A2=np.arange(24).reshape(4,6)\n",
    "A2"
   ]
  },
  {
   "cell_type": "code",
   "execution_count": 20,
   "metadata": {},
   "outputs": [
    {
     "data": {
      "text/plain": [
       "array([[ 0,  1,  2,  0,  1,  2,  3,  4,  5],\n",
       "       [ 3,  4,  5,  6,  7,  8,  9, 10, 11],\n",
       "       [ 6,  7,  8, 12, 13, 14, 15, 16, 17],\n",
       "       [ 9, 10, 11, 18, 19, 20, 21, 22, 23]])"
      ]
     },
     "execution_count": 20,
     "metadata": {},
     "output_type": "execute_result"
    }
   ],
   "source": [
    "np.hstack((A1,A2))"
   ]
  },
  {
   "cell_type": "code",
   "execution_count": 21,
   "metadata": {},
   "outputs": [
    {
     "data": {
      "text/plain": [
       "array([ 1,  2,  3,  4,  5,  6,  7,  8,  9, 10, 11, 12, 13, 14, 15, 16, 17,\n",
       "       18, 19])"
      ]
     },
     "execution_count": 21,
     "metadata": {},
     "output_type": "execute_result"
    }
   ],
   "source": [
    "A=np.arange(1,20)\n",
    "A"
   ]
  },
  {
   "cell_type": "code",
   "execution_count": 22,
   "metadata": {},
   "outputs": [
    {
     "data": {
      "text/plain": [
       "array([ 0.84147098,  0.90929743,  0.14112001, -0.7568025 , -0.95892427,\n",
       "       -0.2794155 ,  0.6569866 ,  0.98935825,  0.41211849, -0.54402111,\n",
       "       -0.99999021, -0.53657292,  0.42016704,  0.99060736,  0.65028784,\n",
       "       -0.28790332, -0.96139749, -0.75098725,  0.14987721])"
      ]
     },
     "execution_count": 22,
     "metadata": {},
     "output_type": "execute_result"
    }
   ],
   "source": [
    "np.sin(A)"
   ]
  },
  {
   "cell_type": "code",
   "execution_count": 23,
   "metadata": {},
   "outputs": [
    {
     "data": {
      "text/plain": [
       "array([ 0.54030231, -0.41614684, -0.9899925 , -0.65364362,  0.28366219,\n",
       "        0.96017029,  0.75390225, -0.14550003, -0.91113026, -0.83907153,\n",
       "        0.0044257 ,  0.84385396,  0.90744678,  0.13673722, -0.75968791,\n",
       "       -0.95765948, -0.27516334,  0.66031671,  0.98870462])"
      ]
     },
     "execution_count": 23,
     "metadata": {},
     "output_type": "execute_result"
    }
   ],
   "source": [
    "np.cos(A)"
   ]
  },
  {
   "cell_type": "code",
   "execution_count": 24,
   "metadata": {},
   "outputs": [
    {
     "data": {
      "text/plain": [
       "array([2.71828183e+00, 7.38905610e+00, 2.00855369e+01, 5.45981500e+01,\n",
       "       1.48413159e+02, 4.03428793e+02, 1.09663316e+03, 2.98095799e+03,\n",
       "       8.10308393e+03, 2.20264658e+04, 5.98741417e+04, 1.62754791e+05,\n",
       "       4.42413392e+05, 1.20260428e+06, 3.26901737e+06, 8.88611052e+06,\n",
       "       2.41549528e+07, 6.56599691e+07, 1.78482301e+08])"
      ]
     },
     "execution_count": 24,
     "metadata": {},
     "output_type": "execute_result"
    }
   ],
   "source": [
    "np.exp(A)"
   ]
  },
  {
   "cell_type": "code",
   "execution_count": 25,
   "metadata": {},
   "outputs": [
    {
     "data": {
      "text/plain": [
       "array([0.        , 0.69314718, 1.09861229, 1.38629436, 1.60943791,\n",
       "       1.79175947, 1.94591015, 2.07944154, 2.19722458, 2.30258509,\n",
       "       2.39789527, 2.48490665, 2.56494936, 2.63905733, 2.7080502 ,\n",
       "       2.77258872, 2.83321334, 2.89037176, 2.94443898])"
      ]
     },
     "execution_count": 25,
     "metadata": {},
     "output_type": "execute_result"
    }
   ],
   "source": [
    "np.log(A)"
   ]
  },
  {
   "cell_type": "code",
   "execution_count": 26,
   "metadata": {},
   "outputs": [
    {
     "data": {
      "text/plain": [
       "array([ 1,  2,  3,  4,  5,  6,  7,  8,  9, 10, 11, 12, 13, 14, 15, 16, 17,\n",
       "       18, 19, 20])"
      ]
     },
     "execution_count": 26,
     "metadata": {},
     "output_type": "execute_result"
    }
   ],
   "source": [
    "A=np.arange(1,21)\n",
    "A"
   ]
  },
  {
   "cell_type": "code",
   "execution_count": 31,
   "metadata": {},
   "outputs": [
    {
     "data": {
      "text/plain": [
       "array([0.5       , 0.66666667, 0.75      , 0.8       , 0.83333333,\n",
       "       0.85714286, 0.875     , 0.88888889, 0.9       , 0.90909091,\n",
       "       0.91666667, 0.92307692, 0.92857143, 0.93333333, 0.9375    ,\n",
       "       0.94117647, 0.94444444, 0.94736842, 0.95      , 0.95238095])"
      ]
     },
     "execution_count": 31,
     "metadata": {},
     "output_type": "execute_result"
    }
   ],
   "source": [
    "L=[]\n",
    "for i in A:\n",
    "    L.append(i/(i+1))\n",
    "\n",
    "np.array(L)"
   ]
  },
  {
   "cell_type": "code",
   "execution_count": 34,
   "metadata": {},
   "outputs": [
    {
     "data": {
      "text/plain": [
       "array([0.5       , 0.66666667, 0.75      , 0.8       , 0.83333333,\n",
       "       0.85714286, 0.875     , 0.88888889, 0.9       , 0.90909091,\n",
       "       0.91666667, 0.92307692, 0.92857143, 0.93333333, 0.9375    ,\n",
       "       0.94117647, 0.94444444, 0.94736842, 0.95      , 0.95238095])"
      ]
     },
     "execution_count": 34,
     "metadata": {},
     "output_type": "execute_result"
    }
   ],
   "source": [
    "L=[x/(x+1) for x in A]\n",
    "np.array(L)"
   ]
  },
  {
   "cell_type": "code",
   "execution_count": 35,
   "metadata": {},
   "outputs": [
    {
     "data": {
      "text/plain": [
       "array([ 1,  2,  3,  4,  5,  6,  7,  8,  9, 10, 11, 12, 13, 14, 15, 16, 17,\n",
       "       18, 19, 20])"
      ]
     },
     "execution_count": 35,
     "metadata": {},
     "output_type": "execute_result"
    }
   ],
   "source": [
    "A"
   ]
  },
  {
   "cell_type": "code",
   "execution_count": 36,
   "metadata": {},
   "outputs": [
    {
     "data": {
      "text/plain": [
       "array([0.5       , 0.66666667, 0.75      , 0.8       , 0.83333333,\n",
       "       0.85714286, 0.875     , 0.88888889, 0.9       , 0.90909091,\n",
       "       0.91666667, 0.92307692, 0.92857143, 0.93333333, 0.9375    ,\n",
       "       0.94117647, 0.94444444, 0.94736842, 0.95      , 0.95238095])"
      ]
     },
     "execution_count": 36,
     "metadata": {},
     "output_type": "execute_result"
    }
   ],
   "source": [
    "fun=np.vectorize(lambda x:x/(x+1))\n",
    "fun(A)"
   ]
  },
  {
   "cell_type": "code",
   "execution_count": 37,
   "metadata": {},
   "outputs": [
    {
     "data": {
      "text/plain": [
       "array([ 1,  2,  3,  4,  5,  6,  7,  8,  9, 10, 11, 12, 13, 14, 15, 16, 17,\n",
       "       18, 19, 20])"
      ]
     },
     "execution_count": 37,
     "metadata": {},
     "output_type": "execute_result"
    }
   ],
   "source": [
    "A"
   ]
  },
  {
   "cell_type": "code",
   "execution_count": 43,
   "metadata": {},
   "outputs": [
    {
     "data": {
      "text/plain": [
       "array([  1.,  12.,  23.,  34.,  45.,  56.,  67.,  78.,  89., 100.])"
      ]
     },
     "execution_count": 43,
     "metadata": {},
     "output_type": "execute_result"
    }
   ],
   "source": [
    "A=np.linspace(1,100,10)\n",
    "A"
   ]
  },
  {
   "cell_type": "code",
   "execution_count": 44,
   "metadata": {},
   "outputs": [
    {
     "data": {
      "text/plain": [
       "array([0.5       , 0.92307692, 0.95833333, 0.97142857, 0.97826087,\n",
       "       0.98245614, 0.98529412, 0.98734177, 0.98888889, 0.99009901])"
      ]
     },
     "execution_count": 44,
     "metadata": {},
     "output_type": "execute_result"
    }
   ],
   "source": [
    "fun(A)"
   ]
  },
  {
   "cell_type": "code",
   "execution_count": 46,
   "metadata": {},
   "outputs": [],
   "source": [
    "A1 = np.arange(10, 19).reshape(3, 3)\n",
    "A2 = np.arange(1, 13).reshape(3, 4)"
   ]
  },
  {
   "cell_type": "code",
   "execution_count": 48,
   "metadata": {},
   "outputs": [
    {
     "data": {
      "text/plain": [
       "array([[10, 11, 12],\n",
       "       [13, 14, 15],\n",
       "       [16, 17, 18]])"
      ]
     },
     "execution_count": 48,
     "metadata": {},
     "output_type": "execute_result"
    }
   ],
   "source": [
    "A1"
   ]
  },
  {
   "cell_type": "code",
   "execution_count": 49,
   "metadata": {},
   "outputs": [
    {
     "data": {
      "text/plain": [
       "array([[ 1,  2,  3,  4],\n",
       "       [ 5,  6,  7,  8],\n",
       "       [ 9, 10, 11, 12]])"
      ]
     },
     "execution_count": 49,
     "metadata": {},
     "output_type": "execute_result"
    }
   ],
   "source": [
    "A2"
   ]
  },
  {
   "cell_type": "code",
   "execution_count": 50,
   "metadata": {},
   "outputs": [
    {
     "data": {
      "text/plain": [
       "array([[173, 206, 239, 272],\n",
       "       [218, 260, 302, 344],\n",
       "       [263, 314, 365, 416]])"
      ]
     },
     "execution_count": 50,
     "metadata": {},
     "output_type": "execute_result"
    }
   ],
   "source": [
    "np.dot(A1,A2)"
   ]
  },
  {
   "cell_type": "code",
   "execution_count": 51,
   "metadata": {},
   "outputs": [
    {
     "data": {
      "text/plain": [
       "array([[10, 11, 12],\n",
       "       [13, 14, 15],\n",
       "       [16, 17, 18]])"
      ]
     },
     "execution_count": 51,
     "metadata": {},
     "output_type": "execute_result"
    }
   ],
   "source": [
    "A1"
   ]
  },
  {
   "cell_type": "code",
   "execution_count": 53,
   "metadata": {},
   "outputs": [
    {
     "data": {
      "text/plain": [
       "array([[ 32,   3,  42],\n",
       "       [ 34,  56,  88],\n",
       "       [464, 424,  24]])"
      ]
     },
     "execution_count": 53,
     "metadata": {},
     "output_type": "execute_result"
    }
   ],
   "source": [
    "l=[[32,3,42],[34,56,88],[464,424,24]]\n",
    "a=np.array(l)\n",
    "a"
   ]
  },
  {
   "cell_type": "code",
   "execution_count": 54,
   "metadata": {},
   "outputs": [
    {
     "data": {
      "text/plain": [
       "array([[ 0.02371333, -0.01169316,  0.0013766 ],\n",
       "       [-0.02638213,  0.0123419 ,  0.00091509],\n",
       "       [ 0.00762666,  0.00802751, -0.0011142 ]])"
      ]
     },
     "execution_count": 54,
     "metadata": {},
     "output_type": "execute_result"
    }
   ],
   "source": [
    "np.linalg.inv(a)"
   ]
  },
  {
   "cell_type": "code",
   "execution_count": 58,
   "metadata": {},
   "outputs": [
    {
     "data": {
      "text/plain": [
       "-1516784.0000000026"
      ]
     },
     "execution_count": 58,
     "metadata": {},
     "output_type": "execute_result"
    }
   ],
   "source": [
    "np.linalg.det(a)"
   ]
  },
  {
   "cell_type": "code",
   "execution_count": 59,
   "metadata": {},
   "outputs": [],
   "source": [
    "L1=[[1,2],[3,4]]\n",
    "L2=[[5,6],[7,8]]\n",
    "A1=np.array(L1)\n",
    "A2=np.array(L2)"
   ]
  },
  {
   "cell_type": "code",
   "execution_count": 62,
   "metadata": {},
   "outputs": [
    {
     "data": {
      "text/plain": [
       "array([[1, 2],\n",
       "       [3, 4]])"
      ]
     },
     "execution_count": 62,
     "metadata": {},
     "output_type": "execute_result"
    }
   ],
   "source": [
    "A1"
   ]
  },
  {
   "cell_type": "code",
   "execution_count": 63,
   "metadata": {},
   "outputs": [
    {
     "data": {
      "text/plain": [
       "array([[5, 6],\n",
       "       [7, 8]])"
      ]
     },
     "execution_count": 63,
     "metadata": {},
     "output_type": "execute_result"
    }
   ],
   "source": [
    "A2"
   ]
  },
  {
   "cell_type": "code",
   "execution_count": 64,
   "metadata": {},
   "outputs": [
    {
     "data": {
      "text/plain": [
       "array([[1, 2],\n",
       "       [3, 4],\n",
       "       [5, 6],\n",
       "       [7, 8]])"
      ]
     },
     "execution_count": 64,
     "metadata": {},
     "output_type": "execute_result"
    }
   ],
   "source": [
    "np.vstack((A1,A2))"
   ]
  },
  {
   "cell_type": "code",
   "execution_count": 65,
   "metadata": {},
   "outputs": [
    {
     "data": {
      "text/plain": [
       "array([[1, 2, 5, 6],\n",
       "       [3, 4, 7, 8]])"
      ]
     },
     "execution_count": 65,
     "metadata": {},
     "output_type": "execute_result"
    }
   ],
   "source": [
    "np.hstack((A1,A2))"
   ]
  },
  {
   "cell_type": "code",
   "execution_count": 66,
   "metadata": {},
   "outputs": [],
   "source": [
    "L1=[5,6]"
   ]
  },
  {
   "cell_type": "code",
   "execution_count": 68,
   "metadata": {},
   "outputs": [
    {
     "data": {
      "text/plain": [
       "array([[1, 2, 5],\n",
       "       [3, 4, 6]])"
      ]
     },
     "execution_count": 68,
     "metadata": {},
     "output_type": "execute_result"
    }
   ],
   "source": [
    "np.column_stack((A1,L1))"
   ]
  },
  {
   "cell_type": "code",
   "execution_count": 70,
   "metadata": {},
   "outputs": [
    {
     "name": "stdout",
     "output_type": "stream",
     "text": [
      "[[1 2]\n",
      " [3 4]]\n",
      "[[5 6]\n",
      " [7 8]]\n"
     ]
    }
   ],
   "source": [
    "print(A1)\n",
    "print(A2)"
   ]
  },
  {
   "cell_type": "code",
   "execution_count": 71,
   "metadata": {},
   "outputs": [
    {
     "data": {
      "text/plain": [
       "array([[1, 2],\n",
       "       [3, 4],\n",
       "       [5, 6],\n",
       "       [7, 8]])"
      ]
     },
     "execution_count": 71,
     "metadata": {},
     "output_type": "execute_result"
    }
   ],
   "source": [
    "np.concatenate((A1,A2))"
   ]
  },
  {
   "cell_type": "code",
   "execution_count": 73,
   "metadata": {},
   "outputs": [
    {
     "data": {
      "text/plain": [
       "array([[1, 2],\n",
       "       [3, 4],\n",
       "       [5, 6],\n",
       "       [7, 8]])"
      ]
     },
     "execution_count": 73,
     "metadata": {},
     "output_type": "execute_result"
    }
   ],
   "source": [
    "np.concatenate((A1,A2),0)"
   ]
  },
  {
   "cell_type": "code",
   "execution_count": 74,
   "metadata": {},
   "outputs": [
    {
     "data": {
      "text/plain": [
       "array([[1, 2, 5, 6],\n",
       "       [3, 4, 7, 8]])"
      ]
     },
     "execution_count": 74,
     "metadata": {},
     "output_type": "execute_result"
    }
   ],
   "source": [
    "np.concatenate((A1,A2),1)"
   ]
  },
  {
   "cell_type": "code",
   "execution_count": 75,
   "metadata": {},
   "outputs": [
    {
     "data": {
      "text/plain": [
       "array([[1, 2],\n",
       "       [3, 4],\n",
       "       [5, 6],\n",
       "       [7, 8]])"
      ]
     },
     "execution_count": 75,
     "metadata": {},
     "output_type": "execute_result"
    }
   ],
   "source": [
    "np.concatenate((A1,A2),axis=0)"
   ]
  },
  {
   "cell_type": "code",
   "execution_count": 76,
   "metadata": {},
   "outputs": [
    {
     "data": {
      "text/plain": [
       "array([[1, 2, 5, 6],\n",
       "       [3, 4, 7, 8]])"
      ]
     },
     "execution_count": 76,
     "metadata": {},
     "output_type": "execute_result"
    }
   ],
   "source": [
    "np.concatenate((A1,A2),axis=1)"
   ]
  },
  {
   "cell_type": "code",
   "execution_count": 82,
   "metadata": {},
   "outputs": [
    {
     "data": {
      "text/plain": [
       "array([[ 1,  3,  5,  7,  9, 11],\n",
       "       [ 2,  4,  6,  8, 10, 12]])"
      ]
     },
     "execution_count": 82,
     "metadata": {},
     "output_type": "execute_result"
    }
   ],
   "source": [
    "L=[[1,3,5,7,9,11],[2,4,6,8,10,12]]\n",
    "A1=np.array(L)\n",
    "A1"
   ]
  },
  {
   "cell_type": "code",
   "execution_count": 83,
   "metadata": {},
   "outputs": [
    {
     "data": {
      "text/plain": [
       "[array([[1, 3],\n",
       "        [2, 4]]), array([[5, 7],\n",
       "        [6, 8]]), array([[ 9, 11],\n",
       "        [10, 12]])]"
      ]
     },
     "execution_count": 83,
     "metadata": {},
     "output_type": "execute_result"
    }
   ],
   "source": [
    "np.hsplit(A1,3)"
   ]
  },
  {
   "cell_type": "code",
   "execution_count": 84,
   "metadata": {},
   "outputs": [
    {
     "data": {
      "text/plain": [
       "[array([[ 1,  3,  5,  7,  9, 11]]), array([[ 2,  4,  6,  8, 10, 12]])]"
      ]
     },
     "execution_count": 84,
     "metadata": {},
     "output_type": "execute_result"
    }
   ],
   "source": [
    "np.vsplit(A1,2)"
   ]
  },
  {
   "cell_type": "code",
   "execution_count": 90,
   "metadata": {},
   "outputs": [
    {
     "data": {
      "text/plain": [
       "array([[79, 51, 18, 37, 86],\n",
       "       [48, 22, 76, 12, 21],\n",
       "       [16, 39, 26, 21, 75],\n",
       "       [11, 96, 75, 30, 48]])"
      ]
     },
     "execution_count": 90,
     "metadata": {},
     "output_type": "execute_result"
    }
   ],
   "source": [
    "A1=np.random.randint(10,99,(4,5))\n",
    "A1"
   ]
  },
  {
   "cell_type": "code",
   "execution_count": 94,
   "metadata": {},
   "outputs": [
    {
     "data": {
      "text/plain": [
       "array([[37, 51, 86],\n",
       "       [12, 22, 21],\n",
       "       [21, 39, 75],\n",
       "       [30, 96, 48]])"
      ]
     },
     "execution_count": 94,
     "metadata": {},
     "output_type": "execute_result"
    }
   ],
   "source": [
    "A1[...,[3,1,4]]"
   ]
  },
  {
   "cell_type": "code",
   "execution_count": 96,
   "metadata": {},
   "outputs": [
    {
     "data": {
      "text/plain": [
       "array([[79, 51, 18, 37, 86],\n",
       "       [48, 22, 76, 12, 21],\n",
       "       [16, 39, 26, 21, 75],\n",
       "       [11, 96, 75, 30, 48]])"
      ]
     },
     "execution_count": 96,
     "metadata": {},
     "output_type": "execute_result"
    }
   ],
   "source": [
    "A1"
   ]
  },
  {
   "cell_type": "code",
   "execution_count": 95,
   "metadata": {},
   "outputs": [
    {
     "data": {
      "text/plain": [
       "array([79, 51, 18, 37, 86])"
      ]
     },
     "execution_count": 95,
     "metadata": {},
     "output_type": "execute_result"
    }
   ],
   "source": [
    "A1[0,...]"
   ]
  },
  {
   "cell_type": "code",
   "execution_count": 98,
   "metadata": {},
   "outputs": [
    {
     "data": {
      "text/plain": [
       "array([[11, 96, 75, 30, 48],\n",
       "       [79, 51, 18, 37, 86]])"
      ]
     },
     "execution_count": 98,
     "metadata": {},
     "output_type": "execute_result"
    }
   ],
   "source": [
    "A1[[3,0],...]"
   ]
  },
  {
   "cell_type": "code",
   "execution_count": 108,
   "metadata": {},
   "outputs": [
    {
     "data": {
      "text/plain": [
       "array([[11, 96, 75, 30, 48],\n",
       "       [79, 51, 18, 37, 86]])"
      ]
     },
     "execution_count": 108,
     "metadata": {},
     "output_type": "execute_result"
    }
   ],
   "source": [
    "A1[[3,0],...]"
   ]
  },
  {
   "cell_type": "code",
   "execution_count": 110,
   "metadata": {},
   "outputs": [
    {
     "data": {
      "text/plain": [
       "array([[79, 51, 18, 37, 86],\n",
       "       [48, 22, 76, 12, 21],\n",
       "       [16, 39, 26, 21, 75],\n",
       "       [11, 96, 75, 30, 48]])"
      ]
     },
     "execution_count": 110,
     "metadata": {},
     "output_type": "execute_result"
    }
   ],
   "source": [
    "A1"
   ]
  },
  {
   "cell_type": "code",
   "execution_count": 113,
   "metadata": {},
   "outputs": [
    {
     "data": {
      "text/plain": [
       "array([[18, 37, 51, 79, 86],\n",
       "       [12, 21, 22, 48, 76],\n",
       "       [16, 21, 26, 39, 75],\n",
       "       [11, 30, 48, 75, 96]])"
      ]
     },
     "execution_count": 113,
     "metadata": {},
     "output_type": "execute_result"
    }
   ],
   "source": [
    "np.sort(A1)"
   ]
  },
  {
   "cell_type": "code",
   "execution_count": 115,
   "metadata": {},
   "outputs": [
    {
     "data": {
      "text/plain": [
       "array([[18, 37, 51, 79, 86],\n",
       "       [12, 21, 22, 48, 76],\n",
       "       [16, 21, 26, 39, 75],\n",
       "       [11, 30, 48, 75, 96]])"
      ]
     },
     "execution_count": 115,
     "metadata": {},
     "output_type": "execute_result"
    }
   ],
   "source": [
    "np.sort(A1,1)"
   ]
  },
  {
   "cell_type": "code",
   "execution_count": 116,
   "metadata": {},
   "outputs": [
    {
     "data": {
      "text/plain": [
       "array([[18, 37, 51, 79, 86],\n",
       "       [12, 21, 22, 48, 76],\n",
       "       [16, 21, 26, 39, 75],\n",
       "       [11, 30, 48, 75, 96]])"
      ]
     },
     "execution_count": 116,
     "metadata": {},
     "output_type": "execute_result"
    }
   ],
   "source": [
    "np.sort(A1,axis=1)"
   ]
  },
  {
   "cell_type": "code",
   "execution_count": 118,
   "metadata": {},
   "outputs": [
    {
     "data": {
      "text/plain": [
       "array([[79, 51, 18, 37, 86],\n",
       "       [48, 22, 76, 12, 21],\n",
       "       [16, 39, 26, 21, 75],\n",
       "       [11, 96, 75, 30, 48]])"
      ]
     },
     "execution_count": 118,
     "metadata": {},
     "output_type": "execute_result"
    }
   ],
   "source": [
    "A1"
   ]
  },
  {
   "cell_type": "code",
   "execution_count": 117,
   "metadata": {},
   "outputs": [
    {
     "data": {
      "text/plain": [
       "array([[11, 22, 18, 12, 21],\n",
       "       [16, 39, 26, 21, 48],\n",
       "       [48, 51, 75, 30, 75],\n",
       "       [79, 96, 76, 37, 86]])"
      ]
     },
     "execution_count": 117,
     "metadata": {},
     "output_type": "execute_result"
    }
   ],
   "source": [
    "np.sort(A1,0)"
   ]
  },
  {
   "cell_type": "code",
   "execution_count": 120,
   "metadata": {},
   "outputs": [
    {
     "data": {
      "text/plain": [
       "array([21, 48, 75, 86])"
      ]
     },
     "execution_count": 120,
     "metadata": {},
     "output_type": "execute_result"
    }
   ],
   "source": [
    "np.sort(A1[...,4])"
   ]
  },
  {
   "cell_type": "code",
   "execution_count": 121,
   "metadata": {},
   "outputs": [
    {
     "data": {
      "text/plain": [
       "array([['Karan', '28'],\n",
       "       ['Arpit', '24'],\n",
       "       ['Sam', '43'],\n",
       "       ['Akshay', '13'],\n",
       "       ['Ankush', '69']], dtype='<U6')"
      ]
     },
     "execution_count": 121,
     "metadata": {},
     "output_type": "execute_result"
    }
   ],
   "source": [
    "L=[(\"Karan\",28),(\"Arpit\",24),(\"Sam\",43),(\"Akshay\",13),(\"Ankush\",69)]\n",
    "Arr=np.array(L)\n",
    "Arr"
   ]
  },
  {
   "cell_type": "code",
   "execution_count": 122,
   "metadata": {},
   "outputs": [
    {
     "data": {
      "text/plain": [
       "array([['28', 'Karan'],\n",
       "       ['24', 'Arpit'],\n",
       "       ['43', 'Sam'],\n",
       "       ['13', 'Akshay'],\n",
       "       ['69', 'Ankush']], dtype='<U6')"
      ]
     },
     "execution_count": 122,
     "metadata": {},
     "output_type": "execute_result"
    }
   ],
   "source": [
    "np.sort(Arr)"
   ]
  },
  {
   "cell_type": "code",
   "execution_count": 123,
   "metadata": {},
   "outputs": [
    {
     "data": {
      "text/plain": [
       "array([['Karan', '28'],\n",
       "       ['Arpit', '24'],\n",
       "       ['Sam', '43'],\n",
       "       ['Akshay', '13'],\n",
       "       ['Ankush', '69']], dtype='<U6')"
      ]
     },
     "execution_count": 123,
     "metadata": {},
     "output_type": "execute_result"
    }
   ],
   "source": [
    "Arr"
   ]
  },
  {
   "cell_type": "code",
   "execution_count": 124,
   "metadata": {},
   "outputs": [],
   "source": [
    "dt=np.dtype([('name','S10'),('age',int)])"
   ]
  },
  {
   "cell_type": "code",
   "execution_count": 125,
   "metadata": {},
   "outputs": [
    {
     "data": {
      "text/plain": [
       "array([(b'Karan', 28), (b'Arpit', 24), (b'Sam', 43), (b'Akshay', 13),\n",
       "       (b'Ankush', 69)], dtype=[('name', 'S10'), ('age', '<i4')])"
      ]
     },
     "execution_count": 125,
     "metadata": {},
     "output_type": "execute_result"
    }
   ],
   "source": [
    "Arr=np.array(L,dtype=dt)\n",
    "Arr"
   ]
  },
  {
   "cell_type": "code",
   "execution_count": 126,
   "metadata": {},
   "outputs": [
    {
     "data": {
      "text/plain": [
       "array([(b'Akshay', 13), (b'Ankush', 69), (b'Arpit', 24), (b'Karan', 28),\n",
       "       (b'Sam', 43)], dtype=[('name', 'S10'), ('age', '<i4')])"
      ]
     },
     "execution_count": 126,
     "metadata": {},
     "output_type": "execute_result"
    }
   ],
   "source": [
    "np.sort(Arr,order='name')"
   ]
  },
  {
   "cell_type": "code",
   "execution_count": 127,
   "metadata": {},
   "outputs": [
    {
     "data": {
      "text/plain": [
       "array([(b'Akshay', 13), (b'Arpit', 24), (b'Karan', 28), (b'Sam', 43),\n",
       "       (b'Ankush', 69)], dtype=[('name', 'S10'), ('age', '<i4')])"
      ]
     },
     "execution_count": 127,
     "metadata": {},
     "output_type": "execute_result"
    }
   ],
   "source": [
    "np.sort(Arr,order='age')"
   ]
  },
  {
   "cell_type": "code",
   "execution_count": 2,
   "metadata": {},
   "outputs": [
    {
     "data": {
      "text/plain": [
       "array([['1', 'Angeli', 'Mapes', 'amapes0@chronoengine.com', 'Male'],\n",
       "       ['2', 'Petronille', 'Helmke', 'phelmke1@walmart.com', 'Female'],\n",
       "       ['3', 'Humfrid', 'Sainsberry', 'hsainsberry2@disqus.com', 'Male'],\n",
       "       ['4', 'Kaja', 'Carnson', 'kcarnson3@amazon.de', 'Female'],\n",
       "       ['5', 'Basia', 'Narraway', 'bnarraway4@bloomberg.com', 'Female'],\n",
       "       ['6', 'Hy', 'Robiot', 'hrobiot5@quantcast.com', 'Male'],\n",
       "       ['7', 'Angelika', 'Pedrocco', 'apedrocco6@quantcast.com',\n",
       "        'Female'],\n",
       "       ['8', 'Brigit', 'Olivie', 'bolivie7@so-net.ne.jp', 'Female'],\n",
       "       ['9', 'Marjorie', 'Coope', 'mcoope8@microsoft.com', 'Female'],\n",
       "       ['10', 'Demetra', 'Gumey', 'dgumey9@gmpg.org', 'Female'],\n",
       "       ['11', 'Geneva', 'Vasentsov', 'gvasentsova@wsj.com', 'Female'],\n",
       "       ['12', 'Llywellyn', 'Bullant', 'lbullantb@sfgate.com', 'Male'],\n",
       "       ['13', 'Ruperta', 'Dudin', 'rdudinc@dailymotion.com', 'Female'],\n",
       "       ['14', 'Page', 'Ferrotti', 'pferrottid@mashable.com', 'Female'],\n",
       "       ['15', 'Fara', 'Mannooch', 'fmannooche@bizjournals.com', 'Female'],\n",
       "       ['16', 'Manon', 'Focke', 'mfockef@oracle.com', 'Female'],\n",
       "       ['17', 'Josh', 'Belle', 'jbelleg@census.gov', 'Male'],\n",
       "       ['18', 'Jarad', 'Bresner', 'jbresnerh@51.la', 'Male'],\n",
       "       ['19', 'Reinaldos', 'Gianuzzi', 'rgianuzzii@slideshare.net',\n",
       "        'Male'],\n",
       "       ['20', 'Carlene', 'Willans', 'cwillansj@ed.gov', 'Female'],\n",
       "       ['21', 'Clayson', 'Jennaway', 'cjennawayk@usatoday.com', 'Male'],\n",
       "       ['22', 'Jed', 'McGilvray', 'jmcgilvrayl@jiathis.com', 'Male'],\n",
       "       ['23', 'Matteo', 'Zannotelli', 'mzannotellim@canalblog.com',\n",
       "        'Male'],\n",
       "       ['24', 'Carrol', 'Antos', 'cantosn@nydailynews.com', 'Male'],\n",
       "       ['25', 'Flinn', 'Broome', 'fbroomeo@tmall.com', 'Male'],\n",
       "       ['26', 'Any', 'Lewcock', 'alewcockp@nih.gov', 'Male'],\n",
       "       ['27', 'Halimeda', 'Drewet', 'hdrewetq@is.gd', 'Female'],\n",
       "       ['28', 'Melissa', 'Saundercock', 'msaundercockr@usnews.com',\n",
       "        'Female'],\n",
       "       ['29', 'Adrea', 'Sute', 'asutes@huffingtonpost.com', 'Female'],\n",
       "       ['30', 'Meaghan', 'Filan', 'mfilant@berkeley.edu', 'Female'],\n",
       "       ['31', 'Baldwin', \"O'Henehan\", 'bohenehanu@blogs.com', 'Male'],\n",
       "       ['32', 'Annabelle', 'McCaughen', 'amccaughenv@answers.com',\n",
       "        'Female'],\n",
       "       ['33', 'Allyn', 'Lias', 'aliasw@aol.com', 'Female'],\n",
       "       ['34', 'Katerina', 'Simounet', 'ksimounetx@shop-pro.jp', 'Female'],\n",
       "       ['35', 'Hedwig', 'Neild', 'hneildy@mashable.com', 'Female'],\n",
       "       ['36', 'Robbie', 'Stockport', 'rstockportz@ucoz.com', 'Male'],\n",
       "       ['37', 'Ofilia', 'Vasyatkin', 'ovasyatkin10@plala.or.jp',\n",
       "        'Female'],\n",
       "       ['38', 'Ashil', 'Daal', 'adaal11@skype.com', 'Female'],\n",
       "       ['39', 'Bradney', 'Erangey', 'berangey12@reverbnation.com',\n",
       "        'Male'],\n",
       "       ['40', 'Bibbye', 'Jarrelt', 'bjarrelt13@about.com', 'Female'],\n",
       "       ['41', 'Luciano', 'Wingatt', 'lwingatt14@ibm.com', 'Male'],\n",
       "       ['42', 'Izabel', 'Batisse', 'ibatisse15@bloglovin.com', 'Female'],\n",
       "       ['43', 'Cullen', 'Gjerde', 'cgjerde16@odnoklassniki.ru', 'Male'],\n",
       "       ['44', 'Hewitt', 'Lante', 'hlante17@ft.com', 'Male'],\n",
       "       ['45', 'Karel', 'Mounter', 'kmounter18@hao123.com', 'Male'],\n",
       "       ['46', 'Gratiana', 'Elletson', 'gelletson19@shareasale.com',\n",
       "        'Female'],\n",
       "       ['47', 'Robin', 'Reford', 'rreford1a@businessweek.com', 'Male'],\n",
       "       ['48', 'Ashlee', 'Rochewell', 'arochewell1b@mysql.com', 'Female'],\n",
       "       ['49', 'Isis', 'Woehler', 'iwoehler1c@paypal.com', 'Female'],\n",
       "       ['50', 'Cori', 'Lancley', 'clancley1d@arstechnica.com', 'Female'],\n",
       "       ['51', 'Alexio', 'Elsley', 'aelsley1e@ucoz.com', 'Male'],\n",
       "       ['52', 'Glenn', 'Paula', 'gpaula1f@patch.com', 'Male'],\n",
       "       ['53', 'Corena', 'Lenthall', 'clenthall1g@ow.ly', 'Female'],\n",
       "       ['54', 'Larina', 'Sallnow', 'lsallnow1h@xing.com', 'Female'],\n",
       "       ['55', 'Filberte', 'Zucker', 'fzucker1i@businessweek.com', 'Male'],\n",
       "       ['56', 'Roxane', 'Smeaton', 'rsmeaton1j@un.org', 'Female'],\n",
       "       ['57', 'Osborne', 'Buxton', 'obuxton1k@auda.org.au', 'Male'],\n",
       "       ['58', 'Kinnie', 'Zahor', 'kzahor1l@infoseek.co.jp', 'Male'],\n",
       "       ['59', 'Bourke', 'Karolewski', 'bkarolewski1m@berkeley.edu',\n",
       "        'Male'],\n",
       "       ['60', 'Oralee', 'Grabbam', 'ograbbam1n@stumbleupon.com',\n",
       "        'Female'],\n",
       "       ['61', 'Lorenza', 'Rikkard', 'lrikkard1o@zimbio.com', 'Female'],\n",
       "       ['62', 'Dasie', 'McRannell', 'dmcrannell1p@ustream.tv', 'Female'],\n",
       "       ['63', 'Cord', 'Stonhard', 'cstonhard1q@vimeo.com', 'Male'],\n",
       "       ['64', 'Dolph', 'Olander', 'dolander1r@theguardian.com', 'Male'],\n",
       "       ['65', 'Haydon', 'Salmoni', 'hsalmoni1s@cnbc.com', 'Male'],\n",
       "       ['66', 'Lauree', 'Cocksedge', 'lcocksedge1t@amazon.co.jp',\n",
       "        'Female'],\n",
       "       ['67', 'Hollyanne', 'Thomton', 'hthomton1u@unc.edu', 'Female'],\n",
       "       ['68', 'Barrie', 'Carillo', 'bcarillo1v@php.net', 'Male'],\n",
       "       ['69', 'Horst', 'Penney', 'hpenney1w@amazon.de', 'Male'],\n",
       "       ['70', 'Reba', 'Andraud', 'randraud1x@bbc.co.uk', 'Female'],\n",
       "       ['71', 'Rick', 'Birrane', 'rbirrane1y@mayoclinic.com', 'Male'],\n",
       "       ['72', 'Nicholas', 'Flinders', 'nflinders1z@washington.edu',\n",
       "        'Male'],\n",
       "       ['73', 'Farand', 'Oxford', 'foxford20@webmd.com', 'Female'],\n",
       "       ['74', 'Oswell', 'Dumper', 'odumper21@quantcast.com', 'Male'],\n",
       "       ['75', 'Flori', 'Ebbin', 'febbin22@oakley.com', 'Female'],\n",
       "       ['76', 'Daisie', 'Thying', 'dthying23@upenn.edu', 'Female'],\n",
       "       ['77', 'Ruben', 'Tichelaar', 'rtichelaar24@msu.edu', 'Male'],\n",
       "       ['78', 'Marylin', 'McCaighey', 'mmccaighey25@tuttocitta.it',\n",
       "        'Female'],\n",
       "       ['79', 'Lina', 'Yokley', 'lyokley26@acquirethisname.com',\n",
       "        'Female'],\n",
       "       ['80', 'Darnell', 'Keele', 'dkeele27@usgs.gov', 'Male'],\n",
       "       ['81', 'Evangelin', 'MacGaughie', 'emacgaughie28@netvibes.com',\n",
       "        'Female'],\n",
       "       ['82', 'Orren', 'Coats', 'ocoats29@dagondesign.com', 'Male'],\n",
       "       ['83', 'Cindi', 'Kearle', 'ckearle2a@wix.com', 'Female'],\n",
       "       ['84', 'Lon', 'Dmitrovic', 'ldmitrovic2b@pinterest.com', 'Male'],\n",
       "       ['85', 'Raviv', 'Dickson', 'rdickson2c@1688.com', 'Male'],\n",
       "       ['86', 'Barnabe', 'Lombard', 'blombard2d@wikispaces.com', 'Male'],\n",
       "       ['87', 'Hedwig', 'Canario', 'hcanario2e@youtu.be', 'Female'],\n",
       "       ['88', 'Leanna', 'Farrance', 'lfarrance2f@oakley.com', 'Female'],\n",
       "       ['89', 'Ashil', 'Saltwell', 'asaltwell2g@goo.gl', 'Female'],\n",
       "       ['90', 'Matthias', 'Matteris', 'mmatteris2h@e-recht24.de', 'Male'],\n",
       "       ['91', 'Gregory', 'Tetsall', 'gtetsall2i@canalblog.com', 'Male'],\n",
       "       ['92', 'Cybil', 'Spadaro', 'cspadaro2j@infoseek.co.jp', 'Female'],\n",
       "       ['93', 'Ariadne', 'Hillaby', 'ahillaby2k@naver.com', 'Female'],\n",
       "       ['94', 'Ree', 'Adamkiewicz', 'radamkiewicz2l@freewebs.com',\n",
       "        'Female'],\n",
       "       ['95', 'Patric', 'Dafydd', 'pdafydd2m@virginia.edu', 'Male'],\n",
       "       ['96', 'Theda', 'Lockton', 'tlockton2n@blogs.com', 'Female'],\n",
       "       ['97', 'Jamesy', 'Fitch', 'jfitch2o@pbs.org', 'Male'],\n",
       "       ['98', 'Briana', 'Maudett', 'bmaudett2p@ibm.com', 'Female'],\n",
       "       ['99', 'Martin', 'Ayrton', 'mayrton2q@alexa.com', 'Male'],\n",
       "       ['100', 'Obediah', 'Dallicoat', 'odallicoat2r@mediafire.com',\n",
       "        'Male']], dtype='<U29')"
      ]
     },
     "execution_count": 2,
     "metadata": {},
     "output_type": "execute_result"
    }
   ],
   "source": [
    "data = np.genfromtxt('data.csv', delimiter=',', dtype=str)\n",
    "data"
   ]
  },
  {
   "cell_type": "code",
   "execution_count": 3,
   "metadata": {},
   "outputs": [
    {
     "data": {
      "text/plain": [
       "(100, 5)"
      ]
     },
     "execution_count": 3,
     "metadata": {},
     "output_type": "execute_result"
    }
   ],
   "source": [
    "data.shape"
   ]
  },
  {
   "cell_type": "code",
   "execution_count": 4,
   "metadata": {},
   "outputs": [
    {
     "data": {
      "text/plain": [
       "array([['Angeli', 'Male'],\n",
       "       ['Petronille', 'Female'],\n",
       "       ['Humfrid', 'Male'],\n",
       "       ['Kaja', 'Female'],\n",
       "       ['Basia', 'Female'],\n",
       "       ['Hy', 'Male'],\n",
       "       ['Angelika', 'Female'],\n",
       "       ['Brigit', 'Female'],\n",
       "       ['Marjorie', 'Female'],\n",
       "       ['Demetra', 'Female'],\n",
       "       ['Geneva', 'Female'],\n",
       "       ['Llywellyn', 'Male'],\n",
       "       ['Ruperta', 'Female'],\n",
       "       ['Page', 'Female'],\n",
       "       ['Fara', 'Female'],\n",
       "       ['Manon', 'Female'],\n",
       "       ['Josh', 'Male'],\n",
       "       ['Jarad', 'Male'],\n",
       "       ['Reinaldos', 'Male'],\n",
       "       ['Carlene', 'Female'],\n",
       "       ['Clayson', 'Male'],\n",
       "       ['Jed', 'Male'],\n",
       "       ['Matteo', 'Male'],\n",
       "       ['Carrol', 'Male'],\n",
       "       ['Flinn', 'Male'],\n",
       "       ['Any', 'Male'],\n",
       "       ['Halimeda', 'Female'],\n",
       "       ['Melissa', 'Female'],\n",
       "       ['Adrea', 'Female'],\n",
       "       ['Meaghan', 'Female'],\n",
       "       ['Baldwin', 'Male'],\n",
       "       ['Annabelle', 'Female'],\n",
       "       ['Allyn', 'Female'],\n",
       "       ['Katerina', 'Female'],\n",
       "       ['Hedwig', 'Female'],\n",
       "       ['Robbie', 'Male'],\n",
       "       ['Ofilia', 'Female'],\n",
       "       ['Ashil', 'Female'],\n",
       "       ['Bradney', 'Male'],\n",
       "       ['Bibbye', 'Female'],\n",
       "       ['Luciano', 'Male'],\n",
       "       ['Izabel', 'Female'],\n",
       "       ['Cullen', 'Male'],\n",
       "       ['Hewitt', 'Male'],\n",
       "       ['Karel', 'Male'],\n",
       "       ['Gratiana', 'Female'],\n",
       "       ['Robin', 'Male'],\n",
       "       ['Ashlee', 'Female'],\n",
       "       ['Isis', 'Female'],\n",
       "       ['Cori', 'Female'],\n",
       "       ['Alexio', 'Male'],\n",
       "       ['Glenn', 'Male'],\n",
       "       ['Corena', 'Female'],\n",
       "       ['Larina', 'Female'],\n",
       "       ['Filberte', 'Male'],\n",
       "       ['Roxane', 'Female'],\n",
       "       ['Osborne', 'Male'],\n",
       "       ['Kinnie', 'Male'],\n",
       "       ['Bourke', 'Male'],\n",
       "       ['Oralee', 'Female'],\n",
       "       ['Lorenza', 'Female'],\n",
       "       ['Dasie', 'Female'],\n",
       "       ['Cord', 'Male'],\n",
       "       ['Dolph', 'Male'],\n",
       "       ['Haydon', 'Male'],\n",
       "       ['Lauree', 'Female'],\n",
       "       ['Hollyanne', 'Female'],\n",
       "       ['Barrie', 'Male'],\n",
       "       ['Horst', 'Male'],\n",
       "       ['Reba', 'Female'],\n",
       "       ['Rick', 'Male'],\n",
       "       ['Nicholas', 'Male'],\n",
       "       ['Farand', 'Female'],\n",
       "       ['Oswell', 'Male'],\n",
       "       ['Flori', 'Female'],\n",
       "       ['Daisie', 'Female'],\n",
       "       ['Ruben', 'Male'],\n",
       "       ['Marylin', 'Female'],\n",
       "       ['Lina', 'Female'],\n",
       "       ['Darnell', 'Male'],\n",
       "       ['Evangelin', 'Female'],\n",
       "       ['Orren', 'Male'],\n",
       "       ['Cindi', 'Female'],\n",
       "       ['Lon', 'Male'],\n",
       "       ['Raviv', 'Male'],\n",
       "       ['Barnabe', 'Male'],\n",
       "       ['Hedwig', 'Female'],\n",
       "       ['Leanna', 'Female'],\n",
       "       ['Ashil', 'Female'],\n",
       "       ['Matthias', 'Male'],\n",
       "       ['Gregory', 'Male'],\n",
       "       ['Cybil', 'Female'],\n",
       "       ['Ariadne', 'Female'],\n",
       "       ['Ree', 'Female'],\n",
       "       ['Patric', 'Male'],\n",
       "       ['Theda', 'Female'],\n",
       "       ['Jamesy', 'Male'],\n",
       "       ['Briana', 'Female'],\n",
       "       ['Martin', 'Male'],\n",
       "       ['Obediah', 'Male']], dtype='<U29')"
      ]
     },
     "execution_count": 4,
     "metadata": {},
     "output_type": "execute_result"
    }
   ],
   "source": [
    "data[...,[1,4]]"
   ]
  },
  {
   "cell_type": "code",
   "execution_count": 5,
   "metadata": {},
   "outputs": [
    {
     "data": {
      "text/plain": [
       "array([['Angeli', 'Mapes', 'amapes0@chronoengine.com', 'Male'],\n",
       "       ['Petronille', 'Helmke', 'phelmke1@walmart.com', 'Female'],\n",
       "       ['Humfrid', 'Sainsberry', 'hsainsberry2@disqus.com', 'Male'],\n",
       "       ['Kaja', 'Carnson', 'kcarnson3@amazon.de', 'Female'],\n",
       "       ['Basia', 'Narraway', 'bnarraway4@bloomberg.com', 'Female'],\n",
       "       ['Hy', 'Robiot', 'hrobiot5@quantcast.com', 'Male'],\n",
       "       ['Angelika', 'Pedrocco', 'apedrocco6@quantcast.com', 'Female'],\n",
       "       ['Brigit', 'Olivie', 'bolivie7@so-net.ne.jp', 'Female'],\n",
       "       ['Marjorie', 'Coope', 'mcoope8@microsoft.com', 'Female'],\n",
       "       ['Demetra', 'Gumey', 'dgumey9@gmpg.org', 'Female'],\n",
       "       ['Geneva', 'Vasentsov', 'gvasentsova@wsj.com', 'Female'],\n",
       "       ['Llywellyn', 'Bullant', 'lbullantb@sfgate.com', 'Male'],\n",
       "       ['Ruperta', 'Dudin', 'rdudinc@dailymotion.com', 'Female'],\n",
       "       ['Page', 'Ferrotti', 'pferrottid@mashable.com', 'Female'],\n",
       "       ['Fara', 'Mannooch', 'fmannooche@bizjournals.com', 'Female'],\n",
       "       ['Manon', 'Focke', 'mfockef@oracle.com', 'Female'],\n",
       "       ['Josh', 'Belle', 'jbelleg@census.gov', 'Male'],\n",
       "       ['Jarad', 'Bresner', 'jbresnerh@51.la', 'Male'],\n",
       "       ['Reinaldos', 'Gianuzzi', 'rgianuzzii@slideshare.net', 'Male'],\n",
       "       ['Carlene', 'Willans', 'cwillansj@ed.gov', 'Female'],\n",
       "       ['Clayson', 'Jennaway', 'cjennawayk@usatoday.com', 'Male'],\n",
       "       ['Jed', 'McGilvray', 'jmcgilvrayl@jiathis.com', 'Male'],\n",
       "       ['Matteo', 'Zannotelli', 'mzannotellim@canalblog.com', 'Male'],\n",
       "       ['Carrol', 'Antos', 'cantosn@nydailynews.com', 'Male'],\n",
       "       ['Flinn', 'Broome', 'fbroomeo@tmall.com', 'Male'],\n",
       "       ['Any', 'Lewcock', 'alewcockp@nih.gov', 'Male'],\n",
       "       ['Halimeda', 'Drewet', 'hdrewetq@is.gd', 'Female'],\n",
       "       ['Melissa', 'Saundercock', 'msaundercockr@usnews.com', 'Female'],\n",
       "       ['Adrea', 'Sute', 'asutes@huffingtonpost.com', 'Female'],\n",
       "       ['Meaghan', 'Filan', 'mfilant@berkeley.edu', 'Female'],\n",
       "       ['Baldwin', \"O'Henehan\", 'bohenehanu@blogs.com', 'Male'],\n",
       "       ['Annabelle', 'McCaughen', 'amccaughenv@answers.com', 'Female'],\n",
       "       ['Allyn', 'Lias', 'aliasw@aol.com', 'Female'],\n",
       "       ['Katerina', 'Simounet', 'ksimounetx@shop-pro.jp', 'Female'],\n",
       "       ['Hedwig', 'Neild', 'hneildy@mashable.com', 'Female'],\n",
       "       ['Robbie', 'Stockport', 'rstockportz@ucoz.com', 'Male'],\n",
       "       ['Ofilia', 'Vasyatkin', 'ovasyatkin10@plala.or.jp', 'Female'],\n",
       "       ['Ashil', 'Daal', 'adaal11@skype.com', 'Female'],\n",
       "       ['Bradney', 'Erangey', 'berangey12@reverbnation.com', 'Male'],\n",
       "       ['Bibbye', 'Jarrelt', 'bjarrelt13@about.com', 'Female'],\n",
       "       ['Luciano', 'Wingatt', 'lwingatt14@ibm.com', 'Male'],\n",
       "       ['Izabel', 'Batisse', 'ibatisse15@bloglovin.com', 'Female'],\n",
       "       ['Cullen', 'Gjerde', 'cgjerde16@odnoklassniki.ru', 'Male'],\n",
       "       ['Hewitt', 'Lante', 'hlante17@ft.com', 'Male'],\n",
       "       ['Karel', 'Mounter', 'kmounter18@hao123.com', 'Male'],\n",
       "       ['Gratiana', 'Elletson', 'gelletson19@shareasale.com', 'Female'],\n",
       "       ['Robin', 'Reford', 'rreford1a@businessweek.com', 'Male'],\n",
       "       ['Ashlee', 'Rochewell', 'arochewell1b@mysql.com', 'Female'],\n",
       "       ['Isis', 'Woehler', 'iwoehler1c@paypal.com', 'Female'],\n",
       "       ['Cori', 'Lancley', 'clancley1d@arstechnica.com', 'Female'],\n",
       "       ['Alexio', 'Elsley', 'aelsley1e@ucoz.com', 'Male'],\n",
       "       ['Glenn', 'Paula', 'gpaula1f@patch.com', 'Male'],\n",
       "       ['Corena', 'Lenthall', 'clenthall1g@ow.ly', 'Female'],\n",
       "       ['Larina', 'Sallnow', 'lsallnow1h@xing.com', 'Female'],\n",
       "       ['Filberte', 'Zucker', 'fzucker1i@businessweek.com', 'Male'],\n",
       "       ['Roxane', 'Smeaton', 'rsmeaton1j@un.org', 'Female'],\n",
       "       ['Osborne', 'Buxton', 'obuxton1k@auda.org.au', 'Male'],\n",
       "       ['Kinnie', 'Zahor', 'kzahor1l@infoseek.co.jp', 'Male'],\n",
       "       ['Bourke', 'Karolewski', 'bkarolewski1m@berkeley.edu', 'Male'],\n",
       "       ['Oralee', 'Grabbam', 'ograbbam1n@stumbleupon.com', 'Female'],\n",
       "       ['Lorenza', 'Rikkard', 'lrikkard1o@zimbio.com', 'Female'],\n",
       "       ['Dasie', 'McRannell', 'dmcrannell1p@ustream.tv', 'Female'],\n",
       "       ['Cord', 'Stonhard', 'cstonhard1q@vimeo.com', 'Male'],\n",
       "       ['Dolph', 'Olander', 'dolander1r@theguardian.com', 'Male'],\n",
       "       ['Haydon', 'Salmoni', 'hsalmoni1s@cnbc.com', 'Male'],\n",
       "       ['Lauree', 'Cocksedge', 'lcocksedge1t@amazon.co.jp', 'Female'],\n",
       "       ['Hollyanne', 'Thomton', 'hthomton1u@unc.edu', 'Female'],\n",
       "       ['Barrie', 'Carillo', 'bcarillo1v@php.net', 'Male'],\n",
       "       ['Horst', 'Penney', 'hpenney1w@amazon.de', 'Male'],\n",
       "       ['Reba', 'Andraud', 'randraud1x@bbc.co.uk', 'Female'],\n",
       "       ['Rick', 'Birrane', 'rbirrane1y@mayoclinic.com', 'Male'],\n",
       "       ['Nicholas', 'Flinders', 'nflinders1z@washington.edu', 'Male'],\n",
       "       ['Farand', 'Oxford', 'foxford20@webmd.com', 'Female'],\n",
       "       ['Oswell', 'Dumper', 'odumper21@quantcast.com', 'Male'],\n",
       "       ['Flori', 'Ebbin', 'febbin22@oakley.com', 'Female'],\n",
       "       ['Daisie', 'Thying', 'dthying23@upenn.edu', 'Female'],\n",
       "       ['Ruben', 'Tichelaar', 'rtichelaar24@msu.edu', 'Male'],\n",
       "       ['Marylin', 'McCaighey', 'mmccaighey25@tuttocitta.it', 'Female'],\n",
       "       ['Lina', 'Yokley', 'lyokley26@acquirethisname.com', 'Female'],\n",
       "       ['Darnell', 'Keele', 'dkeele27@usgs.gov', 'Male'],\n",
       "       ['Evangelin', 'MacGaughie', 'emacgaughie28@netvibes.com',\n",
       "        'Female'],\n",
       "       ['Orren', 'Coats', 'ocoats29@dagondesign.com', 'Male'],\n",
       "       ['Cindi', 'Kearle', 'ckearle2a@wix.com', 'Female'],\n",
       "       ['Lon', 'Dmitrovic', 'ldmitrovic2b@pinterest.com', 'Male'],\n",
       "       ['Raviv', 'Dickson', 'rdickson2c@1688.com', 'Male'],\n",
       "       ['Barnabe', 'Lombard', 'blombard2d@wikispaces.com', 'Male'],\n",
       "       ['Hedwig', 'Canario', 'hcanario2e@youtu.be', 'Female'],\n",
       "       ['Leanna', 'Farrance', 'lfarrance2f@oakley.com', 'Female'],\n",
       "       ['Ashil', 'Saltwell', 'asaltwell2g@goo.gl', 'Female'],\n",
       "       ['Matthias', 'Matteris', 'mmatteris2h@e-recht24.de', 'Male'],\n",
       "       ['Gregory', 'Tetsall', 'gtetsall2i@canalblog.com', 'Male'],\n",
       "       ['Cybil', 'Spadaro', 'cspadaro2j@infoseek.co.jp', 'Female'],\n",
       "       ['Ariadne', 'Hillaby', 'ahillaby2k@naver.com', 'Female'],\n",
       "       ['Ree', 'Adamkiewicz', 'radamkiewicz2l@freewebs.com', 'Female'],\n",
       "       ['Patric', 'Dafydd', 'pdafydd2m@virginia.edu', 'Male'],\n",
       "       ['Theda', 'Lockton', 'tlockton2n@blogs.com', 'Female'],\n",
       "       ['Jamesy', 'Fitch', 'jfitch2o@pbs.org', 'Male'],\n",
       "       ['Briana', 'Maudett', 'bmaudett2p@ibm.com', 'Female'],\n",
       "       ['Martin', 'Ayrton', 'mayrton2q@alexa.com', 'Male'],\n",
       "       ['Obediah', 'Dallicoat', 'odallicoat2r@mediafire.com', 'Male']],\n",
       "      dtype='<U29')"
      ]
     },
     "execution_count": 5,
     "metadata": {},
     "output_type": "execute_result"
    }
   ],
   "source": [
    "data[...,range(1,5)]"
   ]
  },
  {
   "cell_type": "code",
   "execution_count": 137,
   "metadata": {},
   "outputs": [
    {
     "data": {
      "text/plain": [
       "array([['1', 'Angeli', 'Mapes', 'amapes0@chronoengine.com', 'Male'],\n",
       "       ['3', 'Humfrid', 'Sainsberry', 'hsainsberry2@disqus.com', 'Male'],\n",
       "       ['6', 'Hy', 'Robiot', 'hrobiot5@quantcast.com', 'Male'],\n",
       "       ['12', 'Llywellyn', 'Bullant', 'lbullantb@sfgate.com', 'Male'],\n",
       "       ['17', 'Josh', 'Belle', 'jbelleg@census.gov', 'Male'],\n",
       "       ['18', 'Jarad', 'Bresner', 'jbresnerh@51.la', 'Male'],\n",
       "       ['19', 'Reinaldos', 'Gianuzzi', 'rgianuzzii@slideshare.net',\n",
       "        'Male'],\n",
       "       ['21', 'Clayson', 'Jennaway', 'cjennawayk@usatoday.com', 'Male'],\n",
       "       ['22', 'Jed', 'McGilvray', 'jmcgilvrayl@jiathis.com', 'Male'],\n",
       "       ['23', 'Matteo', 'Zannotelli', 'mzannotellim@canalblog.com',\n",
       "        'Male'],\n",
       "       ['24', 'Carrol', 'Antos', 'cantosn@nydailynews.com', 'Male'],\n",
       "       ['25', 'Flinn', 'Broome', 'fbroomeo@tmall.com', 'Male'],\n",
       "       ['26', 'Any', 'Lewcock', 'alewcockp@nih.gov', 'Male'],\n",
       "       ['31', 'Baldwin', \"O'Henehan\", 'bohenehanu@blogs.com', 'Male'],\n",
       "       ['36', 'Robbie', 'Stockport', 'rstockportz@ucoz.com', 'Male'],\n",
       "       ['39', 'Bradney', 'Erangey', 'berangey12@reverbnation.com',\n",
       "        'Male'],\n",
       "       ['41', 'Luciano', 'Wingatt', 'lwingatt14@ibm.com', 'Male'],\n",
       "       ['43', 'Cullen', 'Gjerde', 'cgjerde16@odnoklassniki.ru', 'Male'],\n",
       "       ['44', 'Hewitt', 'Lante', 'hlante17@ft.com', 'Male'],\n",
       "       ['45', 'Karel', 'Mounter', 'kmounter18@hao123.com', 'Male'],\n",
       "       ['47', 'Robin', 'Reford', 'rreford1a@businessweek.com', 'Male'],\n",
       "       ['51', 'Alexio', 'Elsley', 'aelsley1e@ucoz.com', 'Male'],\n",
       "       ['52', 'Glenn', 'Paula', 'gpaula1f@patch.com', 'Male'],\n",
       "       ['55', 'Filberte', 'Zucker', 'fzucker1i@businessweek.com', 'Male'],\n",
       "       ['57', 'Osborne', 'Buxton', 'obuxton1k@auda.org.au', 'Male'],\n",
       "       ['58', 'Kinnie', 'Zahor', 'kzahor1l@infoseek.co.jp', 'Male'],\n",
       "       ['59', 'Bourke', 'Karolewski', 'bkarolewski1m@berkeley.edu',\n",
       "        'Male'],\n",
       "       ['63', 'Cord', 'Stonhard', 'cstonhard1q@vimeo.com', 'Male'],\n",
       "       ['64', 'Dolph', 'Olander', 'dolander1r@theguardian.com', 'Male'],\n",
       "       ['65', 'Haydon', 'Salmoni', 'hsalmoni1s@cnbc.com', 'Male'],\n",
       "       ['68', 'Barrie', 'Carillo', 'bcarillo1v@php.net', 'Male'],\n",
       "       ['69', 'Horst', 'Penney', 'hpenney1w@amazon.de', 'Male'],\n",
       "       ['71', 'Rick', 'Birrane', 'rbirrane1y@mayoclinic.com', 'Male'],\n",
       "       ['72', 'Nicholas', 'Flinders', 'nflinders1z@washington.edu',\n",
       "        'Male'],\n",
       "       ['74', 'Oswell', 'Dumper', 'odumper21@quantcast.com', 'Male'],\n",
       "       ['77', 'Ruben', 'Tichelaar', 'rtichelaar24@msu.edu', 'Male'],\n",
       "       ['80', 'Darnell', 'Keele', 'dkeele27@usgs.gov', 'Male'],\n",
       "       ['82', 'Orren', 'Coats', 'ocoats29@dagondesign.com', 'Male'],\n",
       "       ['84', 'Lon', 'Dmitrovic', 'ldmitrovic2b@pinterest.com', 'Male'],\n",
       "       ['85', 'Raviv', 'Dickson', 'rdickson2c@1688.com', 'Male'],\n",
       "       ['86', 'Barnabe', 'Lombard', 'blombard2d@wikispaces.com', 'Male'],\n",
       "       ['90', 'Matthias', 'Matteris', 'mmatteris2h@e-recht24.de', 'Male'],\n",
       "       ['91', 'Gregory', 'Tetsall', 'gtetsall2i@canalblog.com', 'Male'],\n",
       "       ['95', 'Patric', 'Dafydd', 'pdafydd2m@virginia.edu', 'Male'],\n",
       "       ['97', 'Jamesy', 'Fitch', 'jfitch2o@pbs.org', 'Male'],\n",
       "       ['99', 'Martin', 'Ayrton', 'mayrton2q@alexa.com', 'Male'],\n",
       "       ['100', 'Obediah', 'Dallicoat', 'odallicoat2r@mediafire.com',\n",
       "        'Male']], dtype='<U29')"
      ]
     },
     "execution_count": 137,
     "metadata": {},
     "output_type": "execute_result"
    }
   ],
   "source": [
    "Index=data[...,4]=='Male'\n",
    "data[Index]"
   ]
  },
  {
   "cell_type": "code",
   "execution_count": 141,
   "metadata": {},
   "outputs": [
    {
     "data": {
      "text/plain": [
       "array([ True, False,  True, False, False,  True, False, False, False,\n",
       "       False, False,  True, False, False, False, False,  True,  True,\n",
       "        True, False,  True,  True,  True,  True,  True,  True, False,\n",
       "       False, False, False,  True, False, False, False, False,  True,\n",
       "       False, False,  True, False,  True, False,  True,  True,  True,\n",
       "       False,  True, False, False, False,  True,  True, False, False,\n",
       "        True, False,  True,  True,  True, False, False, False,  True,\n",
       "        True,  True, False, False,  True,  True, False,  True,  True,\n",
       "       False,  True, False, False,  True, False, False,  True, False,\n",
       "        True, False,  True,  True,  True, False, False, False,  True,\n",
       "        True, False, False, False,  True, False,  True, False,  True,\n",
       "        True])"
      ]
     },
     "execution_count": 141,
     "metadata": {},
     "output_type": "execute_result"
    }
   ],
   "source": [
    "data[...,4]=='Male'"
   ]
  },
  {
   "cell_type": "code",
   "execution_count": 142,
   "metadata": {},
   "outputs": [
    {
     "data": {
      "text/plain": [
       "47"
      ]
     },
     "execution_count": 142,
     "metadata": {},
     "output_type": "execute_result"
    }
   ],
   "source": [
    "Male=data[data[...,4]=='Male']\n",
    "len(Male)"
   ]
  },
  {
   "cell_type": "code",
   "execution_count": 143,
   "metadata": {},
   "outputs": [
    {
     "data": {
      "text/plain": [
       "53"
      ]
     },
     "execution_count": 143,
     "metadata": {},
     "output_type": "execute_result"
    }
   ],
   "source": [
    "Female=data[data[...,4]=='Female']\n",
    "len(Female)"
   ]
  },
  {
   "cell_type": "code",
   "execution_count": 145,
   "metadata": {},
   "outputs": [
    {
     "data": {
      "text/plain": [
       "(array([ 0,  2,  5, 11, 16, 17, 18, 20, 21, 22, 23, 24, 25, 30, 35, 38, 40,\n",
       "        42, 43, 44, 46, 50, 51, 54, 56, 57, 58, 62, 63, 64, 67, 68, 70, 71,\n",
       "        73, 76, 79, 81, 83, 84, 85, 89, 90, 94, 96, 98, 99], dtype=int64),)"
      ]
     },
     "execution_count": 145,
     "metadata": {},
     "output_type": "execute_result"
    }
   ],
   "source": [
    "np.where(data[...,4]=='Male')"
   ]
  },
  {
   "cell_type": "code",
   "execution_count": 146,
   "metadata": {},
   "outputs": [
    {
     "data": {
      "text/plain": [
       "array([['1', 'Angeli', 'Mapes', 'amapes0@chronoengine.com', 'Male'],\n",
       "       ['3', 'Humfrid', 'Sainsberry', 'hsainsberry2@disqus.com', 'Male'],\n",
       "       ['6', 'Hy', 'Robiot', 'hrobiot5@quantcast.com', 'Male'],\n",
       "       ['12', 'Llywellyn', 'Bullant', 'lbullantb@sfgate.com', 'Male'],\n",
       "       ['17', 'Josh', 'Belle', 'jbelleg@census.gov', 'Male'],\n",
       "       ['18', 'Jarad', 'Bresner', 'jbresnerh@51.la', 'Male'],\n",
       "       ['19', 'Reinaldos', 'Gianuzzi', 'rgianuzzii@slideshare.net',\n",
       "        'Male'],\n",
       "       ['21', 'Clayson', 'Jennaway', 'cjennawayk@usatoday.com', 'Male'],\n",
       "       ['22', 'Jed', 'McGilvray', 'jmcgilvrayl@jiathis.com', 'Male'],\n",
       "       ['23', 'Matteo', 'Zannotelli', 'mzannotellim@canalblog.com',\n",
       "        'Male'],\n",
       "       ['24', 'Carrol', 'Antos', 'cantosn@nydailynews.com', 'Male'],\n",
       "       ['25', 'Flinn', 'Broome', 'fbroomeo@tmall.com', 'Male'],\n",
       "       ['26', 'Any', 'Lewcock', 'alewcockp@nih.gov', 'Male'],\n",
       "       ['31', 'Baldwin', \"O'Henehan\", 'bohenehanu@blogs.com', 'Male'],\n",
       "       ['36', 'Robbie', 'Stockport', 'rstockportz@ucoz.com', 'Male'],\n",
       "       ['39', 'Bradney', 'Erangey', 'berangey12@reverbnation.com',\n",
       "        'Male'],\n",
       "       ['41', 'Luciano', 'Wingatt', 'lwingatt14@ibm.com', 'Male'],\n",
       "       ['43', 'Cullen', 'Gjerde', 'cgjerde16@odnoklassniki.ru', 'Male'],\n",
       "       ['44', 'Hewitt', 'Lante', 'hlante17@ft.com', 'Male'],\n",
       "       ['45', 'Karel', 'Mounter', 'kmounter18@hao123.com', 'Male'],\n",
       "       ['47', 'Robin', 'Reford', 'rreford1a@businessweek.com', 'Male'],\n",
       "       ['51', 'Alexio', 'Elsley', 'aelsley1e@ucoz.com', 'Male'],\n",
       "       ['52', 'Glenn', 'Paula', 'gpaula1f@patch.com', 'Male'],\n",
       "       ['55', 'Filberte', 'Zucker', 'fzucker1i@businessweek.com', 'Male'],\n",
       "       ['57', 'Osborne', 'Buxton', 'obuxton1k@auda.org.au', 'Male'],\n",
       "       ['58', 'Kinnie', 'Zahor', 'kzahor1l@infoseek.co.jp', 'Male'],\n",
       "       ['59', 'Bourke', 'Karolewski', 'bkarolewski1m@berkeley.edu',\n",
       "        'Male'],\n",
       "       ['63', 'Cord', 'Stonhard', 'cstonhard1q@vimeo.com', 'Male'],\n",
       "       ['64', 'Dolph', 'Olander', 'dolander1r@theguardian.com', 'Male'],\n",
       "       ['65', 'Haydon', 'Salmoni', 'hsalmoni1s@cnbc.com', 'Male'],\n",
       "       ['68', 'Barrie', 'Carillo', 'bcarillo1v@php.net', 'Male'],\n",
       "       ['69', 'Horst', 'Penney', 'hpenney1w@amazon.de', 'Male'],\n",
       "       ['71', 'Rick', 'Birrane', 'rbirrane1y@mayoclinic.com', 'Male'],\n",
       "       ['72', 'Nicholas', 'Flinders', 'nflinders1z@washington.edu',\n",
       "        'Male'],\n",
       "       ['74', 'Oswell', 'Dumper', 'odumper21@quantcast.com', 'Male'],\n",
       "       ['77', 'Ruben', 'Tichelaar', 'rtichelaar24@msu.edu', 'Male'],\n",
       "       ['80', 'Darnell', 'Keele', 'dkeele27@usgs.gov', 'Male'],\n",
       "       ['82', 'Orren', 'Coats', 'ocoats29@dagondesign.com', 'Male'],\n",
       "       ['84', 'Lon', 'Dmitrovic', 'ldmitrovic2b@pinterest.com', 'Male'],\n",
       "       ['85', 'Raviv', 'Dickson', 'rdickson2c@1688.com', 'Male'],\n",
       "       ['86', 'Barnabe', 'Lombard', 'blombard2d@wikispaces.com', 'Male'],\n",
       "       ['90', 'Matthias', 'Matteris', 'mmatteris2h@e-recht24.de', 'Male'],\n",
       "       ['91', 'Gregory', 'Tetsall', 'gtetsall2i@canalblog.com', 'Male'],\n",
       "       ['95', 'Patric', 'Dafydd', 'pdafydd2m@virginia.edu', 'Male'],\n",
       "       ['97', 'Jamesy', 'Fitch', 'jfitch2o@pbs.org', 'Male'],\n",
       "       ['99', 'Martin', 'Ayrton', 'mayrton2q@alexa.com', 'Male'],\n",
       "       ['100', 'Obediah', 'Dallicoat', 'odallicoat2r@mediafire.com',\n",
       "        'Male']], dtype='<U29')"
      ]
     },
     "execution_count": 146,
     "metadata": {},
     "output_type": "execute_result"
    }
   ],
   "source": [
    "Index=np.where(data[...,4]=='Male')\n",
    "data[Index]"
   ]
  },
  {
   "cell_type": "code",
   "execution_count": 150,
   "metadata": {},
   "outputs": [],
   "source": [
    "np.savetxt(\"Male.csv\",Male,fmt='%s',delimiter=\",\")"
   ]
  },
  {
   "cell_type": "markdown",
   "metadata": {},
   "source": [
    "### Task: Count No of Male/Female"
   ]
  },
  {
   "cell_type": "code",
   "execution_count": null,
   "metadata": {},
   "outputs": [],
   "source": []
  }
 ],
 "metadata": {
  "kernelspec": {
   "display_name": "Python 3",
   "language": "python",
   "name": "python3"
  },
  "language_info": {
   "codemirror_mode": {
    "name": "ipython",
    "version": 3
   },
   "file_extension": ".py",
   "mimetype": "text/x-python",
   "name": "python",
   "nbconvert_exporter": "python",
   "pygments_lexer": "ipython3",
   "version": "3.7.4"
  }
 },
 "nbformat": 4,
 "nbformat_minor": 4
}
