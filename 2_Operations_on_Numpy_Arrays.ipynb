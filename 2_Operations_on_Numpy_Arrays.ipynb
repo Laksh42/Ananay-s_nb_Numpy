{
 "cells": [
  {
   "cell_type": "markdown",
   "metadata": {},
   "source": [
    "# Operations on NumPy Arrays\n",
    "\n",
    "The learning objectives of this section are:\n",
    "\n",
    "* Manipulate arrays\n",
    "    * Reshape arrays\n",
    "    * Stack arrays\n",
    "* Perform operations on arrays\n",
    "    * Perform basic mathematical operations\n",
    "    * Apply built-in functions \n",
    "    * Apply your own functions \n",
    "    * Apply basic linear algebra operations \n"
   ]
  },
  {
   "cell_type": "markdown",
   "metadata": {},
   "source": [
    "### Manipulating Arrays\n",
    "\n",
    "Let's look at some ways to manipulate arrays, i.e. changing the shape, combining and splitting arrays, etc.   \n",
    "\n",
    "#### Reshaping Arrays\n",
    "\n",
    "Reshaping is done using the ```reshape()``` function.\n"
   ]
  },
  {
   "cell_type": "code",
   "execution_count": 1,
   "metadata": {},
   "outputs": [
    {
     "name": "stdout",
     "output_type": "stream",
     "text": [
      "[[ 0  1  2  3]\n",
      " [ 4  5  6  7]\n",
      " [ 8  9 10 11]]\n"
     ]
    }
   ],
   "source": [
    "import numpy as np\n",
    "\n",
    "# Reshape a 1-D array to a 3 x 4 array\n",
    "some_array = np.arange(0, 12).reshape(3, 4)\n",
    "print(some_array)"
   ]
  },
  {
   "cell_type": "code",
   "execution_count": 2,
   "metadata": {},
   "outputs": [
    {
     "data": {
      "text/plain": [
       "array([[ 0,  1,  2,  3,  4,  5],\n",
       "       [ 6,  7,  8,  9, 10, 11]])"
      ]
     },
     "execution_count": 2,
     "metadata": {},
     "output_type": "execute_result"
    }
   ],
   "source": [
    "# Can reshape it further \n",
    "some_array.reshape(2, 6)"
   ]
  },
  {
   "cell_type": "code",
   "execution_count": 4,
   "metadata": {},
   "outputs": [
    {
     "data": {
      "text/plain": [
       "array([[ 0,  1,  2],\n",
       "       [ 3,  4,  5],\n",
       "       [ 6,  7,  8],\n",
       "       [ 9, 10, 11]])"
      ]
     },
     "execution_count": 4,
     "metadata": {},
     "output_type": "execute_result"
    }
   ],
   "source": [
    "# If you specify -1 as a dimension, the dimensions are automatically calculated\n",
    "# -1 means \"whatever dimension is needed\" \n",
    "some_array.reshape(4, -1)"
   ]
  },
  {
   "cell_type": "markdown",
   "metadata": {},
   "source": [
    "```array.T``` returns the transpose of an array."
   ]
  },
  {
   "cell_type": "code",
   "execution_count": 5,
   "metadata": {},
   "outputs": [
    {
     "name": "stdout",
     "output_type": "stream",
     "text": [
      "[[ 0  1  2  3]\n",
      " [ 4  5  6  7]\n",
      " [ 8  9 10 11]]\n"
     ]
    },
    {
     "data": {
      "text/plain": [
       "array([[ 0,  4,  8],\n",
       "       [ 1,  5,  9],\n",
       "       [ 2,  6, 10],\n",
       "       [ 3,  7, 11]])"
      ]
     },
     "execution_count": 5,
     "metadata": {},
     "output_type": "execute_result"
    }
   ],
   "source": [
    "# Transposing an array\n",
    "print(some_array)\n",
    "some_array.T"
   ]
  },
  {
   "cell_type": "markdown",
   "metadata": {},
   "source": [
    "### Stacking and Splitting Arrays\n",
    "\n",
    "#### Stacking: ```np.hstack()``` and ```n.vstack()```\n",
    "\n",
    "Stacking is done using the ```np.hstack()``` and ```np.vstack()``` methods. For horizontal stacking, the number of rows should be the same, while for vertical stacking, the number of columns should be the same."
   ]
  },
  {
   "cell_type": "code",
   "execution_count": 6,
   "metadata": {},
   "outputs": [
    {
     "name": "stdout",
     "output_type": "stream",
     "text": [
      "[[ 0  1  2  3]\n",
      " [ 4  5  6  7]\n",
      " [ 8  9 10 11]]\n",
      "\n",
      "\n",
      "[[ 0  1  2  3]\n",
      " [ 4  5  6  7]\n",
      " [ 8  9 10 11]\n",
      " [12 13 14 15]\n",
      " [16 17 18 19]]\n"
     ]
    }
   ],
   "source": [
    "# Creating two arrays\n",
    "array_1 = np.arange(12).reshape(3, 4)\n",
    "array_2 = np.arange(20).reshape(5, 4)\n",
    "\n",
    "print(array_1)\n",
    "print(\"\\n\")\n",
    "print(array_2)"
   ]
  },
  {
   "cell_type": "code",
   "execution_count": 7,
   "metadata": {},
   "outputs": [
    {
     "data": {
      "text/plain": [
       "array([[ 0,  1,  2,  3],\n",
       "       [ 4,  5,  6,  7],\n",
       "       [ 8,  9, 10, 11],\n",
       "       [ 0,  1,  2,  3],\n",
       "       [ 4,  5,  6,  7],\n",
       "       [ 8,  9, 10, 11],\n",
       "       [12, 13, 14, 15],\n",
       "       [16, 17, 18, 19]])"
      ]
     },
     "execution_count": 7,
     "metadata": {},
     "output_type": "execute_result"
    }
   ],
   "source": [
    "# vstack\n",
    "# Note that np.vstack(a, b) throws an error - you need to pass the arrays as a list\n",
    "np.vstack((array_1, array_2))"
   ]
  },
  {
   "cell_type": "markdown",
   "metadata": {},
   "source": [
    "Similarly, two arrays having the same number of rows can be horizontally stacked using ```np.hstack((a, b))```."
   ]
  },
  {
   "cell_type": "markdown",
   "metadata": {},
   "source": [
    "### Perform Operations on Arrays\n",
    "\n",
    "Performing mathematical operations on arrays is extremely simple. Let's see some common operations.\n",
    "\n",
    "\n",
    "#### Basic Mathematical Operations\n",
    "\n",
    "NumPy provides almost all the basic math functions - exp, sin, cos, log, sqrt etc. The function is applied to each element of the array.\n"
   ]
  },
  {
   "cell_type": "code",
   "execution_count": 8,
   "metadata": {},
   "outputs": [
    {
     "name": "stdout",
     "output_type": "stream",
     "text": [
      "[ 0.84147098  0.90929743  0.14112001 -0.7568025  -0.95892427 -0.2794155\n",
      "  0.6569866   0.98935825  0.41211849 -0.54402111 -0.99999021 -0.53657292\n",
      "  0.42016704  0.99060736  0.65028784 -0.28790332 -0.96139749 -0.75098725\n",
      "  0.14987721]\n",
      "[ 0.54030231 -0.41614684 -0.9899925  -0.65364362  0.28366219  0.96017029\n",
      "  0.75390225 -0.14550003 -0.91113026 -0.83907153  0.0044257   0.84385396\n",
      "  0.90744678  0.13673722 -0.75968791 -0.95765948 -0.27516334  0.66031671\n",
      "  0.98870462]\n",
      "[2.71828183e+00 7.38905610e+00 2.00855369e+01 5.45981500e+01\n",
      " 1.48413159e+02 4.03428793e+02 1.09663316e+03 2.98095799e+03\n",
      " 8.10308393e+03 2.20264658e+04 5.98741417e+04 1.62754791e+05\n",
      " 4.42413392e+05 1.20260428e+06 3.26901737e+06 8.88611052e+06\n",
      " 2.41549528e+07 6.56599691e+07 1.78482301e+08]\n",
      "[0.         0.69314718 1.09861229 1.38629436 1.60943791 1.79175947\n",
      " 1.94591015 2.07944154 2.19722458 2.30258509 2.39789527 2.48490665\n",
      " 2.56494936 2.63905733 2.7080502  2.77258872 2.83321334 2.89037176\n",
      " 2.94443898]\n"
     ]
    }
   ],
   "source": [
    "# Basic mathematical operations\n",
    "a = np.arange(1, 20)\n",
    "\n",
    "# sin, cos, exp, log\n",
    "print(np.sin(a))\n",
    "print(np.cos(a))\n",
    "print(np.exp(a))\n",
    "print(np.log(a))"
   ]
  },
  {
   "cell_type": "markdown",
   "metadata": {},
   "source": [
    "#### Apply User Defined Functions\n",
    "\n",
    "You can also apply your own functions on arrays. For e.g. applying the function ```x/(x+1)``` to each element of an array.\n",
    "\n",
    "One way to do that is by looping through the array, which is the non-numpy way. You would rather want to write **vectorised code**. \n",
    "\n",
    "The simplest way to do that is to vectorise the function you want, and then apply it on the array. Numpy provides the ```np.vectorize()``` method to vectorise functions.\n",
    "\n",
    "Let's look at both the ways to do it."
   ]
  },
  {
   "cell_type": "code",
   "execution_count": 9,
   "metadata": {},
   "outputs": [
    {
     "name": "stdout",
     "output_type": "stream",
     "text": [
      "[ 1  2  3  4  5  6  7  8  9 10 11 12 13 14 15 16 17 18 19]\n"
     ]
    }
   ],
   "source": [
    "print(a)"
   ]
  },
  {
   "cell_type": "code",
   "execution_count": 10,
   "metadata": {},
   "outputs": [
    {
     "name": "stdout",
     "output_type": "stream",
     "text": [
      "[0.5, 0.6666666666666666, 0.75, 0.8, 0.8333333333333334, 0.8571428571428571, 0.875, 0.8888888888888888, 0.9, 0.9090909090909091, 0.9166666666666666, 0.9230769230769231, 0.9285714285714286, 0.9333333333333333, 0.9375, 0.9411764705882353, 0.9444444444444444, 0.9473684210526315, 0.95]\n"
     ]
    }
   ],
   "source": [
    "# The non-numpy way, not recommended\n",
    "a_list = [x/(x+1) for x in a]\n",
    "print(a_list)"
   ]
  },
  {
   "cell_type": "code",
   "execution_count": 11,
   "metadata": {},
   "outputs": [
    {
     "data": {
      "text/plain": [
       "array([0.5       , 0.66666667, 0.75      , 0.8       , 0.83333333,\n",
       "       0.85714286, 0.875     , 0.88888889, 0.9       , 0.90909091,\n",
       "       0.91666667, 0.92307692, 0.92857143, 0.93333333, 0.9375    ,\n",
       "       0.94117647, 0.94444444, 0.94736842, 0.95      ])"
      ]
     },
     "execution_count": 11,
     "metadata": {},
     "output_type": "execute_result"
    }
   ],
   "source": [
    "# The numpy way: vectorize the function, then apply it\n",
    "f = np.vectorize(lambda x: x/(x+1))\n",
    "f(a)"
   ]
  },
  {
   "cell_type": "code",
   "execution_count": 9,
   "metadata": {},
   "outputs": [
    {
     "name": "stdout",
     "output_type": "stream",
     "text": [
      "3.625281572341919\n",
      "1.8700263500213623\n"
     ]
    }
   ],
   "source": [
    "import time\n",
    "a1=np.arange(1,10000000)\n",
    "e=time.time()\n",
    "l1=[x/(x+1) for x in a1]\n",
    "s=time.time()\n",
    "print(s-e)\n",
    "\n",
    "e=time.time()\n",
    "f=np.vectorize(lambda x:x/(x+1))\n",
    "f(a1)\n",
    "s=time.time()\n",
    "print(s-e)"
   ]
  },
  {
   "cell_type": "code",
   "execution_count": 12,
   "metadata": {},
   "outputs": [
    {
     "name": "stdout",
     "output_type": "stream",
     "text": [
      "[  1.  12.  23.  34.  45.  56.  67.  78.  89. 100.]\n"
     ]
    },
    {
     "data": {
      "text/plain": [
       "array([0.5       , 0.92307692, 0.95833333, 0.97142857, 0.97826087,\n",
       "       0.98245614, 0.98529412, 0.98734177, 0.98888889, 0.99009901])"
      ]
     },
     "execution_count": 12,
     "metadata": {},
     "output_type": "execute_result"
    }
   ],
   "source": [
    "# Apply function on a 2-d array: Applied to each element\n",
    "b = np.linspace(1, 100, 10)\n",
    "print(b)\n",
    "f(b)"
   ]
  },
  {
   "cell_type": "markdown",
   "metadata": {},
   "source": [
    "This also has the advantage that you can vectorize the function once, and then apply it as many times as needed. "
   ]
  },
  {
   "cell_type": "markdown",
   "metadata": {},
   "source": [
    "#### Apply Basic Linear Algebra Operations\n",
    "\n",
    "NumPy provides the ```np.linalg``` package to apply common linear algebra operations, such as:\n",
    "* ```np.linalg.inv```: Inverse of a matrix\n",
    "* ```np.linalg.det```: Determinant of a matrix\n",
    "* ```np.linalg.eig```: Eigenvalues and eigenvectors of a matrix\n",
    "    \n",
    "Also, you can multiple matrices using ```np.dot(a, b)```. \n"
   ]
  },
  {
   "cell_type": "code",
   "execution_count": 12,
   "metadata": {},
   "outputs": [
    {
     "name": "stdout",
     "output_type": "stream",
     "text": [
      "Help on package numpy.linalg in numpy:\n",
      "\n",
      "NAME\n",
      "    numpy.linalg\n",
      "\n",
      "DESCRIPTION\n",
      "    Core Linear Algebra Tools\n",
      "    -------------------------\n",
      "    Linear algebra basics:\n",
      "    \n",
      "    - norm            Vector or matrix norm\n",
      "    - inv             Inverse of a square matrix\n",
      "    - solve           Solve a linear system of equations\n",
      "    - det             Determinant of a square matrix\n",
      "    - lstsq           Solve linear least-squares problem\n",
      "    - pinv            Pseudo-inverse (Moore-Penrose) calculated using a singular\n",
      "                      value decomposition\n",
      "    - matrix_power    Integer power of a square matrix\n",
      "    \n",
      "    Eigenvalues and decompositions:\n",
      "    \n",
      "    - eig             Eigenvalues and vectors of a square matrix\n",
      "    - eigh            Eigenvalues and eigenvectors of a Hermitian matrix\n",
      "    - eigvals         Eigenvalues of a square matrix\n",
      "    - eigvalsh        Eigenvalues of a Hermitian matrix\n",
      "    - qr              QR decomposition of a matrix\n",
      "    - svd             Singular value decomposition of a matrix\n",
      "    - cholesky        Cholesky decomposition of a matrix\n",
      "    \n",
      "    Tensor operations:\n",
      "    \n",
      "    - tensorsolve     Solve a linear tensor equation\n",
      "    - tensorinv       Calculate an inverse of a tensor\n",
      "    \n",
      "    Exceptions:\n",
      "    \n",
      "    - LinAlgError     Indicates a failed linear algebra operation\n",
      "\n",
      "PACKAGE CONTENTS\n",
      "    _umath_linalg\n",
      "    info\n",
      "    lapack_lite\n",
      "    linalg\n",
      "    setup\n",
      "    tests (package)\n",
      "\n",
      "DATA\n",
      "    absolute_import = _Feature((2, 5, 0, 'alpha', 1), (3, 0, 0, 'alpha', 0...\n",
      "    division = _Feature((2, 2, 0, 'alpha', 2), (3, 0, 0, 'alpha', 0), 8192...\n",
      "    print_function = _Feature((2, 6, 0, 'alpha', 2), (3, 0, 0, 'alpha', 0)...\n",
      "\n",
      "FILE\n",
      "    c:\\users\\admin\\anaconda3\\lib\\site-packages\\numpy\\linalg\\__init__.py\n",
      "\n",
      "\n"
     ]
    }
   ],
   "source": [
    "# np.linalg documentation\n",
    "help(np.linalg)"
   ]
  },
  {
   "cell_type": "code",
   "execution_count": 1,
   "metadata": {},
   "outputs": [
    {
     "name": "stdout",
     "output_type": "stream",
     "text": [
      "[[10 11 12]\n",
      " [13 14 15]\n",
      " [16 17 18]]\n",
      "[[ 1  2  3  4]\n",
      " [ 5  6  7  8]\n",
      " [ 9 10 11 12]]\n"
     ]
    }
   ],
   "source": [
    "# Creating arrays\n",
    "import numpy as np\n",
    "a = np.arange(10, 19).reshape(3, 3)\n",
    "b= np.arange(1, 13).reshape(3, 4)\n",
    "print(a)\n",
    "print(b)"
   ]
  },
  {
   "cell_type": "code",
   "execution_count": 2,
   "metadata": {},
   "outputs": [
    {
     "data": {
      "text/plain": [
       "array([[ 32,   3,  42],\n",
       "       [ 34,  56,  88],\n",
       "       [464, 424,  24]])"
      ]
     },
     "execution_count": 2,
     "metadata": {},
     "output_type": "execute_result"
    }
   ],
   "source": [
    "l=[[32,3,42],[34,56,88],[464,424,24]]\n",
    "a=np.array(l)\n",
    "a"
   ]
  },
  {
   "cell_type": "code",
   "execution_count": 3,
   "metadata": {},
   "outputs": [
    {
     "data": {
      "text/plain": [
       "array([[ 0.02371333, -0.01169316,  0.0013766 ],\n",
       "       [-0.02638213,  0.0123419 ,  0.00091509],\n",
       "       [ 0.00762666,  0.00802751, -0.0011142 ]])"
      ]
     },
     "execution_count": 3,
     "metadata": {},
     "output_type": "execute_result"
    }
   ],
   "source": [
    "# Inverse\n",
    "np.linalg.inv(a)"
   ]
  },
  {
   "cell_type": "code",
   "execution_count": 18,
   "metadata": {},
   "outputs": [
    {
     "data": {
      "text/plain": [
       "-1516784.0000000026"
      ]
     },
     "execution_count": 18,
     "metadata": {},
     "output_type": "execute_result"
    }
   ],
   "source": [
    "# Determinant\n",
    "np.linalg.det(a)"
   ]
  },
  {
   "cell_type": "code",
   "execution_count": 14,
   "metadata": {},
   "outputs": [
    {
     "data": {
      "text/plain": [
       "(array([ 4.24242853e+01, -4.24285286e-01, -8.76087811e-16]),\n",
       " array([[-0.44819574, -0.73921067,  0.40824829],\n",
       "        [-0.5688793 , -0.03327957, -0.81649658],\n",
       "        [-0.68956285,  0.67265152,  0.40824829]]))"
      ]
     },
     "execution_count": 14,
     "metadata": {},
     "output_type": "execute_result"
    }
   ],
   "source": [
    "# Eigenvalues and eigenvectors\n",
    "np.linalg.eig(a)"
   ]
  },
  {
   "cell_type": "code",
   "execution_count": 17,
   "metadata": {
    "scrolled": true
   },
   "outputs": [
    {
     "data": {
      "text/plain": [
       "array([[ 38,  44,  50,  56],\n",
       "       [ 83,  98, 113, 128],\n",
       "       [128, 152, 176, 200]])"
      ]
     },
     "execution_count": 17,
     "metadata": {},
     "output_type": "execute_result"
    }
   ],
   "source": [
    "# Multiply matrices\n",
    "np.dot(a, b)"
   ]
  },
  {
   "cell_type": "code",
   "execution_count": 13,
   "metadata": {},
   "outputs": [
    {
     "data": {
      "text/plain": [
       "array([[857, 799, 722, 982],\n",
       "       [475,  73, 949, 136],\n",
       "       [799,  81, 749, 839]])"
      ]
     },
     "execution_count": 13,
     "metadata": {},
     "output_type": "execute_result"
    }
   ],
   "source": [
    "A=np.random.randint(1,1000,(3,4))\n",
    "A"
   ]
  },
  {
   "cell_type": "code",
   "execution_count": 14,
   "metadata": {},
   "outputs": [
    {
     "data": {
      "text/plain": [
       "[(857, 799, 722, 982), (475, 73, 949, 136), (799, 81, 749, 839)]"
      ]
     },
     "execution_count": 14,
     "metadata": {},
     "output_type": "execute_result"
    }
   ],
   "source": [
    "b=list(map(tuple,A))\n",
    "b"
   ]
  },
  {
   "cell_type": "code",
   "execution_count": 15,
   "metadata": {},
   "outputs": [
    {
     "name": "stdout",
     "output_type": "stream",
     "text": [
      "[(857, 799, 722, 982) (475,  73, 949, 136) (799,  81, 749, 839)]\n"
     ]
    }
   ],
   "source": [
    "dt = np.dtype([('n1', int),('n2', int),('n3', int),('n4', int)]) \n",
    "A1=np.array(b,dtype=dt)\n",
    "print(A1)"
   ]
  },
  {
   "cell_type": "code",
   "execution_count": 16,
   "metadata": {},
   "outputs": [
    {
     "data": {
      "text/plain": [
       "array([(475,  73, 949, 136), (799,  81, 749, 839), (857, 799, 722, 982)],\n",
       "      dtype=[('n1', '<i4'), ('n2', '<i4'), ('n3', '<i4'), ('n4', '<i4')])"
      ]
     },
     "execution_count": 16,
     "metadata": {},
     "output_type": "execute_result"
    }
   ],
   "source": [
    "np.sort(A1,order='n1')"
   ]
  },
  {
   "cell_type": "markdown",
   "metadata": {},
   "source": [
    "#### Stacking: Several arrays can be stacked together along different axes. \n",
    "\n",
    "* ```np.vstack```: To stack arrays along vertical axis.\n",
    "* ```np.hstack```: To stack arrays along horizontal axis.\n",
    "* ```np.column_stack```: To stack 1-D arrays as columns into 2-D arrays.\n",
    "* ```np.concatenate:```: To stack arrays along specified axis (axis is passed as argument).\n",
    "\n"
   ]
  },
  {
   "cell_type": "code",
   "execution_count": 4,
   "metadata": {},
   "outputs": [
    {
     "name": "stdout",
     "output_type": "stream",
     "text": [
      "Vertical stacking:\n",
      " [[1 2]\n",
      " [3 4]\n",
      " [5 6]\n",
      " [7 8]]\n",
      "\n",
      "Horizontal stacking:\n",
      " [[1 2 5 6]\n",
      " [3 4 7 8]]\n",
      "\n",
      "Column stacking:\n",
      " [[1 2 5]\n",
      " [3 4 6]]\n",
      "\n",
      "Concatenating to 2nd axis:\n",
      " [[1 2]\n",
      " [3 4]\n",
      " [5 6]\n",
      " [7 8]]\n"
     ]
    }
   ],
   "source": [
    "a = np.array([[1, 2], \n",
    "              [3, 4]]) \n",
    "  \n",
    "b = np.array([[5, 6], \n",
    "              [7, 8]]) \n",
    "  \n",
    "# vertical stacking \n",
    "print(\"Vertical stacking:\\n\", np.vstack((a, b))) \n",
    "  \n",
    "# horizontal stacking \n",
    "print(\"\\nHorizontal stacking:\\n\", np.hstack((a, b))) \n",
    "  \n",
    "c = [5, 6] \n",
    "  \n",
    "# stacking columns \n",
    "print(\"\\nColumn stacking:\\n\", np.column_stack((a, c))) \n",
    "  \n",
    "# concatenation method  \n",
    "print(\"\\nConcatenating to 2nd axis:\\n\", np.concatenate((a, b), 0))\n",
    "# OR print(\"\\nConcatenating to 2nd axis:\\n\", np.concatenate((a, b),axis= 0))"
   ]
  },
  {
   "cell_type": "markdown",
   "metadata": {},
   "source": [
    "### Splitting:For splitting, we have these functions:\n",
    "\n",
    "   * ```np.hsplit:``` Split array along horizontal axis.\n",
    "   * ```np.vsplit:``` Split array along vertical axis.\n",
    "   * ```np.array_split:``` Split array along specified axis.\n"
   ]
  },
  {
   "cell_type": "code",
   "execution_count": 8,
   "metadata": {},
   "outputs": [
    {
     "name": "stdout",
     "output_type": "stream",
     "text": [
      "Splitting along horizontal axis into 2 parts:\n",
      " [array([[1, 3],\n",
      "       [2, 4]]), array([[5, 7],\n",
      "       [6, 8]]), array([[ 9, 11],\n",
      "       [10, 12]])]\n",
      "\n",
      "Splitting along vertical axis into 2 parts:\n",
      " [array([[ 1,  3,  5,  7,  9, 11]]), array([[ 2,  4,  6,  8, 10, 12]])]\n"
     ]
    }
   ],
   "source": [
    "import numpy as np\n",
    "a = np.array([[1, 3, 5, 7, 9, 11], \n",
    "              [2, 4, 6, 8, 10, 12]]) \n",
    "  \n",
    "# horizontal splitting \n",
    "print(\"Splitting along horizontal axis into 2 parts:\\n\", np.hsplit(a, 3)) \n",
    "  \n",
    "# vertical splitting \n",
    "print(\"\\nSplitting along vertical axis into 2 parts:\\n\", np.vsplit(a, 2))"
   ]
  },
  {
   "cell_type": "markdown",
   "metadata": {},
   "source": [
    "### Sorting in Numpy"
   ]
  },
  {
   "cell_type": "code",
   "execution_count": 1,
   "metadata": {},
   "outputs": [
    {
     "data": {
      "text/plain": [
       "array([[30, 17, 15],\n",
       "       [19, 90, 16],\n",
       "       [69, 53, 21]])"
      ]
     },
     "execution_count": 1,
     "metadata": {},
     "output_type": "execute_result"
    }
   ],
   "source": [
    "import numpy as np  \n",
    "a = np.array([[30,17,15],[19,90,16],[69,53,21]]) \n",
    "a"
   ]
  },
  {
   "cell_type": "markdown",
   "metadata": {},
   "source": [
    "#### Applying sort() function:"
   ]
  },
  {
   "cell_type": "code",
   "execution_count": 3,
   "metadata": {},
   "outputs": [
    {
     "data": {
      "text/plain": [
       "array([19, 30, 69])"
      ]
     },
     "execution_count": 3,
     "metadata": {},
     "output_type": "execute_result"
    }
   ],
   "source": [
    "np.sort(a[...,0])"
   ]
  },
  {
   "cell_type": "code",
   "execution_count": 13,
   "metadata": {
    "scrolled": true
   },
   "outputs": [
    {
     "data": {
      "text/plain": [
       "array([[19, 17, 15],\n",
       "       [30, 53, 16],\n",
       "       [69, 90, 21]])"
      ]
     },
     "execution_count": 13,
     "metadata": {},
     "output_type": "execute_result"
    }
   ],
   "source": [
    "np.sort(a,axis=0) "
   ]
  },
  {
   "cell_type": "code",
   "execution_count": 10,
   "metadata": {},
   "outputs": [
    {
     "data": {
      "text/plain": [
       "[(480, 822, 511, 24), (838, 543, 915, 683), (562, 195, 196, 74)]"
      ]
     },
     "execution_count": 10,
     "metadata": {},
     "output_type": "execute_result"
    }
   ],
   "source": [
    "A=np.random.randint(1,1000,(3,4))\n",
    "A\n",
    "b=list(map(tuple,A))\n",
    "b"
   ]
  },
  {
   "cell_type": "code",
   "execution_count": 11,
   "metadata": {},
   "outputs": [
    {
     "name": "stdout",
     "output_type": "stream",
     "text": [
      "[(480, 822, 511,  24) (838, 543, 915, 683) (562, 195, 196,  74)]\n"
     ]
    }
   ],
   "source": [
    "dt = np.dtype([('n1', int),('n2', int),('n3', int),('n4', int)]) \n",
    "A1=np.array(b,dtype=dt)\n",
    "print(A1)"
   ]
  },
  {
   "cell_type": "code",
   "execution_count": 12,
   "metadata": {},
   "outputs": [
    {
     "data": {
      "text/plain": [
       "array([(480, 822, 511,  24), (562, 195, 196,  74), (838, 543, 915, 683)],\n",
       "      dtype=[('n1', '<i4'), ('n2', '<i4'), ('n3', '<i4'), ('n4', '<i4')])"
      ]
     },
     "execution_count": 12,
     "metadata": {},
     "output_type": "execute_result"
    }
   ],
   "source": [
    "np.sort(A1,order='n1')"
   ]
  },
  {
   "cell_type": "markdown",
   "metadata": {},
   "source": [
    "#### Order parameter in sort function "
   ]
  },
  {
   "cell_type": "code",
   "execution_count": 16,
   "metadata": {},
   "outputs": [
    {
     "data": {
      "text/plain": [
       "array([(b'Karan', 21), (b'Arpit', 25), (b'Ashish', 17), (b'Sam', 27),\n",
       "       (b'Robin', 22)], dtype=[('name', 'S10'), ('age', '<i4')])"
      ]
     },
     "execution_count": 16,
     "metadata": {},
     "output_type": "execute_result"
    }
   ],
   "source": [
    "dt = np.dtype([('name', 'S10'),('age', int)]) \n",
    "a = np.array([(\"Karan\",21),(\"Arpit\",25),(\"Ashish\", 17), (\"Sam\",27),(\"Robin\",22)], dtype = dt)  \n",
    "a "
   ]
  },
  {
   "cell_type": "markdown",
   "metadata": {},
   "source": [
    "#### Order by name"
   ]
  },
  {
   "cell_type": "code",
   "execution_count": 17,
   "metadata": {},
   "outputs": [
    {
     "data": {
      "text/plain": [
       "array([(b'Arpit', 25), (b'Ashish', 17), (b'Karan', 21), (b'Robin', 22),\n",
       "       (b'Sam', 27)], dtype=[('name', 'S10'), ('age', '<i4')])"
      ]
     },
     "execution_count": 17,
     "metadata": {},
     "output_type": "execute_result"
    }
   ],
   "source": [
    "np.sort(a, order = 'name')"
   ]
  },
  {
   "cell_type": "markdown",
   "metadata": {},
   "source": [
    "#### Order by age:"
   ]
  },
  {
   "cell_type": "code",
   "execution_count": 18,
   "metadata": {},
   "outputs": [
    {
     "data": {
      "text/plain": [
       "array([(b'Ashish', 17), (b'Karan', 21), (b'Robin', 22), (b'Arpit', 25),\n",
       "       (b'Sam', 27)], dtype=[('name', 'S10'), ('age', '<i4')])"
      ]
     },
     "execution_count": 18,
     "metadata": {},
     "output_type": "execute_result"
    }
   ],
   "source": [
    "data=np.sort(a, order = 'age')\n",
    "data"
   ]
  },
  {
   "cell_type": "markdown",
   "metadata": {},
   "source": [
    "### `Read from CSV File`"
   ]
  },
  {
   "cell_type": "code",
   "execution_count": 8,
   "metadata": {},
   "outputs": [
    {
     "data": {
      "text/plain": [
       "array([['1', 'Angeli', 'Mapes', 'amapes0@chronoengine.com', 'Male'],\n",
       "       ['2', 'Petronille', 'Helmke', 'phelmke1@walmart.com', 'Female'],\n",
       "       ['3', 'Humfrid', 'Sainsberry', 'hsainsberry2@disqus.com', 'Male'],\n",
       "       ['4', 'Kaja', 'Carnson', 'kcarnson3@amazon.de', 'Female'],\n",
       "       ['5', 'Basia', 'Narraway', 'bnarraway4@bloomberg.com', 'Female'],\n",
       "       ['6', 'Hy', 'Robiot', 'hrobiot5@quantcast.com', 'Male'],\n",
       "       ['7', 'Angelika', 'Pedrocco', 'apedrocco6@quantcast.com',\n",
       "        'Female'],\n",
       "       ['8', 'Brigit', 'Olivie', 'bolivie7@so-net.ne.jp', 'Female'],\n",
       "       ['9', 'Marjorie', 'Coope', 'mcoope8@microsoft.com', 'Female'],\n",
       "       ['10', 'Demetra', 'Gumey', 'dgumey9@gmpg.org', 'Female'],\n",
       "       ['11', 'Geneva', 'Vasentsov', 'gvasentsova@wsj.com', 'Female'],\n",
       "       ['12', 'Llywellyn', 'Bullant', 'lbullantb@sfgate.com', 'Male'],\n",
       "       ['13', 'Ruperta', 'Dudin', 'rdudinc@dailymotion.com', 'Female'],\n",
       "       ['14', 'Page', 'Ferrotti', 'pferrottid@mashable.com', 'Female'],\n",
       "       ['15', 'Fara', 'Mannooch', 'fmannooche@bizjournals.com', 'Female'],\n",
       "       ['16', 'Manon', 'Focke', 'mfockef@oracle.com', 'Female'],\n",
       "       ['17', 'Josh', 'Belle', 'jbelleg@census.gov', 'Male'],\n",
       "       ['18', 'Jarad', 'Bresner', 'jbresnerh@51.la', 'Male'],\n",
       "       ['19', 'Reinaldos', 'Gianuzzi', 'rgianuzzii@slideshare.net',\n",
       "        'Male'],\n",
       "       ['20', 'Carlene', 'Willans', 'cwillansj@ed.gov', 'Female'],\n",
       "       ['21', 'Clayson', 'Jennaway', 'cjennawayk@usatoday.com', 'Male'],\n",
       "       ['22', 'Jed', 'McGilvray', 'jmcgilvrayl@jiathis.com', 'Male'],\n",
       "       ['23', 'Matteo', 'Zannotelli', 'mzannotellim@canalblog.com',\n",
       "        'Male'],\n",
       "       ['24', 'Carrol', 'Antos', 'cantosn@nydailynews.com', 'Male'],\n",
       "       ['25', 'Flinn', 'Broome', 'fbroomeo@tmall.com', 'Male'],\n",
       "       ['26', 'Any', 'Lewcock', 'alewcockp@nih.gov', 'Male'],\n",
       "       ['27', 'Halimeda', 'Drewet', 'hdrewetq@is.gd', 'Female'],\n",
       "       ['28', 'Melissa', 'Saundercock', 'msaundercockr@usnews.com',\n",
       "        'Female'],\n",
       "       ['29', 'Adrea', 'Sute', 'asutes@huffingtonpost.com', 'Female'],\n",
       "       ['30', 'Meaghan', 'Filan', 'mfilant@berkeley.edu', 'Female'],\n",
       "       ['31', 'Baldwin', \"O'Henehan\", 'bohenehanu@blogs.com', 'Male'],\n",
       "       ['32', 'Annabelle', 'McCaughen', 'amccaughenv@answers.com',\n",
       "        'Female'],\n",
       "       ['33', 'Allyn', 'Lias', 'aliasw@aol.com', 'Female'],\n",
       "       ['34', 'Katerina', 'Simounet', 'ksimounetx@shop-pro.jp', 'Female'],\n",
       "       ['35', 'Hedwig', 'Neild', 'hneildy@mashable.com', 'Female'],\n",
       "       ['36', 'Robbie', 'Stockport', 'rstockportz@ucoz.com', 'Male'],\n",
       "       ['37', 'Ofilia', 'Vasyatkin', 'ovasyatkin10@plala.or.jp',\n",
       "        'Female'],\n",
       "       ['38', 'Ashil', 'Daal', 'adaal11@skype.com', 'Female'],\n",
       "       ['39', 'Bradney', 'Erangey', 'berangey12@reverbnation.com',\n",
       "        'Male'],\n",
       "       ['40', 'Bibbye', 'Jarrelt', 'bjarrelt13@about.com', 'Female'],\n",
       "       ['41', 'Luciano', 'Wingatt', 'lwingatt14@ibm.com', 'Male'],\n",
       "       ['42', 'Izabel', 'Batisse', 'ibatisse15@bloglovin.com', 'Female'],\n",
       "       ['43', 'Cullen', 'Gjerde', 'cgjerde16@odnoklassniki.ru', 'Male'],\n",
       "       ['44', 'Hewitt', 'Lante', 'hlante17@ft.com', 'Male'],\n",
       "       ['45', 'Karel', 'Mounter', 'kmounter18@hao123.com', 'Male'],\n",
       "       ['46', 'Gratiana', 'Elletson', 'gelletson19@shareasale.com',\n",
       "        'Female'],\n",
       "       ['47', 'Robin', 'Reford', 'rreford1a@businessweek.com', 'Male'],\n",
       "       ['48', 'Ashlee', 'Rochewell', 'arochewell1b@mysql.com', 'Female'],\n",
       "       ['49', 'Isis', 'Woehler', 'iwoehler1c@paypal.com', 'Female'],\n",
       "       ['50', 'Cori', 'Lancley', 'clancley1d@arstechnica.com', 'Female'],\n",
       "       ['51', 'Alexio', 'Elsley', 'aelsley1e@ucoz.com', 'Male'],\n",
       "       ['52', 'Glenn', 'Paula', 'gpaula1f@patch.com', 'Male'],\n",
       "       ['53', 'Corena', 'Lenthall', 'clenthall1g@ow.ly', 'Female'],\n",
       "       ['54', 'Larina', 'Sallnow', 'lsallnow1h@xing.com', 'Female'],\n",
       "       ['55', 'Filberte', 'Zucker', 'fzucker1i@businessweek.com', 'Male'],\n",
       "       ['56', 'Roxane', 'Smeaton', 'rsmeaton1j@un.org', 'Female'],\n",
       "       ['57', 'Osborne', 'Buxton', 'obuxton1k@auda.org.au', 'Male'],\n",
       "       ['58', 'Kinnie', 'Zahor', 'kzahor1l@infoseek.co.jp', 'Male'],\n",
       "       ['59', 'Bourke', 'Karolewski', 'bkarolewski1m@berkeley.edu',\n",
       "        'Male'],\n",
       "       ['60', 'Oralee', 'Grabbam', 'ograbbam1n@stumbleupon.com',\n",
       "        'Female'],\n",
       "       ['61', 'Lorenza', 'Rikkard', 'lrikkard1o@zimbio.com', 'Female'],\n",
       "       ['62', 'Dasie', 'McRannell', 'dmcrannell1p@ustream.tv', 'Female'],\n",
       "       ['63', 'Cord', 'Stonhard', 'cstonhard1q@vimeo.com', 'Male'],\n",
       "       ['64', 'Dolph', 'Olander', 'dolander1r@theguardian.com', 'Male'],\n",
       "       ['65', 'Haydon', 'Salmoni', 'hsalmoni1s@cnbc.com', 'Male'],\n",
       "       ['66', 'Lauree', 'Cocksedge', 'lcocksedge1t@amazon.co.jp',\n",
       "        'Female'],\n",
       "       ['67', 'Hollyanne', 'Thomton', 'hthomton1u@unc.edu', 'Female'],\n",
       "       ['68', 'Barrie', 'Carillo', 'bcarillo1v@php.net', 'Male'],\n",
       "       ['69', 'Horst', 'Penney', 'hpenney1w@amazon.de', 'Male'],\n",
       "       ['70', 'Reba', 'Andraud', 'randraud1x@bbc.co.uk', 'Female'],\n",
       "       ['71', 'Rick', 'Birrane', 'rbirrane1y@mayoclinic.com', 'Male'],\n",
       "       ['72', 'Nicholas', 'Flinders', 'nflinders1z@washington.edu',\n",
       "        'Male'],\n",
       "       ['73', 'Farand', 'Oxford', 'foxford20@webmd.com', 'Female'],\n",
       "       ['74', 'Oswell', 'Dumper', 'odumper21@quantcast.com', 'Male'],\n",
       "       ['75', 'Flori', 'Ebbin', 'febbin22@oakley.com', 'Female'],\n",
       "       ['76', 'Daisie', 'Thying', 'dthying23@upenn.edu', 'Female'],\n",
       "       ['77', 'Ruben', 'Tichelaar', 'rtichelaar24@msu.edu', 'Male'],\n",
       "       ['78', 'Marylin', 'McCaighey', 'mmccaighey25@tuttocitta.it',\n",
       "        'Female'],\n",
       "       ['79', 'Lina', 'Yokley', 'lyokley26@acquirethisname.com',\n",
       "        'Female'],\n",
       "       ['80', 'Darnell', 'Keele', 'dkeele27@usgs.gov', 'Male'],\n",
       "       ['81', 'Evangelin', 'MacGaughie', 'emacgaughie28@netvibes.com',\n",
       "        'Female'],\n",
       "       ['82', 'Orren', 'Coats', 'ocoats29@dagondesign.com', 'Male'],\n",
       "       ['83', 'Cindi', 'Kearle', 'ckearle2a@wix.com', 'Female'],\n",
       "       ['84', 'Lon', 'Dmitrovic', 'ldmitrovic2b@pinterest.com', 'Male'],\n",
       "       ['85', 'Raviv', 'Dickson', 'rdickson2c@1688.com', 'Male'],\n",
       "       ['86', 'Barnabe', 'Lombard', 'blombard2d@wikispaces.com', 'Male'],\n",
       "       ['87', 'Hedwig', 'Canario', 'hcanario2e@youtu.be', 'Female'],\n",
       "       ['88', 'Leanna', 'Farrance', 'lfarrance2f@oakley.com', 'Female'],\n",
       "       ['89', 'Ashil', 'Saltwell', 'asaltwell2g@goo.gl', 'Female'],\n",
       "       ['90', 'Matthias', 'Matteris', 'mmatteris2h@e-recht24.de', 'Male'],\n",
       "       ['91', 'Gregory', 'Tetsall', 'gtetsall2i@canalblog.com', 'Male'],\n",
       "       ['92', 'Cybil', 'Spadaro', 'cspadaro2j@infoseek.co.jp', 'Female'],\n",
       "       ['93', 'Ariadne', 'Hillaby', 'ahillaby2k@naver.com', 'Female'],\n",
       "       ['94', 'Ree', 'Adamkiewicz', 'radamkiewicz2l@freewebs.com',\n",
       "        'Female'],\n",
       "       ['95', 'Patric', 'Dafydd', 'pdafydd2m@virginia.edu', 'Male'],\n",
       "       ['96', 'Theda', 'Lockton', 'tlockton2n@blogs.com', 'Female'],\n",
       "       ['97', 'Jamesy', 'Fitch', 'jfitch2o@pbs.org', 'Male'],\n",
       "       ['98', 'Briana', 'Maudett', 'bmaudett2p@ibm.com', 'Female'],\n",
       "       ['99', 'Martin', 'Ayrton', 'mayrton2q@alexa.com', 'Male'],\n",
       "       ['100', 'Obediah', 'Dallicoat', 'odallicoat2r@mediafire.com',\n",
       "        'Male']], dtype='<U29')"
      ]
     },
     "execution_count": 8,
     "metadata": {},
     "output_type": "execute_result"
    }
   ],
   "source": [
    "import numpy as np\n",
    "a = np.genfromtxt('data.csv', delimiter=',', dtype=str)\n",
    "a"
   ]
  },
  {
   "cell_type": "code",
   "execution_count": null,
   "metadata": {},
   "outputs": [],
   "source": []
  }
 ],
 "metadata": {
  "kernelspec": {
   "display_name": "Python 3",
   "language": "python",
   "name": "python3"
  },
  "language_info": {
   "codemirror_mode": {
    "name": "ipython",
    "version": 3
   },
   "file_extension": ".py",
   "mimetype": "text/x-python",
   "name": "python",
   "nbconvert_exporter": "python",
   "pygments_lexer": "ipython3",
   "version": "3.7.4"
  }
 },
 "nbformat": 4,
 "nbformat_minor": 2
}
